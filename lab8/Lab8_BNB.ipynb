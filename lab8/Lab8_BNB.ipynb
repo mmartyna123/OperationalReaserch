{
 "cells": [
  {
   "cell_type": "markdown",
   "metadata": {},
   "source": [
    "# Lab 8 - Integer Programming - BnB for MIP"
   ]
  },
  {
   "cell_type": "markdown",
   "metadata": {},
   "source": [
    "Information on group members:\n",
    "\n",
    "1) Student ID, Name and last name <br>\n",
    "2) Student ID, Name and last name"
   ]
  },
  {
   "cell_type": "code",
   "execution_count": 63,
   "metadata": {},
   "outputs": [],
   "source": [
    "from pulp import *  \n",
    "import numpy as np\n",
    "import pandas as pd\n",
    "import heapq"
   ]
  },
  {
   "cell_type": "markdown",
   "metadata": {},
   "source": [
    "1) Given is the below MIP problem. Note that the first 5 variables are of an integer type with specified upper bounds"
   ]
  },
  {
   "cell_type": "code",
   "execution_count": 64,
   "metadata": {},
   "outputs": [
    {
     "name": "stdout",
     "output_type": "stream",
     "text": [
      "bnb-problem:\n",
      "MAXIMIZE\n",
      "5*x1 + 10*x10 + 7*x2 + 5*x3 + 5*x4 + 5*x5 + 5*x6 + 7*x7 + 4*x8 + 9*x9 + 0\n",
      "SUBJECT TO\n",
      "baseC1: 3 x2 + 2 x3 - 3 x7 - x8 <= 10\n",
      "\n",
      "baseC2: x1 + x10 + x2 + 2 x4 - x8 + 2 x9 <= 15\n",
      "\n",
      "baseC3: 2 x3 - 2 x4 + 3 x5 - 2 x7 + 2 x8 + x9 <= 20\n",
      "\n",
      "baseC4: x10 + 2 x3 - x6 <= 20\n",
      "\n",
      "baseC5: x10 + 2 x2 - 2 x6 <= 30\n",
      "\n",
      "baseC6: x1 + 4 x2 - 3 x7 + 6 x8 + 2 x9 <= 50\n",
      "\n",
      "baseC7: 2 x1 + 2 x10 + 2 x2 + 2 x5 + 2 x6 + 2 x9 <= 40\n",
      "\n",
      "baseC8: x10 + 3 x3 - x5 + x6 - x8 <= 20\n",
      "\n",
      "baseC9: 3 x10 + 5 x5 + x7 + x8 <= 25\n",
      "\n",
      "baseC10: 2 x1 - 7 x2 + x6 + 8 x8 + 2 x9 <= 25\n",
      "\n",
      "VARIABLES\n",
      "0 <= x1 <= 5 Integer\n",
      "x10 <= 3 Continuous\n",
      "0 <= x2 <= 8 Integer\n",
      "0 <= x3 <= 4 Integer\n",
      "0 <= x4 <= 5 Integer\n",
      "0 <= x5 <= 4 Integer\n",
      "x6 <= 5 Continuous\n",
      "x7 <= 5 Continuous\n",
      "x8 <= 3 Continuous\n",
      "x9 <= 3 Continuous\n",
      "\n"
     ]
    }
   ],
   "source": [
    "def getProblem(relaxed = False):\n",
    "    \n",
    "    A = [\n",
    "        [0,3,2,0,0,0,-3,-1,0,0],\n",
    "        [1,1,0,2,0,0,0,-1,2,1],\n",
    "        [0,0,2,-2,3,0,-2,2,1,0],\n",
    "        [0,0,2,0,0,-1,0,0,0,1],\n",
    "        [0,2,0,0,0,-2,0,0,0,1],\n",
    "        [1,4,0,0,0,0,-3,6,2,0],\n",
    "        [2,2,0,0,2,2,0,0,2,2],\n",
    "        [0,0,3,0,-1,1,0,-1,0,1],\n",
    "        [0,0,0,0,5,0,1,1,0,3],\n",
    "        [2,-7,0,0,0,1,0,8,2,0]]\n",
    "    b = [10,15,20,20,30,50,40,20,25,25]\n",
    "    c = [5, 7, 5, 5, 5, 5, 7, 4, 9, 10]\n",
    "    uB = [5, 8, 4, 5, 4, 5, 5, 3, 3, 3]\n",
    "    \n",
    "    problem = LpProblem(name=\"bnb-problem\", sense=LpMaximize)\n",
    "    \n",
    "    ### 5 integers and 3 continuous (if relaxed, 8 cont.)\n",
    "    cat = ['Integer' for i in range(5)] + ['Continuous' for i in range(5)]\n",
    "    if relaxed: cat = ['Continuous' for i in range(5)] + ['Continuous' for i in range(5)]\n",
    "        \n",
    "    x = [LpVariable(name=\"x\"+ str(i+1), lowBound=0, upBound=uB[i], cat = cat[i]) for i in range(10)]\n",
    "    \n",
    "    for r in range(10):\n",
    "        expr = lpSum([x[j] * A[r][j] for j in range(10)])\n",
    "        problem += LpConstraint(e=expr, sense = -1, name = \"baseC\"+str(r+1), rhs = b[r])\n",
    "        \n",
    "    obj_func = lpSum([x[j] * c[j] for j in range(10)])\n",
    "    problem += obj_func\n",
    "    \n",
    "    return x, problem\n",
    "\n",
    "x, P = getProblem()\n",
    "print(P)"
   ]
  },
  {
   "cell_type": "markdown",
   "metadata": {},
   "source": [
    "2) The below function returns None if the problem has no feasible solutions. Otherwise, it returns a tuple: objective function values and a vector of decision variables. "
   ]
  },
  {
   "cell_type": "code",
   "execution_count": 65,
   "metadata": {},
   "outputs": [],
   "source": [
    "def getSolution(x, problem):\n",
    "    status = problem.solve()\n",
    "    if problem.status != 1: return None\n",
    "    return problem.objective.value(), [_.value() for _ in x]"
   ]
  },
  {
   "cell_type": "markdown",
   "metadata": {},
   "source": [
    "3) PuLP can solve MIP problems. Hence, the \"relaxed\" flag can be set to False. Solve the problem and analyze the obtained outcome.  "
   ]
  },
  {
   "cell_type": "code",
   "execution_count": 66,
   "metadata": {},
   "outputs": [
    {
     "name": "stdout",
     "output_type": "stream",
     "text": [
      "(207.0, [3.0, 6.0, 4.0, 1.0, 1.0, 5.0, 5.0, 3.0, 2.0, 3.0])\n"
     ]
    }
   ],
   "source": [
    "x, problem = getProblem(relaxed = False)\n",
    "print(getSolution(x, problem))"
   ]
  },
  {
   "cell_type": "markdown",
   "metadata": {},
   "source": [
    "4) Now, compare this solution with the one obtained for the relaxed LP problem: "
   ]
  },
  {
   "cell_type": "code",
   "execution_count": 67,
   "metadata": {},
   "outputs": [
    {
     "name": "stdout",
     "output_type": "stream",
     "text": [
      "(211.33333355000002, [0.73333333, 6.6666667, 4.0, 0.8, 1.6, 5.0, 5.0, 3.0, 3.0, 3.0])\n"
     ]
    }
   ],
   "source": [
    "x, problem = getProblem(relaxed = True)\n",
    "print(getSolution(x, problem))"
   ]
  },
  {
   "cell_type": "markdown",
   "metadata": {},
   "source": [
    "5) Your task is to implement the Branch and Bound Algorithm for solving MIP problems. You can use the PuLP library for solving the relaxed LP subproblems. <br>\n",
    "<ul> \n",
    "    <li> Firstly, as a node selection policy, implement the default DFS-like strategy as shown in the lecture (generate both children in one iteration; prioritize the left children, i.e., associated with the \"<=\" constraint). As for the variable selection policy, take the one with the lowest index  (default, arbitrary selection). \n",
    "<li> Identify how many LP relaxed problems have to be solved to find the optimum. Note that such a number was reported to be 35 for the default policies. However, it may vary slightly for different solvers due to possible multiple sub-optima.\n",
    "<li> Propose at least 3 new node and variable selection policies with the aim of minimizing the number of solver runs required to reach the optimum.  Try getting below 20. \n",
    "    </ul>"
   ]
  },
  {
   "cell_type": "code",
   "execution_count": 72,
   "metadata": {},
   "outputs": [],
   "source": [
    "from collections import deque\n",
    "from pulp import LpConstraint, LpVariable, lpSum\n",
    "import matplotlib.pyplot as plt\n",
    "\n",
    "# DFS-based Branch and Bound function\n",
    "def dfs_branch_and_bound(variable_selection_policy):\n",
    "    x, initial_problem = getProblem(relaxed=True)\n",
    "    initial_solution = getSolution(x, initial_problem)\n",
    "\n",
    "    if initial_solution is None:\n",
    "        return None, 0\n",
    "\n",
    "    best_solution = None\n",
    "    best_obj_value = float('-inf')\n",
    "\n",
    "    # Initialize stack for DFS\n",
    "    stack = [(initial_problem, initial_solution)]\n",
    "\n",
    "    lp_relaxations_solved = 0\n",
    "\n",
    "    while stack:\n",
    "        # Pop the last node (DFS)\n",
    "        current_problem, current_solution = stack.pop()\n",
    "\n",
    "        lp_relaxations_solved += 1\n",
    "        obj_value, solution = current_solution\n",
    "\n",
    "        # Check if the solution is better than the current best\n",
    "        if obj_value > best_obj_value:\n",
    "            best_solution = solution\n",
    "            best_obj_value = obj_value\n",
    "\n",
    "        # Find the first variable with a fractional value for branching\n",
    "        branching_var = None\n",
    "        for idx, val in enumerate(solution):\n",
    "            if val % 1 != 0:\n",
    "                branching_var = variable_selection_policy(solution, x, current_problem)\n",
    "                break\n",
    "\n",
    "        if branching_var is None:\n",
    "            continue\n",
    "\n",
    "        # Branch by creating two subproblems\n",
    "        left_problem = current_problem.deepcopy()\n",
    "        left_problem += LpConstraint(e=branching_var <= int(solution[x.index(branching_var)]) - 1, name=f\"branch_left_{branching_var.name}\")\n",
    "\n",
    "        right_problem = current_problem.deepcopy()\n",
    "        right_problem += LpConstraint(e=branching_var >= int(solution[x.index(branching_var)]) + 1, name=f\"branch_right_{branching_var.name}\")\n",
    "\n",
    "        for new_problem in [left_problem, right_problem]:\n",
    "            new_solution = getSolution(x, new_problem)\n",
    "            if new_solution:\n",
    "                stack.append((new_problem, new_solution))\n",
    "\n",
    "    return best_solution, best_obj_value, lp_relaxations_solved\n",
    "\n",
    "# BFS-based Branch and Bound function\n",
    "def bfs_branch_and_bound(variable_selection_policy):\n",
    "    x, initial_problem = getProblem(relaxed=True)\n",
    "    initial_solution = getSolution(x, initial_problem)\n",
    "\n",
    "    if initial_solution is None:\n",
    "        return None, 0\n",
    "\n",
    "    best_solution = None\n",
    "    best_obj_value = float('-inf')\n",
    "\n",
    "    # Initialize queue for BFS\n",
    "    queue = deque([(initial_problem, initial_solution)])\n",
    "\n",
    "    lp_relaxations_solved = 0\n",
    "\n",
    "    while queue:\n",
    "        # Pop the first node (BFS)\n",
    "        current_problem, current_solution = queue.popleft()\n",
    "\n",
    "        lp_relaxations_solved += 1\n",
    "        obj_value, solution = current_solution\n",
    "\n",
    "        # Check if the solution is better than the current best\n",
    "        if obj_value > best_obj_value:\n",
    "            best_solution = solution\n",
    "            best_obj_value = obj_value\n",
    "\n",
    "        # Find the first variable with a fractional value for branching\n",
    "        branching_var = None\n",
    "        for idx, val in enumerate(solution):\n",
    "            if val % 1 != 0:\n",
    "                branching_var = variable_selection_policy(solution, x, current_problem)\n",
    "                break\n",
    "\n",
    "        if branching_var is None:\n",
    "            continue\n",
    "\n",
    "        # Branch by creating two subproblems\n",
    "        left_problem = current_problem.deepcopy()\n",
    "        left_problem += LpConstraint(e=branching_var <= int(solution[x.index(branching_var)]) - 1, name=f\"branch_left_{branching_var.name}\")\n",
    "\n",
    "        right_problem = current_problem.deepcopy()\n",
    "        right_problem += LpConstraint(e=branching_var >= int(solution[x.index(branching_var)]) + 1, name=f\"branch_right_{branching_var.name}\")\n",
    "\n",
    "        for new_problem in [left_problem, right_problem]:\n",
    "            new_solution = getSolution(x, new_problem)\n",
    "            if new_solution:\n",
    "                queue.append((new_problem, new_solution))\n",
    "\n",
    "    return best_solution, best_obj_value, lp_relaxations_solved\n",
    "\n",
    "# Heuristic for variable selection - Lowest index (default)\n",
    "def lowest_index_variable(solution, x, problem):\n",
    "    for idx, val in enumerate(solution):\n",
    "        if val % 1 != 0:\n",
    "            return x[idx]\n",
    "\n",
    "# Heuristic for variable selection - Closest to 0.5 (middle fractional value)\n",
    "def closest_to_half_variable(solution, x, problem):\n",
    "    fractional_values = [(val % 1, idx) for idx, val in enumerate(solution) if val % 1 != 0]\n",
    "    if not fractional_values:\n",
    "        return None\n",
    "    _, closest_idx = min((abs(fraction - 0.5), idx) for fraction, idx in fractional_values)\n",
    "    return x[closest_idx]\n",
    "\n",
    "# Heuristic for variable selection - Most constrained\n",
    "# (Variable appearing in the highest number of constraints)\n",
    "def most_constrained_variable(solution, x, problem):\n",
    "    constraint_count = {var.name: 0 for var in x}\n",
    "    for constraint in problem.constraints.values():\n",
    "        for var in constraint.keys():\n",
    "            constraint_count[var.name] += 1\n",
    "\n",
    "    fractional_vars = [(var, idx) for idx, var in enumerate(x) if solution[idx] % 1 != 0]\n",
    "    if not fractional_vars:\n",
    "        return None\n",
    "    return max(fractional_vars, key=lambda item: constraint_count[item[0].name])[0]\n",
    "\n"
   ]
  },
  {
   "cell_type": "code",
   "execution_count": 73,
   "metadata": {},
   "outputs": [
    {
     "name": "stdout",
     "output_type": "stream",
     "text": [
      "DFS - Solution: [0.73333333, 6.6666667, 4.0, 0.8, 1.6, 5.0, 5.0, 3.0, 3.0, 3.0], Objective Value: 211.33333355000002, Number of LP relaxations solved: 30\n",
      "BFS - Solution: [0.73333333, 6.6666667, 4.0, 0.8, 1.6, 5.0, 5.0, 3.0, 3.0, 3.0], Objective Value: 211.33333355000002, Number of LP relaxations solved: 30\n"
     ]
    },
    {
     "data": {
      "image/png": "[encoded data removed]",
      "text/plain": [
       "<Figure size 800x600 with 1 Axes>"
      ]
     },
     "metadata": {},
     "output_type": "display_data"
    }
   ],
   "source": [
    "# Example of running DFS and BFS\n",
    "solution_dfs, obj_value_dfs, num_relaxations_dfs = dfs_branch_and_bound(variable_selection_policy=lowest_index_variable)\n",
    "print(f\"DFS - Solution: {solution_dfs}, Objective Value: {obj_value_dfs}, Number of LP relaxations solved: {num_relaxations_dfs}\")\n",
    "\n",
    "solution_bfs, obj_value_bfs, num_relaxations_bfs = bfs_branch_and_bound(variable_selection_policy=lowest_index_variable)\n",
    "print(f\"BFS - Solution: {solution_bfs}, Objective Value: {obj_value_bfs}, Number of LP relaxations solved: {num_relaxations_bfs}\")\n",
    "\n",
    "methods = [\"DFS\", \"BFS\"]\n",
    "num_relaxations = [num_relaxations_dfs, num_relaxations_bfs]\n",
    "\n",
    "plt.figure(figsize=(8, 6))\n",
    "plt.bar(methods, num_relaxations, color=['blue', 'green'])\n",
    "plt.title(\"Number of LP Relaxations Solved by Method\")\n",
    "plt.xlabel(\"Method\")\n",
    "plt.ylabel(\"Number of LP Relaxations\")\n",
    "plt.show()"
   ]
  },
  {
   "cell_type": "code",
   "execution_count": 74,
   "metadata": {},
   "outputs": [
    {
     "name": "stdout",
     "output_type": "stream",
     "text": [
      "DFS - Solution: [0.73333333, 6.6666667, 4.0, 0.8, 1.6, 5.0, 5.0, 3.0, 3.0, 3.0], Objective Value: 211.33333355000002, Number of LP relaxations solved: 15\n",
      "BFS - Solution: [0.73333333, 6.6666667, 4.0, 0.8, 1.6, 5.0, 5.0, 3.0, 3.0, 3.0], Objective Value: 211.33333355000002, Number of LP relaxations solved: 15\n"
     ]
    },
    {
     "data": {
      "image/png": "[encoded data removed]",
      "text/plain": [
       "<Figure size 800x600 with 1 Axes>"
      ]
     },
     "metadata": {},
     "output_type": "display_data"
    }
   ],
   "source": [
    "# Example of running DFS and BFS\n",
    "solution_dfs, obj_value_dfs, num_relaxations_dfs = dfs_branch_and_bound(variable_selection_policy=closest_to_half_variable)\n",
    "print(f\"DFS - Solution: {solution_dfs}, Objective Value: {obj_value_dfs}, Number of LP relaxations solved: {num_relaxations_dfs}\")\n",
    "\n",
    "solution_bfs, obj_value_bfs, num_relaxations_bfs = bfs_branch_and_bound(variable_selection_policy=closest_to_half_variable)\n",
    "print(f\"BFS - Solution: {solution_bfs}, Objective Value: {obj_value_bfs}, Number of LP relaxations solved: {num_relaxations_bfs}\")\n",
    "\n",
    "methods = [\"DFS\", \"BFS\"]\n",
    "num_relaxations = [num_relaxations_dfs, num_relaxations_bfs]\n",
    "\n",
    "plt.figure(figsize=(8, 6))\n",
    "plt.bar(methods, num_relaxations, color=['blue', 'green'])\n",
    "plt.title(\"Number of LP Relaxations Solved by Method\")\n",
    "plt.xlabel(\"Method\")\n",
    "plt.ylabel(\"Number of LP Relaxations\")\n",
    "plt.show()"
   ]
  },
  {
   "cell_type": "code",
   "execution_count": 75,
   "metadata": {},
   "outputs": [
    {
     "name": "stdout",
     "output_type": "stream",
     "text": [
      "DFS - Solution: [0.73333333, 6.6666667, 4.0, 0.8, 1.6, 5.0, 5.0, 3.0, 3.0, 3.0], Objective Value: 211.33333355000002, Number of LP relaxations solved: 2\n",
      "BFS - Solution: [0.73333333, 6.6666667, 4.0, 0.8, 1.6, 5.0, 5.0, 3.0, 3.0, 3.0], Objective Value: 211.33333355000002, Number of LP relaxations solved: 2\n"
     ]
    },
    {
     "data": {
      "image/png": "[encoded data removed]",
      "text/plain": [
       "<Figure size 800x600 with 1 Axes>"
      ]
     },
     "metadata": {},
     "output_type": "display_data"
    }
   ],
   "source": [
    "# Example of running DFS and BFS\n",
    "solution_dfs, obj_value_dfs, num_relaxations_dfs = dfs_branch_and_bound(variable_selection_policy=most_constrained_variable)\n",
    "print(f\"DFS - Solution: {solution_dfs}, Objective Value: {obj_value_dfs}, Number of LP relaxations solved: {num_relaxations_dfs}\")\n",
    "\n",
    "solution_bfs, obj_value_bfs, num_relaxations_bfs = bfs_branch_and_bound(variable_selection_policy=most_constrained_variable)\n",
    "print(f\"BFS - Solution: {solution_bfs}, Objective Value: {obj_value_bfs}, Number of LP relaxations solved: {num_relaxations_bfs}\")\n",
    "\n",
    "methods = [\"DFS\", \"BFS\"]\n",
    "num_relaxations = [num_relaxations_dfs, num_relaxations_bfs]\n",
    "\n",
    "plt.figure(figsize=(8, 6))\n",
    "plt.bar(methods, num_relaxations, color=['blue', 'green'])\n",
    "plt.title(\"Number of LP Relaxations Solved by Method\")\n",
    "plt.xlabel(\"Method\")\n",
    "plt.ylabel(\"Number of LP Relaxations\")\n",
    "plt.show()"
   ]
  }
 ],
 "metadata": {
  "kernelspec": {
   "display_name": "Python 3",
   "language": "python",
   "name": "python3"
  },
  "language_info": {
   "codemirror_mode": {
    "name": "ipython",
    "version": 3
   },
   "file_extension": ".py",
   "mimetype": "text/x-python",
   "name": "python",
   "nbconvert_exporter": "python",
   "pygments_lexer": "ipython3",
   "version": "3.10.7"
  }
 },
 "nbformat": 4,
 "nbformat_minor": 4
}
