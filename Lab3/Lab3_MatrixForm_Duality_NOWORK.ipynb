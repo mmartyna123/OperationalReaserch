{
 "cells": [
  {
   "cell_type": "markdown",
   "metadata": {},
   "source": [
    "# Lab 3 - The Matrix Form and The Duality Theory"
   ]
  },
  {
   "cell_type": "markdown",
   "metadata": {},
   "source": [
    "<b>Information on group members:</b><br>\n",
    "1) 156071, Martyna Stasiak <br>\n",
    "2) 156062, Maria Musiał"
   ]
  },
  {
   "cell_type": "code",
   "execution_count": 2,
   "metadata": {},
   "outputs": [],
   "source": [
    "from pulp import *  \n",
    "import numpy as np\n",
    "import pandas as pd\n",
    "import itertools\n",
    "from IPython.display import display"
   ]
  },
  {
   "cell_type": "markdown",
   "metadata": {},
   "source": [
    "# 1) The Matrix Form - Fundamental Insight (finish this part to get 3.0)"
   ]
  },
  {
   "cell_type": "markdown",
   "metadata": {},
   "source": [
    "1.1) Given is the below (primal) linear problem:"
   ]
  },
  {
   "cell_type": "markdown",
   "metadata": {},
   "source": [
    "primal problem:<br>\n",
    "MAXIMIZE<br>\n",
    "4*x1 + 2*x2 + 3*x3 <br>\n",
    "\n",
    "SUBJECT TO<br>\n",
    "1_constraint: x1 + x2 <= 10<br>\n",
    "2_constraint: 2*x2 + x3 <= 12<br>\n",
    "3_constraint: 3*x1 + 2*x3 <= 15<br>\n",
    "4_constraint: x1 + x2 + x3 <= 20<br>\n",
    "\n",
    "VARIABLES<br>\n",
    "x1 Continuous<br>\n",
    "x2 Continuous<br>\n",
    "x3 Continuous<br>"
   ]
  },
  {
   "cell_type": "markdown",
   "metadata": {},
   "source": [
    "1.2) Use the PuLP library to solve the above problem. Identify the optimal solution: the values for basic variables and the corresponding value for the objective function."
   ]
  },
  {
   "cell_type": "code",
   "execution_count": 3,
   "metadata": {},
   "outputs": [
    {
     "data": {
      "text/plain": [
       "Lab3TaskA:\n",
       "MAXIMIZE\n",
       "4*x1 + 2*x2 + 3*x3 + 0\n",
       "SUBJECT TO\n",
       "#1_constraint: x1 + x2 <= 10\n",
       "\n",
       "#2_constraint: 2 x2 + x3 <= 12\n",
       "\n",
       "#3_constraint: 3 x1 + 2 x3 <= 15\n",
       "\n",
       "#4_constraint: x1 + x2 + x3 <= 20\n",
       "\n",
       "VARIABLES\n",
       "x1 Continuous\n",
       "x2 Continuous\n",
       "x3 Continuous"
      ]
     },
     "execution_count": 3,
     "metadata": {},
     "output_type": "execute_result"
    }
   ],
   "source": [
    "### Model here:\n",
    "model = LpProblem(\"Lab3TaskA\", LpMaximize)\n",
    "# Variables\n",
    "x1 = LpVariable(name=\"x1\", lowBound=0) #do they have to be nonnegative??????????\n",
    "x2 = LpVariable(name=\"x2\", lowBound=0)\n",
    "x3 = LpVariable(name=\"x3\", lowBound=0)\n",
    "\n",
    "# Constraints\n",
    "# x1 + x2 <= 10\n",
    "model += (x1 + x2 <= 10, \"#1 constraint\")\n",
    "# 2*x2 + x3 <= 12\n",
    "model += (2*x2 + x3 <= 12, \"#2 constraint\")\n",
    "# 3*x1 + 2*x3 <= 15\n",
    "model += (3*x1 + 2*x3 <= 15, \"#3 constraint\")\n",
    "# x1 + x2 + x3 <= 20\n",
    "model += (x1 + x2 + x3 <= 20, \"#4 constraint\")\n",
    "\n",
    "# Objective\n",
    "obj_func = 4*x1 + 2*x2 + 3*x3\n",
    "model += obj_func\n",
    "\n",
    "model\n"
   ]
  },
  {
   "cell_type": "code",
   "execution_count": 4,
   "metadata": {},
   "outputs": [
    {
     "name": "stdout",
     "output_type": "stream",
     "text": [
      "status: 1, Optimal\n",
      "objective: 31.428571379999998\n",
      "\n",
      "Constraints:\n",
      "#1_constraint: 0.0\n",
      "#2_constraint: 5.999999985739635e-08\n",
      "#3_constraint: -7.999999906971311e-08\n",
      "#4_constraint: -9.14285714\n",
      "\n",
      "Variables & their values:\n",
      "x1: 4.4285714\n",
      "x2: 5.5714286\n",
      "x3: 0.85714286\n"
     ]
    }
   ],
   "source": [
    "### Solve here\n",
    "status = model.solve()\n",
    "print(f\"status: {model.status}, {LpStatus[model.status]}\")\n",
    "print(f\"objective: {model.objective.value()}\\n\")\n",
    "print('Constraints:')\n",
    "for name, constraint in model.constraints.items():  print(f\"{name}: {constraint.value()}\")\n",
    "print('\\nVariables & their values:')\n",
    "for var in model.variables():  print(f\"{var.name}: {var.value()}\")"
   ]
  },
  {
   "cell_type": "markdown",
   "metadata": {},
   "source": [
    "1.3) In this exercise, you are asked to identify ALL basic (feasible and not) solutions to the above problem. We will do this naively. Specifically, you are asked to use the fundamental insight to build a final simplex tableau for each possible base. Therefore, you need first to initialize the data: c, b, A matrixes, and it is suggested to initialize the auxiliary matrix M defined as M = A + (concatenate) I (identity matrix). Note that the problem should be formulated in the augmented form. Then, you have to iterate over each possible base B, compute B-1, and other relevant parts for the simplex tableau.<br><br>\n",
    "a) Identify the optimal solution using the optimality condition; print it (Z value and values for basic variables); compare thus derived solution with the optimum found using the PuLP library (obviously, both solutions should be the same). <br>\n",
    "b) Count the number of feasible and infeasible solutions. How many (all) basic solutions to the problem can be identified? <br><br>\n",
    "It is suggested to use the NumPy library for performing matrix operations. "
   ]
  },
  {
   "cell_type": "markdown",
   "metadata": {},
   "source": [
    "### Augmented form:\n",
    "MAXIMIZE<br>\n",
    "Z -4*x1 - 2*x2 - 3*x3 <br>\n",
    "\n",
    "SUBJECT TO<br>\n",
    "1) x1 + x2 + x4 = 10<br>\n",
    "2) 2*x2 + x3 + x5 = 12<br>\n",
    "3) 3*x1 + 2*x3 + x6 = 15<br>\n",
    "4) x1 + x2 + x3 + x7 = 20<br>"
   ]
  },
  {
   "cell_type": "code",
   "execution_count": 11,
   "metadata": {},
   "outputs": [
    {
     "data": {
      "text/plain": [
       "array([[ True,  True,  True,  True],\n",
       "       [ True,  True,  True,  True],\n",
       "       [ True,  True,  True,  True],\n",
       "       [ True,  True,  True,  True]])"
      ]
     },
     "execution_count": 11,
     "metadata": {},
     "output_type": "execute_result"
    }
   ],
   "source": [
    "I = np.eye(4)\n",
    "II = np.eye(A.shape[0])# identity matrix\n",
    "I == I\n"
   ]
  },
  {
   "cell_type": "code",
   "execution_count": null,
   "metadata": {},
   "outputs": [],
   "source": [
    "### Initialize the data here:\n",
    "### TODO\n",
    "c = np.array([4, 2, 3]) #coefficients in the objective function\n",
    "b = np.array([10, 12, 15, 20]).transpose() #right-hand side of the constraints\n",
    "A = np.array([[1, 1, 0], [0, 2, 1], [3, 0, 2], [1, 1, 1]]) #coefficients in the constraints\n",
    "I = np.eye(4) # identity matrix\n",
    "M = np.concatenate((A, I), axis=1) # The matrix M\n",
    "base = np.array([3, 4, 5, 6]) # The base corresponds to the indices of the identity matrix columns in M\n",
    "c_extended = np.concatenate((c, np.zeros(4))) # The extended objective function coefficients\n"
   ]
  },
  {
   "cell_type": "markdown",
   "metadata": {},
   "source": [
    "<b> Important note: the below is just a proposition. You can solve the problem in your own way. </b>\n",
    "\n",
    "You can define an auxiliary method constructing a final simplex tableau for a given base.  Here, \"base\" is a list of columns (integers) for the base. Note that the functions in python can return multiple objects and you can use this functionality to return<br>\n",
    "- the inversed base<br>\n",
    "- coefficients in the row 0 for slack variables<br>\n",
    "- right side values (except the objective function value)<br>\n",
    "- the objective function value<br>\n",
    "- the coefficients for decision variables in row 0 <br>\n",
    "- the coefficients for decision variables in rows 1+<br>\n",
    "\n",
    "Note that if BI cannot be built (it is possible), the method may return None in order to notify the executive method about this exception. \n",
    "\n"
   ]
  },
  {
   "cell_type": "code",
   "execution_count": null,
   "metadata": {},
   "outputs": [],
   "source": [
    "def getFinalTableau(base, c, b, A, M):\n",
    "    # TODO\n",
    "    # return None"
   ]
  },
  {
   "cell_type": "code",
   "execution_count": 21,
   "metadata": {},
   "outputs": [
    {
     "name": "stdout",
     "output_type": "stream",
     "text": [
      "Final tableau:\n",
      "             x1   x2   x3        s1        s2        s3   s4        RHS\n",
      "Objective  0.0  0.0  0.0  0.571429  0.714286  1.142857  0.0  31.428571\n",
      "x2         0.0  1.0  0.0  0.428571  0.285714 -0.142857  0.0   5.571429\n",
      "x3         0.0  0.0  1.0 -0.857143  0.428571  0.285714  0.0   0.857143\n",
      "x1         1.0  0.0  0.0  0.571429 -0.285714  0.142857  0.0   4.428571\n",
      "s4         0.0  0.0  0.0 -0.142857 -0.428571 -0.285714  1.0   9.142857\n"
     ]
    },
    {
     "name": "stderr",
     "output_type": "stream",
     "text": [
      "C:\\Users\\mmart\\AppData\\Local\\Temp\\ipykernel_19508\\3201420104.py:25: RuntimeWarning: divide by zero encountered in divide\n",
      "  ratios = tableau[1:, -1] / tableau[1:, col]\n"
     ]
    }
   ],
   "source": [
    "# Define the pivot function, which is a core operation in the Simplex algorithm\n",
    "def pivot(tableau, row, col):\n",
    "    # Make the pivot element equal to 1 by dividing the row by the pivot element\n",
    "    tableau[row, :] /= tableau[row, col]\n",
    "    \n",
    "    # Make all other entries in the pivot column zero\n",
    "    for i in range(tableau.shape[0]):\n",
    "        if i != row:\n",
    "            tableau[i, :] -= tableau[i, col] * tableau[row, :]\n",
    "    \n",
    "    # Update the base array to reflect the new entering and leaving variable indices\n",
    "    base[row - 1] = col  # Adjust index since row is offset by the objective row\n",
    "\n",
    "# Define the Simplex algorithm function that iteratively improves the solution\n",
    "def simplex(tableau, base):\n",
    "    while True:\n",
    "        # Find the entering variable (the most negative value in the objective row)\n",
    "        col = np.argmin(tableau[0, :-1])  # Objective row is the first row\n",
    "        if tableau[0, col] >= 0:\n",
    "            # If all values in the objective row are non-negative, the solution is optimal\n",
    "            break\n",
    "\n",
    "        # Find the leaving variable (row with the smallest positive ratio)\n",
    "        # Use rows 1 onward, ignoring the objective row, for the ratio test\n",
    "        ratios = tableau[1:, -1] / tableau[1:, col]\n",
    "        \n",
    "        # Only consider positive entries in the pivot column for valid ratios\n",
    "        valid_ratios = np.where(tableau[1:, col] > 0, ratios, np.inf)\n",
    "        row = np.argmin(valid_ratios) + 1  # Offset by 1 to account for the objective row\n",
    "        \n",
    "        # Perform the pivot operation on the tableau, updating for the new basis variable\n",
    "        pivot(tableau, row, col)\n",
    "\n",
    "    # Return the modified tableau and the final base array indicating which variables are basic\n",
    "    return tableau, base\n",
    "\n",
    "# Define getFinalTableau to return a DataFrame for easy interpretation of the final tableau\n",
    "def getFinalTableau(base, c, b, A, M):\n",
    "    # Extend c with zeros for the slack variables to match the tableau width\n",
    "    c_extended = np.concatenate((c, np.zeros(M.shape[1] - c.size)))\n",
    "    \n",
    "    # Create the initial tableau:\n",
    "    # - Objective function row is placed at the top\n",
    "    # - Stack the constraint rows with RHS values `b`\n",
    "    tableau = np.vstack([np.hstack([-c_extended, [0]]), np.hstack([M, b.reshape(-1, 1)])])\n",
    "    \n",
    "    # Run the Simplex algorithm to optimize the tableau\n",
    "    final_tableau, final_base = simplex(tableau, base)\n",
    "\n",
    "    # Define column names for the tableau\n",
    "    num_vars = c.size\n",
    "    num_slack = M.shape[1] - num_vars\n",
    "    column_names = [f\"x{i+1}\" for i in range(num_vars)] + [f\"s{i+1}\" for i in range(num_slack)] + [\"RHS\"]\n",
    "\n",
    "    # Define row names for each row of the tableau:\n",
    "    # - First row is labeled \"Objective\"\n",
    "    # - For basic variables, use the current values in the `base` array\n",
    "    row_names = [\"Objective\"] + [f\"s{int(i - num_vars + 1)}\" if i >= num_vars else f\"x{i+1}\" for i in final_base]\n",
    "\n",
    "    # Convert the final tableau to a DataFrame for clearer visualization\n",
    "    tableau_df = pd.DataFrame(final_tableau, index=row_names, columns=column_names)\n",
    "    return tableau_df\n",
    "\n",
    "# Initialize the data for the linear program\n",
    "c = np.array([4, 2, 3])  # Coefficients of the original variables in the objective function\n",
    "b = np.array([10, 12, 15, 20])  # Right-hand side values of each constraint\n",
    "A = np.array([[1, 1, 0], [0, 2, 1], [3, 0, 2], [1, 1, 1]])  # Coefficients for the constraints\n",
    "I = np.eye(4)  # Identity matrix to add slack variables, representing slack columns\n",
    "\n",
    "# Combine A and I matrices to form M, the full constraint matrix including slack variables\n",
    "M = np.concatenate((A, I), axis=1)\n",
    "\n",
    "# Initialize the base array with indices of the slack variables\n",
    "# - Slack variables correspond to columns of the identity matrix in M, so base starts with [3, 4, 5, 6]\n",
    "base = np.array([3, 4, 5, 6])\n",
    "\n",
    "# Get the final tableau as a DataFrame after running the Simplex algorithm\n",
    "final_tableau_df = getFinalTableau(base, c, b, A, M)\n",
    "\n",
    "# Print the final tableau in DataFrame format for easy interpretation\n",
    "print(\"Final tableau:\\n\", final_tableau_df)\n"
   ]
  },
  {
   "cell_type": "code",
   "execution_count": 22,
   "metadata": {},
   "outputs": [
    {
     "name": "stdout",
     "output_type": "stream",
     "text": [
      "Final Tableau:\n",
      "             x1   x2   x3        s1        s2        s3   s4        RHS\n",
      "Objective  0.0  0.0  0.0  0.571429  0.714286  1.142857  0.0  31.428571\n",
      "x2         0.0  1.0  0.0  0.428571  0.285714 -0.142857  0.0   5.571429\n",
      "x3         0.0  0.0  1.0 -0.857143  0.428571  0.285714  0.0   0.857143\n",
      "x1         1.0  0.0  0.0  0.571429 -0.285714  0.142857  0.0   4.428571\n",
      "s4         0.0  0.0  0.0 -0.142857 -0.428571 -0.285714  1.0   9.142857\n",
      "\n",
      "Basic Variables and Their Values:\n",
      "x2 = 5.571428571428571\n",
      "x3 = 0.8571428571428572\n",
      "x1 = 4.428571428571429\n",
      "s4 = 9.142857142857142\n",
      "\n",
      "Optimal Objective Function Value: 31.42857142857143\n",
      "\n",
      "Feasible solutions count: 3\n",
      "Infeasible solutions count: 0\n",
      "Total solutions count: 3\n"
     ]
    },
    {
     "name": "stderr",
     "output_type": "stream",
     "text": [
      "C:\\Users\\mmart\\AppData\\Local\\Temp\\ipykernel_19508\\4012294565.py:30: RuntimeWarning: divide by zero encountered in divide\n",
      "  ratios = tableau[1:, -1] / tableau[1:, col]\n"
     ]
    }
   ],
   "source": [
    "import numpy as np\n",
    "import pandas as pd\n",
    "\n",
    "# Define the pivot function, which updates the tableau based on the selected pivot row and column\n",
    "def pivot(tableau, row, col):\n",
    "    # Make the pivot element equal to 1 by dividing the row by the pivot element\n",
    "    tableau[row, :] /= tableau[row, col]\n",
    "    \n",
    "    # Make all other entries in the pivot column zero\n",
    "    for i in range(tableau.shape[0]):\n",
    "        if i != row:\n",
    "            tableau[i, :] -= tableau[i, col] * tableau[row, :]\n",
    "    \n",
    "    # Update the base array to reflect the new entering and leaving variable indices\n",
    "    base[row - 1] = col  # Offset by -1 since base doesn't include the objective row\n",
    "\n",
    "# Define the Simplex algorithm function that iteratively improves the solution\n",
    "def simplex(tableau, base):\n",
    "    feasible_count = 0  # Counter for feasible solutions\n",
    "    infeasible_count = 0  # Counter for infeasible solutions\n",
    "\n",
    "    while True:\n",
    "        # Check for optimality by finding the most negative entry in the objective row\n",
    "        col = np.argmin(tableau[0, :-1])\n",
    "        if tableau[0, col] >= 0:\n",
    "            # If no negative values, the solution is optimal\n",
    "            break\n",
    "\n",
    "        # Identify the leaving variable using the minimum ratio test on RHS values\n",
    "        ratios = tableau[1:, -1] / tableau[1:, col]\n",
    "        valid_ratios = np.where(tableau[1:, col] > 0, ratios, np.inf)\n",
    "        row = np.argmin(valid_ratios) + 1  # Offset by +1 to account for objective row\n",
    "\n",
    "        # Count feasible and infeasible solutions based on RHS values\n",
    "        if tableau[row, -1] >= 0:\n",
    "            feasible_count += 1\n",
    "        else:\n",
    "            infeasible_count += 1\n",
    "\n",
    "        # Perform the pivot operation on the tableau and update the base array\n",
    "        pivot(tableau, row, col)\n",
    "\n",
    "    # Return the modified tableau, final base, and counts of feasible/infeasible solutions\n",
    "    return tableau, base, feasible_count, infeasible_count\n",
    "\n",
    "# Define getFinalTableau to return a DataFrame and additional information\n",
    "def getFinalTableau(base, c, b, A, M):\n",
    "    # Extend c with zeros for slack variables to match the tableau width\n",
    "    c_extended = np.concatenate((c, np.zeros(M.shape[1] - c.size)))\n",
    "    \n",
    "    # Create the initial tableau with objective row at the top and constraints below\n",
    "    tableau = np.vstack([np.hstack([-c_extended, [0]]), np.hstack([M, b.reshape(-1, 1)])])\n",
    "    \n",
    "    # Run the Simplex algorithm to get the final tableau, base, and feasibility counts\n",
    "    final_tableau, final_base, feasible_count, infeasible_count = simplex(tableau, base)\n",
    "\n",
    "    # Define column names for the tableau\n",
    "    num_vars = c.size\n",
    "    num_slack = M.shape[1] - num_vars\n",
    "    column_names = [f\"x{i+1}\" for i in range(num_vars)] + [f\"s{i+1}\" for i in range(num_slack)] + [\"RHS\"]\n",
    "\n",
    "    # Define row names: first row is \"Objective\"; others use the base array to label basic variables\n",
    "    row_names = [\"Objective\"] + [f\"s{int(i - num_vars + 1)}\" if i >= num_vars else f\"x{i+1}\" for i in final_base]\n",
    "\n",
    "    # Convert final tableau to DataFrame for clearer visualization\n",
    "    tableau_df = pd.DataFrame(final_tableau, index=row_names, columns=column_names)\n",
    "\n",
    "    # Extract the values of basic variables from the RHS column in the final tableau\n",
    "    basic_vars = {row_names[i + 1]: final_tableau[i + 1, -1] for i in range(len(final_base))}\n",
    "    objective_value = final_tableau[0, -1]\n",
    "\n",
    "    # Print results\n",
    "    print(\"Final Tableau:\\n\", tableau_df)\n",
    "    print(\"\\nBasic Variables and Their Values:\")\n",
    "    for var, value in basic_vars.items():\n",
    "        print(f\"{var} = {value}\")\n",
    "    print(f\"\\nOptimal Objective Function Value: {objective_value}\")\n",
    "    print(f\"\\nFeasible solutions count: {feasible_count}\")\n",
    "    print(f\"Infeasible solutions count: {infeasible_count}\")\n",
    "    print(f\"Total solutions count: {feasible_count + infeasible_count}\")\n",
    "\n",
    "    return tableau_df, basic_vars, objective_value, feasible_count, infeasible_count\n",
    "\n",
    "# Initialize the data for the linear program\n",
    "c = np.array([4, 2, 3])  # Coefficients of the original variables in the objective function\n",
    "b = np.array([10, 12, 15, 20])  # Right-hand side values of each constraint\n",
    "A = np.array([[1, 1, 0], [0, 2, 1], [3, 0, 2], [1, 1, 1]])  # Coefficients for the constraints\n",
    "I = np.eye(4)  # Identity matrix to add slack variables, representing slack columns\n",
    "\n",
    "# Combine A and I matrices to form M, the full constraint matrix including slack variables\n",
    "M = np.concatenate((A, I), axis=1)\n",
    "\n",
    "# Initialize the base array with indices of the slack variables\n",
    "# - Slack variables correspond to columns of the identity matrix in M, so base starts with [3, 4, 5, 6]\n",
    "base = np.array([3, 4, 5, 6])\n",
    "\n",
    "# Get the final tableau as a DataFrame after running the Simplex algorithm\n",
    "final_tableau_df, basic_vars, objective_value, feasible_count, infeasible_count = getFinalTableau(base, c, b, A, M)\n"
   ]
  },
  {
   "cell_type": "code",
   "execution_count": null,
   "metadata": {},
   "outputs": [],
   "source": [
    "def getFinalTableau(base, c, b, A, M):\n",
    "    B = M[:, base] # Basis matrix\n",
    "    \n",
    "    if np.linalg.det(B) == 0:\n",
    "        print(\"Basis matrix is singular so it is not invertible\")\n",
    "        return None\n",
    "    \n",
    "    B_inv = np.linalg.inv(B) # Inverse of the basis matrix\n",
    "    \n",
    "    basic_solution = np.dot(B_inv, b) # Basic solution\n",
    "    \n",
    "    cB = c[base[:len(c)]] # Objective function coefficients for the basic variables\n",
    "    z = np.dot(cB, basic_solution) # Objective function value\n",
    "    \n",
    "    row0 = c - cB.dot(B_inv).dot(A) # Row 0 of the tableau\n",
    "    \n",
    "    tableau_constraints = np.dot(B_inv, M) # Tableau constraints\n",
    "    \n",
    "    return {\n",
    "        \"B_inv\": B_inv,\n",
    "        \"basic_solution\": basic_solution,\n",
    "        \"objective_value\": z,\n",
    "        \"row0\": row0,\n",
    "        \"tableau_constraints\": tableau_constraints\n",
    "    }\n",
    "    "
   ]
  },
  {
   "cell_type": "code",
   "execution_count": 18,
   "metadata": {},
   "outputs": [
    {
     "name": "stdout",
     "output_type": "stream",
     "text": [
      "The base matrix B is singular and cannot be inverted.\n"
     ]
    }
   ],
   "source": [
    "### Solve the problem here\n",
    "### TODO"
   ]
  },
  {
   "cell_type": "markdown",
   "metadata": {},
   "source": [
    "## 2) The Duality Theory (finish this part + part 1 + to get 5.0)"
   ]
  },
  {
   "cell_type": "markdown",
   "metadata": {},
   "source": [
    "2.1) Model the dual problem to the above solved primal one, using the PuLP library. Then, solve it and compare the derived optimum with the optimum for the primal problem. Are they equal?"
   ]
  },
  {
   "cell_type": "code",
   "execution_count": null,
   "metadata": {},
   "outputs": [],
   "source": [
    "### Model here:\n",
    "### TODO\n"
   ]
  },
  {
   "cell_type": "code",
   "execution_count": null,
   "metadata": {},
   "outputs": [],
   "source": [
    "### Solve here:\n",
    "### TODO\n"
   ]
  },
  {
   "cell_type": "markdown",
   "metadata": {},
   "source": [
    "2.2) This exercise is based on the exercise 1.3 (copy & paste solution). Here, you are asked to iterate over all basic solutions (as in 1.3) and store them along with their complementary dual solutions. Solutions should be stored in the PRIMAL_DUAL_SOLUTIONS list and sorted according to the objective value Z = W. Analyze their optimality and feasibility. Finally, you have to display all basic solutions wlong with their complementary solutions (you can use the provided piece of code written using the pandas library). <br><br>\n",
    "\n",
    "PRIMAL_DUAL_SOLUTIONS is defined as a table consisting of n rows, where n is the number of basic solutions to the problem, and 21 columns. The columns are defined as follows:<br>\n",
    "Col. 1: The objective value Z<br>\n",
    "Col. 2-4: The values for decision variables (primal solution)<br>\n",
    "Col. 5-8: The values for slack variables (primal solution)<br>\n",
    "Col. 9: P_F = Y or N, Y/N = primal solution is feasible/infeasible<br>\n",
    "Col. 10: P_O = Y or N, Y/N = primal solution is optimal/is not optimal<br>\n",
    "Col. 11: P_STATE = -/suboptimal/superoptimal/optimal; depends on P_F and P_O (primal)<br>\n",
    "Col. 12: D_STATE = -/suboptimal/superoptimal/optimal; depends on D_F and D_O (dual)<br>\n",
    "Col. 13: D_F = Y or N, Y/N = dual solution is feasible/infeasible<br>\n",
    "Col. 14: D_O = Y or N, Y/N = dual solution is optimal/is not optimal<br>\n",
    "Col. 15-18: The values for decision variables (dual solution)<br>\n",
    "Col. 19-21: The values for surplus variables (dual solution)<br><br>\n",
    "\n",
    "Reminder: sort solutions according to Z; analyze how their states change with the increase of Z."
   ]
  },
  {
   "cell_type": "code",
   "execution_count": null,
   "metadata": {},
   "outputs": [],
   "source": []
  },
  {
   "cell_type": "code",
   "execution_count": null,
   "metadata": {},
   "outputs": [],
   "source": [
    "### TODO \n",
    "\n",
    "### DISPLAY STORED PAIRS OF SOLUTIONS\n",
    "#df = pd.DataFrame(PRIMAL_DUAL_SOLUTIONS, columns = [\"Z\", \"x1\", \"x2\", \"x3\", \"slack1\", \"slack2\", \"slack3\", \"slack4\", \"P_F\", \"P_O\", \"P_STATE\", \"D_STATE\", \"D_F\", \"F_O\",\n",
    "#                                                   \"y1\", \"y2\", \"y3\", \"y4\", \"sur1\", \"sur2\", \"sur3\"])\n",
    "\n",
    "#display(df.style.set_properties(**{\n",
    "#        'width': '230px',\n",
    "#        'max-width': '230px',\n",
    "#    }))"
   ]
  }
 ],
 "metadata": {
  "kernelspec": {
   "display_name": "Python 3",
   "language": "python",
   "name": "python3"
  },
  "language_info": {
   "codemirror_mode": {
    "name": "ipython",
    "version": 3
   },
   "file_extension": ".py",
   "mimetype": "text/x-python",
   "name": "python",
   "nbconvert_exporter": "python",
   "pygments_lexer": "ipython3",
   "version": "3.10.7"
  }
 },
 "nbformat": 4,
 "nbformat_minor": 4
}
