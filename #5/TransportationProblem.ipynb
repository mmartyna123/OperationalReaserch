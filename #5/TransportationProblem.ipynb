{
 "cells": [
  {
   "cell_type": "markdown",
   "metadata": {},
   "source": [
    "# Authors:\n",
    "- Maria Musiał 156062\n",
    "-  Martyna Stasiak 156071"
   ]
  },
  {
   "cell_type": "markdown",
   "metadata": {},
   "source": [
    "Problem representation"
   ]
  },
  {
   "cell_type": "markdown",
   "metadata": {},
   "source": [
    "Initialize matrix"
   ]
  },
  {
   "cell_type": "code",
   "execution_count": 56,
   "metadata": {},
   "outputs": [],
   "source": [
    "import numpy as np\n",
    "import pulp as pl\n",
    "\n",
    "# M = float('inf')\n",
    "M = 999999\n",
    "\n",
    "costs = np.array([[7, 5, 5, 0],\n",
    "                 [3, 10, 10, M],\n",
    "                 [3, 10, 10, 0],\n",
    "                 [M, M, 0, 0]])\n",
    "supply = np.array([30, 20, 80, 80])\n",
    "demand = np.array([40, 40, 20, 110])"
   ]
  },
  {
   "cell_type": "markdown",
   "metadata": {},
   "source": [
    "## Use NorthWest method to find our path"
   ]
  },
  {
   "cell_type": "code",
   "execution_count": 57,
   "metadata": {},
   "outputs": [
    {
     "name": "stdout",
     "output_type": "stream",
     "text": [
      "[((0, 0), 30), ((1, 0), 10), ((1, 1), 10), ((2, 1), 30), ((2, 2), 20), ((2, 3), 30), ((3, 3), 80)]\n"
     ]
    }
   ],
   "source": [
    "def north_west_corner(supply, demand):\n",
    "    \"\"\"\n",
    "    North West Corner Method for finding path (initial solutions) of transportation problem\n",
    "    \"\"\"\n",
    "    m = len(supply) \n",
    "    n = len(demand)    #m - number of suppliers, n- number of consumers\n",
    "    supply_copy = supply.copy()\n",
    "    demand_copy = demand.copy()\n",
    "    i = 0\n",
    "    j = 0\n",
    "    path = []\n",
    "    while len(path) < m + n - 1:  #m+n basic variables\n",
    "        s = supply_copy[i]   \n",
    "        d = demand_copy[j]\n",
    "        v = min(s, d)  #get maximum possible value (minimum of s and d)\n",
    "        supply_copy[i] -= v   #delete value from supply\n",
    "        demand_copy[j] -= v   #delete value from demand\n",
    "        path.append(((i, j), v))   #add to our path\n",
    "        if supply_copy[i] == 0 and i < m - 1:  #we cant use this supplier anymore\n",
    "            i += 1\n",
    "        elif demand_copy[j] == 0 and j < n - 1:   #we cant use this consumer anymore\n",
    "            j += 1\n",
    "    return path\n",
    "\n",
    "\n",
    "supply = np.array([30, 20, 80, 80])\n",
    "demand = np.array([40, 40, 20, 110])\n",
    "path = north_west_corner(supply, demand)\n",
    "print(path)"
   ]
  },
  {
   "cell_type": "markdown",
   "metadata": {},
   "source": [
    "## Get U collumn and V row "
   ]
  },
  {
   "cell_type": "code",
   "execution_count": 58,
   "metadata": {},
   "outputs": [
    {
     "name": "stdout",
     "output_type": "stream",
     "text": [
      "U collumn: \n",
      " [4, 0, 0, 0] \n",
      "V row:\n",
      " [3, 10, 10, 0]\n"
     ]
    }
   ],
   "source": [
    "def get_us_and_vs(path, costs):\n",
    "    us = [None] * len(costs)\n",
    "    vs = [None] * len(costs[0])\n",
    "    \n",
    "    #set ui=0 of the row that is assigned the most\n",
    "    row_common = np.array([value[0][0] for value in path])\n",
    "    unique, counts = np.unique(row_common, return_counts=True)\n",
    "    most_common_row = unique[np.argmax(counts)]\n",
    "    us[most_common_row] = 0\n",
    "    \n",
    "    path_copy = path.copy()\n",
    "    while len(path_copy) > 0:     #while we dont calculate for all basic variables\n",
    "        for index, bv in enumerate(path_copy):\n",
    "            i, j = bv[0]         #coordinates of basic variable\n",
    "            if us[i] is None and vs[j] is None: continue      #skip cells that dont have ui or vi assigned yet\n",
    "                \n",
    "            cost = costs[i][j]\n",
    "            if us[i] is None:          #assign ui based on vi\n",
    "                us[i] = cost - vs[j]\n",
    "            else: \n",
    "                vs[j] = cost - us[i]     #assign vi based on ui\n",
    "            path_copy.pop(index)        #dont take the basic variable into account anymore\n",
    "            break\n",
    "            \n",
    "    return us, vs      \n",
    "\n",
    "\n",
    "path = north_west_corner(supply, demand)\n",
    "us, vs = get_us_and_vs(path, costs)\n",
    "print(\"U collumn: \\n\", us, \"\\nV row:\\n\", vs)   "
   ]
  },
  {
   "cell_type": "markdown",
   "metadata": {},
   "source": [
    "## Calculate the not basic variable values"
   ]
  },
  {
   "cell_type": "code",
   "execution_count": 59,
   "metadata": {},
   "outputs": [
    {
     "data": {
      "text/plain": [
       "[((0, 1), -9),\n",
       " ((0, 2), -9),\n",
       " ((0, 3), -4),\n",
       " ((1, 2), 0),\n",
       " ((1, 3), 999999),\n",
       " ((2, 0), 0),\n",
       " ((3, 0), 999996),\n",
       " ((3, 1), 999989),\n",
       " ((3, 2), -10)]"
      ]
     },
     "execution_count": 59,
     "metadata": {},
     "output_type": "execute_result"
    }
   ],
   "source": [
    "def get_Cj(path, costs, us, vs):\n",
    "    Cj = []\n",
    "    for i, row in enumerate(costs):\n",
    "        for j, cost in enumerate(row):\n",
    "            non_basic = all([p[0] != i or p[1] != j for p, v in path])\n",
    "            if non_basic:\n",
    "                Cj.append(((i, j), cost - us[i] - vs[j] ))\n",
    "    \n",
    "    return Cj\n",
    "\n",
    "path = north_west_corner(supply, demand)\n",
    "us, vs = get_us_and_vs(path, costs)\n",
    "\n",
    "get_Cj(path, costs, us, vs)"
   ]
  },
  {
   "cell_type": "markdown",
   "metadata": {},
   "source": [
    "## Check if we need another iteration (if we have coefficient that is negative )"
   ]
  },
  {
   "cell_type": "code",
   "execution_count": 60,
   "metadata": {},
   "outputs": [
    {
     "name": "stdout",
     "output_type": "stream",
     "text": [
      "True\n"
     ]
    }
   ],
   "source": [
    "def improvement(Cj):\n",
    "    for p, v in Cj:\n",
    "        if v < 0:\n",
    "            return True\n",
    "    return False\n",
    "print(improvement(get_Cj(path, costs, us, vs)))"
   ]
  },
  {
   "cell_type": "markdown",
   "metadata": {},
   "source": [
    "## If true, check position of entering variable (smallest value)"
   ]
  },
  {
   "cell_type": "code",
   "execution_count": 61,
   "metadata": {},
   "outputs": [
    {
     "name": "stdout",
     "output_type": "stream",
     "text": [
      "Position of entering variable:  (3, 2)\n"
     ]
    }
   ],
   "source": [
    "def get_entering_variable(Cj):\n",
    "    return min(Cj, key=lambda x: x[1])[0]\n",
    "\n",
    "entering_var = get_entering_variable(get_Cj(path, costs, us, vs))\n",
    "print(\"Position of entering variable: \", entering_var)\n"
   ]
  },
  {
   "cell_type": "markdown",
   "metadata": {},
   "source": [
    "## Chain rule of finding leaving variable and changing values"
   ]
  },
  {
   "cell_type": "code",
   "execution_count": 62,
   "metadata": {},
   "outputs": [],
   "source": [
    "def get_possible_next_nodes(loop, not_visited):\n",
    "    last_node = loop[-1]\n",
    "    row_candidates = [n for n in not_visited if n[0] == last_node[0]]\n",
    "    column_candidates = [n for n in not_visited if n[1] == last_node[1]]\n",
    "    if len(loop) < 2:\n",
    "        return row_candidates + column_candidates\n",
    "    else:\n",
    "        prev_node = loop[-2]\n",
    "        row_move = prev_node[0] == last_node[0]\n",
    "    if row_move: return column_candidates\n",
    "    return row_candidates"
   ]
  },
  {
   "cell_type": "code",
   "execution_count": 63,
   "metadata": {},
   "outputs": [
    {
     "name": "stdout",
     "output_type": "stream",
     "text": [
      "loop of donors and recipients  [(3, 2), (3, 3), (2, 3), (2, 2)]\n"
     ]
    }
   ],
   "source": [
    "def get_loop(bv_positions, ev_position):\n",
    "    def inner(loop):\n",
    "        if len(loop) > 3:\n",
    "            can_be_closed = len(get_possible_next_nodes(loop, [ev_position])) == 1\n",
    "            if can_be_closed: return loop\n",
    "        \n",
    "        not_visited = list(set(bv_positions) - set(loop))\n",
    "        possible_next_nodes = get_possible_next_nodes(loop, not_visited)\n",
    "        for next_node in possible_next_nodes:\n",
    "            new_loop = inner(loop + [next_node])\n",
    "            if new_loop: return new_loop\n",
    "    \n",
    "    return inner([ev_position])\n",
    "\n",
    "\n",
    "path = north_west_corner(supply, demand)\n",
    "us, vs = get_us_and_vs(path, costs)\n",
    "Cj = get_Cj(path, costs, us, vs)\n",
    "improvement(Cj)\n",
    "\n",
    "entering_var = get_entering_variable(Cj)\n",
    "loop = get_loop([p for p, v in path], entering_var)\n",
    "print(\"loop of donors and recipients \", loop)"
   ]
  },
  {
   "cell_type": "code",
   "execution_count": 64,
   "metadata": {},
   "outputs": [
    {
     "name": "stdout",
     "output_type": "stream",
     "text": [
      "New path:\n",
      " [((0, 0), 30), ((1, 0), 10), ((1, 1), 10), ((2, 1), 30), ((2, 3), 50), ((3, 3), 60), ((3, 2), 20)]\n"
     ]
    }
   ],
   "source": [
    "def ChainRule(path, loop):\n",
    "    path_copy = path.copy()\n",
    "    donors = loop[1::2]\n",
    "    recipients = loop[::2]\n",
    "    \n",
    "    #Check minimum value in the donors in the loop\n",
    "    donors_path = [(coords, value) for coords, value in path_copy if coords in donors]\n",
    "    recipients_path = [(coords, value) for coords, value in path_copy if coords in recipients]\n",
    "    leaving_var, min_value = min(donors_path, key=lambda x: x[1])\n",
    "        \n",
    "    #Add the entering variable to the path\n",
    "    path_copy.append((loop[0], 0))\n",
    "    #Update the path values\n",
    "    for i, ((x,y),z) in enumerate(path_copy):\n",
    "        if (x,y) in recipients:\n",
    "            path_copy[i] = ((x,y), z + min_value)\n",
    "        if (x,y) in donors:\n",
    "            path_copy[i] = ((x,y), z - min_value)\n",
    "    #Remove the leaving variable \n",
    "    path_copy.remove((leaving_var, 0))\n",
    "    \n",
    "    return path_copy\n",
    "\n",
    "print(\"New path:\\n\", ChainRule(path, loop))"
   ]
  },
  {
   "cell_type": "markdown",
   "metadata": {},
   "source": [
    "## Final function for transportation method"
   ]
  },
  {
   "cell_type": "code",
   "execution_count": 65,
   "metadata": {},
   "outputs": [
    {
     "name": "stdout",
     "output_type": "stream",
     "text": [
      "Final matrix:\n",
      " [[ 0. 30.  0.  0.]\n",
      " [20.  0.  0.  0.]\n",
      " [20. 10.  0. 50.]\n",
      " [ 0.  0. 20. 60.]]\n",
      "Final objective function Z:  370\n",
      "Done in 4 iterations\n",
      "Chainsizes: \n",
      " 4.0\n"
     ]
    }
   ],
   "source": [
    "def transportation_method(costs, supply, demand):\n",
    "    \n",
    "    def iteration(path, num_iter, chainsize):\n",
    "        num_iter += 1\n",
    "        us, vs = get_us_and_vs(path, costs)\n",
    "        Cj = get_Cj(path, costs, us, vs)\n",
    "        if improvement(Cj):\n",
    "            entering = get_entering_variable(Cj)\n",
    "            loop = get_loop([p for p, v in path], entering)\n",
    "            chainsize.append(len(loop))\n",
    "            return iteration(ChainRule(path, loop), num_iter, chainsize)\n",
    "        return path, num_iter, chainsize\n",
    "    \n",
    "    path = north_west_corner(supply, demand)\n",
    "    \n",
    "    final_basic_variables, num_iter, chainsizes = iteration(path, 0, [])\n",
    "    \n",
    "    matrix = np.zeros((len(costs), len(costs[0])))\n",
    "    Z = 0\n",
    "    for (i, j), v in final_basic_variables:\n",
    "        matrix[i][j] = v\n",
    "        Z += (v * costs[i][j])\n",
    "    \n",
    "    if len(chainsizes) > 0:\n",
    "        avg_chaisize = sum(chainsizes) / len(chainsizes)\n",
    "\n",
    "    return matrix, Z, num_iter, avg_chaisize\n",
    "\n",
    "\n",
    "# M = float('inf')\n",
    "M = 999999\n",
    "costs = np.array([[7, 5, 5, 0],\n",
    "                 [3, 10, 10, M],\n",
    "                 [3, 10, 10, 0],\n",
    "                 [M, M, 0, 0]])\n",
    "supply = np.array([30, 20, 80, 80])\n",
    "demand = np.array([40, 40, 20, 110])\n",
    "\n",
    "matrix, Z, num_iter, avg_chaisize = transportation_method(costs, supply, demand)\n",
    "print(\"Final matrix:\\n\", matrix)\n",
    "print(\"Final objective function Z: \", Z)\n",
    "print(f\"Done in {num_iter} iterations\")\n",
    "print(\"Chainsizes: \\n\", avg_chaisize)"
   ]
  },
  {
   "cell_type": "markdown",
   "metadata": {},
   "source": [
    "## Comparison with Oracle"
   ]
  },
  {
   "cell_type": "code",
   "execution_count": 66,
   "metadata": {},
   "outputs": [
    {
     "name": "stdout",
     "output_type": "stream",
     "text": [
      "PuLP solution:\n",
      " [[ 0 30  0  0]\n",
      " [10 10  0  0]\n",
      " [30  0  0 50]\n",
      " [ 0  0 20 60]]\n",
      "PuLP objective value: 370.0\n"
     ]
    }
   ],
   "source": [
    "def verify_with_pulp(cost, supply, demand):\n",
    "    prob = pl.LpProblem(\"Transportation_Problem\", pl.LpMinimize)\n",
    "    rows, cols = cost.shape\n",
    "    x = pl.LpVariable.dicts(\"x\", (range(rows), range(cols)), 0, None, pl.LpInteger)\n",
    "\n",
    "    prob += pl.lpSum(cost[i][j] * x[i][j] for i in range(rows) for j in range(cols))\n",
    "\n",
    "    for i in range(rows):\n",
    "        prob += pl.lpSum(x[i][j] for j in range(cols)) == supply[i]\n",
    "    for j in range(cols):\n",
    "        prob += pl.lpSum(x[i][j] for i in range(rows)) == demand[j]\n",
    "\n",
    "    prob.solve()\n",
    "\n",
    "    solution = np.zeros_like(cost, dtype=int)\n",
    "    for i in range(rows):\n",
    "        for j in range(cols):\n",
    "            solution[i, j] = int(x[i][j].varValue)\n",
    "\n",
    "    return solution, pl.value(prob.objective)\n",
    "\n",
    "pulp_solution, pulp_cost = verify_with_pulp(costs, supply, demand)\n",
    "print(\"PuLP solution:\\n\", pulp_solution)\n",
    "print(\"PuLP objective value:\", pulp_cost)"
   ]
  },
  {
   "cell_type": "markdown",
   "metadata": {},
   "source": [
    "## Analyzing model performance"
   ]
  },
  {
   "cell_type": "code",
   "execution_count": null,
   "metadata": {},
   "outputs": [
    {
     "name": "stdout",
     "output_type": "stream",
     "text": [
      "Average results over 10 runs: \n",
      "Size\tObjective function\tPulp obj func\tIterations\tChain size\n",
      "5.00\t\t53.68\t\t  53.68\t\t 6.41\t\t  5.05\n",
      "10.00\t\t83.71\t\t  83.71\t\t 20.43\t\t  7.77\n",
      "15.00\t\t105.10\t\t  105.10\t\t 39.91\t\t  10.47\n"
     ]
    }
   ],
   "source": [
    "def generate_problem(size, val_range=(1, 10), M=999999):\n",
    "    \"\"\"Generate a transportation problem with special cases like zeroes, M-values, and zero-rows/columns.\"\"\"\n",
    "    # Random costs\n",
    "    costs = np.random.randint(val_range[0], val_range[1], (size, size))\n",
    "\n",
    "    # Introduce random zeroes\n",
    "    num_zeroes = np.random.randint(1, size)  # Random number of zeroes\n",
    "    for _ in range(num_zeroes):\n",
    "        i, j = np.random.randint(0, size, 2)\n",
    "        costs[i, j] = 0\n",
    "\n",
    "    # Introduce random M-values\n",
    "    num_m_values = np.random.randint(0, size//3)  # Random number of M-values\n",
    "    for _ in range(num_m_values):\n",
    "        i, j = np.random.randint(0, size, 2)\n",
    "        costs[i, j] = M\n",
    "\n",
    "    # Occasionally set a random row to zero (zero-row)\n",
    "    if np.random.rand() < 0.5:  # 50% chance of having a zero-row\n",
    "        row = np.random.randint(0, size)\n",
    "        costs[row, :] = 0\n",
    "\n",
    "    # Occasionally set a random column to zero (zero-column)\n",
    "    if np.random.rand() < 0.5:  # 50% chance of having a zero-column\n",
    "        col = np.random.randint(0, size)\n",
    "        costs[:, col] = 0\n",
    "\n",
    "    # Random supply and demand\n",
    "    supply = np.random.randint(val_range[0], val_range[1], size)\n",
    "    demand = np.random.randint(val_range[0], val_range[1], size)\n",
    "\n",
    "    # Balance supply and demand\n",
    "    total_supply = np.sum(supply)\n",
    "    total_demand = np.sum(demand)\n",
    "    if total_supply > total_demand:\n",
    "        demand[-1] += (total_supply - total_demand)\n",
    "    elif total_demand > total_supply:\n",
    "        supply[-1] += (total_demand - total_supply)\n",
    "\n",
    "    return costs, supply, demand\n",
    "\n",
    "\n",
    "\n",
    "def analyze(sizes, runs=10):\n",
    "    results = []\n",
    "    for size in sizes:\n",
    "        total_z = 0\n",
    "        total_iter = 0\n",
    "        total_avg_chain = 0\n",
    "        total_p = 0\n",
    "        \n",
    "        for _ in range(runs):\n",
    "            costs, supply, demand = generate_problem(size)\n",
    "            _, Z, num_iters, avg_chain = transportation_method(costs, supply, demand)\n",
    "            _, p_cost = verify_with_pulp(costs, supply, demand)\n",
    "            total_avg_chain += avg_chain\n",
    "            total_iter += num_iters\n",
    "            total_z += Z\n",
    "            total_p += p_cost\n",
    "            \n",
    "        avg_Z = total_z / runs\n",
    "        avg_iter = total_iter / runs\n",
    "        avg_chaisize = total_avg_chain / runs\n",
    "        avg_p = total_p / runs\n",
    "        results.append((size, avg_Z, avg_iter, avg_chaisize, avg_p))\n",
    "        \n",
    "    return results \n",
    "\n",
    "\n",
    "sizes = [5, 10, 15]\n",
    "results = analyze(sizes, 10)\n",
    "print(\"Average results over 10 runs: \")\n",
    "print(\"Size\\tObjective function\\tPulp obj func\\tIterations\\tChain size\")\n",
    "for size, z, iters, chain, pulp_Z in results:\n",
    "    print(f\"{size:.2f}\\t\\t{z:.2f}\\t\\t  {pulp_Z:.2f}\\t\\t {iters:.2f}\\t\\t  {chain:.2f}\")"
   ]
  },
  {
   "cell_type": "markdown",
   "metadata": {},
   "source": [
    "- We need to feed it some sensible matrix. The generator isnt sensible, as we have objective with 500000 at times\n",
    "-> Construct the test sampels randomly (eg. cost, supply, demand=rand(1,10)), but let them occasionaly contain zeros, m-values, and even 0-rows and 0-collumns. total supply should == total demand"
   ]
  },
  {
   "cell_type": "markdown",
   "metadata": {},
   "source": [
    "chainsize can be zero!\n"
   ]
  }
 ],
 "metadata": {
  "kernelspec": {
   "display_name": "base",
   "language": "python",
   "name": "python3"
  },
  "language_info": {
   "codemirror_mode": {
    "name": "ipython",
    "version": 3
   },
   "file_extension": ".py",
   "mimetype": "text/x-python",
   "name": "python",
   "nbconvert_exporter": "python",
   "pygments_lexer": "ipython3",
   "version": "3.9.13"
  }
 },
 "nbformat": 4,
 "nbformat_minor": 2
}
