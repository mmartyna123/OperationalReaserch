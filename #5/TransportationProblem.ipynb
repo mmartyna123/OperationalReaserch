{
 "cells": [
  {
   "cell_type": "markdown",
   "metadata": {},
   "source": [
    "Problem representation"
   ]
  },
  {
   "cell_type": "code",
   "execution_count": 25,
   "metadata": {},
   "outputs": [
    {
     "ename": "KeyboardInterrupt",
     "evalue": "",
     "output_type": "error",
     "traceback": [
      "\u001b[1;31m---------------------------------------------------------------------------\u001b[0m",
      "\u001b[1;31mKeyboardInterrupt\u001b[0m                         Traceback (most recent call last)",
      "\u001b[1;32m~\\AppData\\Local\\Temp\\ipykernel_18132\\2911947372.py\u001b[0m in \u001b[0;36m<module>\u001b[1;34m\u001b[0m\n\u001b[0;32m     44\u001b[0m     \u001b[1;32mreturn\u001b[0m \u001b[0mallocations\u001b[0m\u001b[1;33m,\u001b[0m \u001b[0miterations\u001b[0m\u001b[1;33m\u001b[0m\u001b[1;33m\u001b[0m\u001b[0m\n\u001b[0;32m     45\u001b[0m \u001b[1;33m\u001b[0m\u001b[0m\n\u001b[1;32m---> 46\u001b[1;33m \u001b[0mallocations\u001b[0m\u001b[1;33m,\u001b[0m \u001b[0miterations\u001b[0m \u001b[1;33m=\u001b[0m \u001b[0mtransportation_simplex\u001b[0m\u001b[1;33m(\u001b[0m\u001b[0mcost\u001b[0m\u001b[1;33m,\u001b[0m \u001b[0msupply\u001b[0m\u001b[1;33m,\u001b[0m \u001b[0mdemand\u001b[0m\u001b[1;33m)\u001b[0m\u001b[1;33m\u001b[0m\u001b[1;33m\u001b[0m\u001b[0m\n\u001b[0m\u001b[0;32m     47\u001b[0m \u001b[1;33m\u001b[0m\u001b[0m\n\u001b[0;32m     48\u001b[0m \u001b[1;31m# Display results\u001b[0m\u001b[1;33m\u001b[0m\u001b[1;33m\u001b[0m\u001b[0m\n",
      "\u001b[1;32m~\\AppData\\Local\\Temp\\ipykernel_18132\\2911947372.py\u001b[0m in \u001b[0;36mtransportation_simplex\u001b[1;34m(cost, supply, demand)\u001b[0m\n\u001b[0;32m     27\u001b[0m \u001b[1;33m\u001b[0m\u001b[0m\n\u001b[0;32m     28\u001b[0m         \u001b[1;31m# Find the minimum cost among valid cells\u001b[0m\u001b[1;33m\u001b[0m\u001b[1;33m\u001b[0m\u001b[0m\n\u001b[1;32m---> 29\u001b[1;33m         \u001b[0mmin_cost_idx\u001b[0m \u001b[1;33m=\u001b[0m \u001b[0mnp\u001b[0m\u001b[1;33m.\u001b[0m\u001b[0munravel_index\u001b[0m\u001b[1;33m(\u001b[0m\u001b[0mnp\u001b[0m\u001b[1;33m.\u001b[0m\u001b[0margmin\u001b[0m\u001b[1;33m(\u001b[0m\u001b[0mcost\u001b[0m \u001b[1;33m*\u001b[0m \u001b[0mvalid_cells\u001b[0m\u001b[1;33m)\u001b[0m\u001b[1;33m,\u001b[0m \u001b[0mcost\u001b[0m\u001b[1;33m.\u001b[0m\u001b[0mshape\u001b[0m\u001b[1;33m)\u001b[0m\u001b[1;33m\u001b[0m\u001b[1;33m\u001b[0m\u001b[0m\n\u001b[0m\u001b[0;32m     30\u001b[0m         \u001b[0mi\u001b[0m\u001b[1;33m,\u001b[0m \u001b[0mj\u001b[0m \u001b[1;33m=\u001b[0m \u001b[0mmin_cost_idx\u001b[0m\u001b[1;33m\u001b[0m\u001b[1;33m\u001b[0m\u001b[0m\n\u001b[0;32m     31\u001b[0m \u001b[1;33m\u001b[0m\u001b[0m\n",
      "\u001b[1;32mc:\\Users\\mary9\\anaconda3\\lib\\site-packages\\numpy\\core\\overrides.py\u001b[0m in \u001b[0;36munravel_index\u001b[1;34m(*args, **kwargs)\u001b[0m\n",
      "\u001b[1;31mKeyboardInterrupt\u001b[0m: "
     ]
    }
   ],
   "source": [
    "import numpy as np\n",
    "M = 9999999\n",
    "\n",
    "cost = np.array([[7, 5, 5, 0],\n",
    "                 [3, 10, 10, M],\n",
    "                 [3, 10, 10, 0],\n",
    "                 [M, M, 0, 0]])\n",
    "supply = np.array([30, 20, 80, 80])\n",
    "demand = np.array([40, 40, 20, 110])\n",
    "\n",
    "\n",
    "\n",
    "\n",
    "\n",
    "\n",
    "def transportation_simplex(cost, supply, demand):\n",
    "    m, n = cost.shape\n",
    "    allocations = np.zeros_like(cost, dtype=float)\n",
    "    remaining_supply = supply.copy()\n",
    "    remaining_demand = demand.copy()\n",
    "    iterations = 0\n",
    "\n",
    "    valid_cells = np.ones_like(cost, dtype=bool)\n",
    "\n",
    "    while np.any(remaining_supply > 0) and np.any(remaining_demand > 0):\n",
    "        iterations += 1\n",
    "\n",
    "        # Find the minimum cost among valid cells\n",
    "        min_cost_idx = np.unravel_index(np.argmin(cost * valid_cells), cost.shape)\n",
    "        i, j = min_cost_idx\n",
    "\n",
    "        # Allocate as much as possible to the selected cell\n",
    "        allocation = min(remaining_supply[i], remaining_demand[j])\n",
    "        allocations[i, j] = allocation\n",
    "        remaining_supply[i] -= allocation\n",
    "        remaining_demand[j] -= allocation\n",
    "\n",
    "        # Update the valid cells to reflect exhausted rows or columns\n",
    "        if remaining_supply[i] == 0:\n",
    "            valid_cells[i, :] = False\n",
    "        if remaining_demand[j] == 0:\n",
    "            valid_cells[:, j] = False\n",
    "\n",
    "    return allocations, iterations\n",
    "\n",
    "allocations, iterations = transportation_simplex(cost, supply, demand)\n",
    "\n",
    "# Display results\n",
    "print(\"\\n--- Results ---\")\n",
    "print(\"Optimal Allocations:\")\n",
    "print(allocations)\n",
    "print(f\"Total Cost: {np.sum(allocations * cost)}\")\n",
    "print(f\"Number of Iterations: {iterations}\")"
   ]
  },
  {
   "cell_type": "markdown",
   "metadata": {},
   "source": [
    "### PuLP verification"
   ]
  },
  {
   "cell_type": "code",
   "execution_count": 19,
   "metadata": {},
   "outputs": [
    {
     "name": "stdout",
     "output_type": "stream",
     "text": [
      "PuLP solution:\n",
      " [[ 0 30  0  0]\n",
      " [10 10  0  0]\n",
      " [30  0  0 50]\n",
      " [ 0  0 20 60]]\n",
      "PuLP objective value: 370.0\n"
     ]
    }
   ],
   "source": [
    "def verify_with_pulp(cost, supply, demand):\n",
    "    prob = pl.LpProblem(\"Transportation_Problem\", pl.LpMinimize)\n",
    "    rows, cols = cost.shape\n",
    "    x = pl.LpVariable.dicts(\"x\", (range(rows), range(cols)), 0, None, pl.LpInteger)\n",
    "\n",
    "    prob += pl.lpSum(cost[i][j] * x[i][j] for i in range(rows) for j in range(cols))\n",
    "\n",
    "    for i in range(rows):\n",
    "        prob += pl.lpSum(x[i][j] for j in range(cols)) == supply[i]\n",
    "    for j in range(cols):\n",
    "        prob += pl.lpSum(x[i][j] for i in range(rows)) == demand[j]\n",
    "\n",
    "    prob.solve()\n",
    "\n",
    "    solution = np.zeros_like(cost, dtype=int)\n",
    "    for i in range(rows):\n",
    "        for j in range(cols):\n",
    "            solution[i, j] = int(x[i][j].varValue)\n",
    "\n",
    "    return solution, pl.value(prob.objective)\n",
    "\n",
    "# Example verification:\n",
    "pulp_solution, pulp_cost = verify_with_pulp(cost, supply, demand)\n",
    "print(\"PuLP solution:\\n\", pulp_solution)\n",
    "print(\"PuLP objective value:\", pulp_cost)\n",
    "\n"
   ]
  }
 ],
 "metadata": {
  "kernelspec": {
   "display_name": "base",
   "language": "python",
   "name": "python3"
  },
  "language_info": {
   "codemirror_mode": {
    "name": "ipython",
    "version": 3
   },
   "file_extension": ".py",
   "mimetype": "text/x-python",
   "name": "python",
   "nbconvert_exporter": "python",
   "pygments_lexer": "ipython3",
   "version": "3.9.13"
  }
 },
 "nbformat": 4,
 "nbformat_minor": 2
}
