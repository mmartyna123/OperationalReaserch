{
 "cells": [
  {
   "cell_type": "markdown",
   "metadata": {},
   "source": [
    "# Lab 3 - The Matrix Form and The Duality Theory"
   ]
  },
  {
   "cell_type": "markdown",
   "metadata": {},
   "source": [
    "<b>Information on group members:</b><br>\n",
    "1) Student ID, Name and last name <br>\n",
    "2) Student ID, Name and last name"
   ]
  },
  {
   "cell_type": "code",
   "execution_count": 59,
   "metadata": {},
   "outputs": [],
   "source": [
    "from pulp import *  \n",
    "import numpy as np\n",
    "import pandas as pd\n",
    "import itertools\n",
    "from itertools import combinations\n",
    "from IPython.display import display"
   ]
  },
  {
   "cell_type": "markdown",
   "metadata": {},
   "source": [
    "# 1) The Matrix Form - Fundamental Insight (finish this part to get 3.0)"
   ]
  },
  {
   "cell_type": "markdown",
   "metadata": {},
   "source": [
    "1.1) Given is the below (primal) linear problem:"
   ]
  },
  {
   "cell_type": "markdown",
   "metadata": {},
   "source": [
    "primal problem:<br>\n",
    "MAXIMIZE<br>\n",
    "4*x1 + 2*x2 + 3*x3 <br>\n",
    "\n",
    "SUBJECT TO<br>\n",
    "1_constraint: x1 + x2 <= 10<br>\n",
    "2_constraint: 2*x2 + x3 <= 12<br>\n",
    "3_constraint: 3*x1 + 2*x3 <= 15<br>\n",
    "4_constraint: x1 + x2 + x3 <= 20<br>\n",
    "\n",
    "VARIABLES<br>\n",
    "x1 Continuous<br>\n",
    "x2 Continuous<br>\n",
    "x3 Continuous<br>"
   ]
  },
  {
   "cell_type": "markdown",
   "metadata": {},
   "source": [
    "1.2) Use the PuLP library to solve the above problem. Identify the optimal solution: the values for basic variables and the corresponding value for the objective function."
   ]
  },
  {
   "cell_type": "code",
   "execution_count": 60,
   "metadata": {},
   "outputs": [
    {
     "data": {
      "text/plain": [
       "Lab3TaskA:\n",
       "MAXIMIZE\n",
       "4*x1 + 2*x2 + 3*x3 + 0\n",
       "SUBJECT TO\n",
       "#1_constraint: x1 + x2 <= 10\n",
       "\n",
       "#2_constraint: 2 x2 + x3 <= 12\n",
       "\n",
       "#3_constraint: 3 x1 + 2 x3 <= 15\n",
       "\n",
       "#4_constraint: x1 + x2 + x3 <= 20\n",
       "\n",
       "VARIABLES\n",
       "x1 Continuous\n",
       "x2 Continuous\n",
       "x3 Continuous"
      ]
     },
     "execution_count": 60,
     "metadata": {},
     "output_type": "execute_result"
    }
   ],
   "source": [
    "### Model here:\n",
    "model = LpProblem(\"Lab3TaskA\", LpMaximize)\n",
    "# Variables\n",
    "x1 = LpVariable(name=\"x1\", lowBound=0) #do they have to be nonnegative??????????\n",
    "x2 = LpVariable(name=\"x2\", lowBound=0)\n",
    "x3 = LpVariable(name=\"x3\", lowBound=0)\n",
    "\n",
    "# Constraints\n",
    "# x1 + x2 <= 10\n",
    "model += (x1 + x2 <= 10, \"#1 constraint\")\n",
    "# 2*x2 + x3 <= 12\n",
    "model += (2*x2 + x3 <= 12, \"#2 constraint\")\n",
    "# 3*x1 + 2*x3 <= 15\n",
    "model += (3*x1 + 2*x3 <= 15, \"#3 constraint\")\n",
    "# x1 + x2 + x3 <= 20\n",
    "model += (x1 + x2 + x3 <= 20, \"#4 constraint\")\n",
    "\n",
    "# Objective\n",
    "obj_func = 4*x1 + 2*x2 + 3*x3\n",
    "model += obj_func\n",
    "\n",
    "model\n"
   ]
  },
  {
   "cell_type": "code",
   "execution_count": 61,
   "metadata": {},
   "outputs": [
    {
     "name": "stdout",
     "output_type": "stream",
     "text": [
      "status: 1, Optimal\n",
      "objective: 31.428571379999998\n",
      "\n",
      "Constraints:\n",
      "#1_constraint: 0.0\n",
      "#2_constraint: 5.999999985739635e-08\n",
      "#3_constraint: -7.999999906971311e-08\n",
      "#4_constraint: -9.14285714\n",
      "\n",
      "Variables & their values:\n",
      "x1: 4.4285714\n",
      "x2: 5.5714286\n",
      "x3: 0.85714286\n"
     ]
    }
   ],
   "source": [
    "### Solve here\n",
    "status = model.solve()\n",
    "print(f\"status: {model.status}, {LpStatus[model.status]}\")\n",
    "print(f\"objective: {model.objective.value()}\\n\")\n",
    "print('Constraints:')\n",
    "for name, constraint in model.constraints.items():  print(f\"{name}: {constraint.value()}\")\n",
    "print('\\nVariables & their values:')\n",
    "for var in model.variables():  print(f\"{var.name}: {var.value()}\")\n"
   ]
  },
  {
   "cell_type": "markdown",
   "metadata": {},
   "source": [
    "1.3) In this exercise, you are asked to identify ALL basic (feasible and not) solutions to the above problem. We will do this naively. Specifically, you are asked to use the fundamental insight to build a final simplex tableau for each possible base. Therefore, you need first to initialize the data: c, b, A matrixes, and it is suggested to initialize the auxiliary matrix M defined as M = A + (concatenate) I (identity matrix). Note that the problem should be formulated in the augmented form. Then, you have to iterate over each possible base B, compute B-1, and other relevant parts for the simplex tableau.<br><br>\n",
    "a) Identify the optimal solution using the optimality condition; print it (Z value and values for basic variables); compare thus derived solution with the optimum found using the PuLP library (obviously, both solutions should be the same). <br>\n",
    "b) Count the number of feasible and infeasible solutions. How many (all) basic solutions to the problem can be identified? <br><br>\n",
    "It is suggested to use the NumPy library for performing matrix operations. "
   ]
  },
  {
   "cell_type": "code",
   "execution_count": 62,
   "metadata": {},
   "outputs": [],
   "source": [
    "### Initialize the data here:\n",
    "### TODO\n",
    "c = np.array([4, 2, 3]) #coefficients in the objective function\n",
    "b = np.array([10, 12, 15, 20]).reshape(-1,1) #right-hand side of the constraints\n",
    "A = np.array([[1, 1, 0], [0, 2, 1], [3, 0, 2], [1, 1, 1]]) #coefficients in the constraints\n",
    "I = np.eye(4) # identity matrix\n",
    "M = np.concatenate((A, I), axis=1) # The matrix M\n",
    "base = np.array([3, 4, 5, 6]) # The base corresponds to the indices of the identity matrix columns in M\n"
   ]
  },
  {
   "cell_type": "markdown",
   "metadata": {},
   "source": [
    "<b> Important note: the below is just a proposition. You can solve the problem in your own way. </b>\n",
    "\n",
    "You can define an auxiliary method constructing a final simplex tableau for a given base.  Here, \"base\" is a list of columns (integers) for the base. Note that the functions in python can return multiple objects and you can use this functionality to return<br>\n",
    "- the inversed base<br>\n",
    "- coefficients in the row 0 for slack variables<br>\n",
    "- right side values (except the objective function value)<br>\n",
    "- the objective function value<br>\n",
    "- the coefficients for decision variables in row 0 <br>\n",
    "- the coefficients for decision variables in rows 1+<br>\n",
    "\n",
    "Note that if BI cannot be built (it is possible), the method may return None in order to notify the executive method about this exception. \n",
    "\n"
   ]
  },
  {
   "cell_type": "code",
   "execution_count": 154,
   "metadata": {},
   "outputs": [],
   "source": [
    "#more like get a table :D\n",
    "def getFinalTableau(base, c, b, A, M): \n",
    "    c_extended = np.concatenate((c, np.zeros(4)))\n",
    "    c_b = c_extended[base]\n",
    "    B = M[:, base]\n",
    "    if B.shape[0] != B.shape[1] or np.linalg.matrix_rank(B) != B.shape[0]:\n",
    "        return None\n",
    "    else:\n",
    "        B_inv = np.linalg.inv(B)\n",
    "    x_b = B_inv @ b\n",
    "    \n",
    "    row0 = np.concatenate(([1], (c_b @ B_inv @ A - c), (c_b @ B_inv), (c_b @ B_inv @ b)), axis = 0)\n",
    "    row1 = np.hstack((np.zeros((B_inv.shape[0], 1)), B_inv @ A, B_inv, B_inv @ b))\n",
    "    tableau = np.vstack((row0, row1))\n",
    "    \n",
    "    #variables from row 1+ from the tableau\n",
    "    Z_DecVar = c_b @ B_inv @ A - c\n",
    "    Z_SlackVar = c_b @ B_inv\n",
    "    Z_RS = c_b @ B_inv @ b\n",
    "    x_DecVar = B_inv @ A\n",
    "    x_SlackVar = B_inv\n",
    "    x_RS = B_inv @ b\n",
    "    \n",
    "    return tableau, Z_DecVar, Z_SlackVar, Z_RS, x_DecVar, x_SlackVar, x_RS\n"
   ]
  },
  {
   "cell_type": "code",
   "execution_count": 155,
   "metadata": {},
   "outputs": [],
   "source": [
    "#\n",
    "def simplex_solution(c, b, A, M):\n",
    "    all_bases = list(combinations(range(M.shape[1]), b.shape[0]))  # All combinations of columns for possible bases\n",
    "    feasible_solutions = 0\n",
    "    infeasible_solutions = 0\n",
    "    optimal_solution_found = False\n",
    "    treshold = -10**(-15) #due to the computation i set a small treshold equal to decimal num in model\n",
    "\n",
    "    for base in all_bases:\n",
    "        #calculating a tableau for the curr base\n",
    "        tableau_result = getFinalTableau(np.array(base), c, b, A, M)\n",
    "        \n",
    "        #if b is not invertible we add infisible solution ?dowe\n",
    "        if tableau_result is None:\n",
    "            #infeasible_solutions += 1\n",
    "            continue\n",
    "        \n",
    "        #when B is invertible we create a tableau\n",
    "        tableau, Z_DecVar, Z_SlackVar, Z_RS, x_DecVar, x_SlackVar, x_RS = tableau_result\n",
    "        \n",
    "        #feasibility check -> right sides of the basic variables hav to be nonnegative\n",
    "        if min(x_RS) >= treshold:\n",
    "            feasible_solutions += 1 #we increment num of feasible solutions\n",
    "            print(\"\\nFeasible solution found:\")\n",
    "            print(\"Objective value (Z) =\", Z_RS[0]) #printing value of feasible solution\n",
    "\n",
    "            #displaying values of dec var for feasible solution\n",
    "            for i, var_index in enumerate(base):\n",
    "                print(f\"x{var_index} =\", x_RS[i])\n",
    "\n",
    "            #optimality Check -> all variables in row0 have to be nonnegative\n",
    "            if min(Z_DecVar.min(), Z_SlackVar.min()) >= treshold:\n",
    "                print(f\"This optimal solution was found with objective value of {Z_RS[0]}.\")\n",
    "                optimal_solution_found = True\n",
    "                #break  #we finish iterating after finding optimal solution\n",
    "\n",
    "        else:\n",
    "            infeasible_solutions += 1\n",
    "\n",
    "    #Sumarry of the results\n",
    "    print(\"\\nSummary:\")\n",
    "    print(\"Number of feasible solutions:\", feasible_solutions)\n",
    "    print(\"Number of infeasible solutions:\", infeasible_solutions)\n",
    "    print(\"Total number of base solutions checked:\", feasible_solutions + infeasible_solutions)\n",
    "    if optimal_solution_found:\n",
    "        print(\"An optimal solution was found.\")\n",
    "    else:\n",
    "        print(\"No optimal solution was found.\")\n"
   ]
  },
  {
   "cell_type": "code",
   "execution_count": 156,
   "metadata": {},
   "outputs": [
    {
     "name": "stdout",
     "output_type": "stream",
     "text": [
      "\n",
      "Feasible solution found:\n",
      "Objective value (Z) = 31.428571428571427\n",
      "x0 = [4.42857143]\n",
      "x1 = [5.57142857]\n",
      "x2 = [0.85714286]\n",
      "x6 = [9.14285714]\n",
      "This optimal solution was found with objective value of 31.428571428571427.\n",
      "\n",
      "Feasible solution found:\n",
      "Objective value (Z) = 30.0\n",
      "x0 = [5.]\n",
      "x1 = [5.]\n",
      "x4 = [2.]\n",
      "x6 = [10.]\n",
      "\n",
      "Feasible solution found:\n",
      "Objective value (Z) = 28.0\n",
      "x0 = [4.]\n",
      "x1 = [6.]\n",
      "x5 = [3.]\n",
      "x6 = [10.]\n",
      "\n",
      "Feasible solution found:\n",
      "Objective value (Z) = 20.0\n",
      "x0 = [5.]\n",
      "x3 = [5.]\n",
      "x4 = [12.]\n",
      "x6 = [15.]\n",
      "\n",
      "Feasible solution found:\n",
      "Objective value (Z) = 27.0\n",
      "x1 = [2.25]\n",
      "x2 = [7.5]\n",
      "x3 = [7.75]\n",
      "x6 = [10.25]\n",
      "\n",
      "Feasible solution found:\n",
      "Objective value (Z) = 12.0\n",
      "x1 = [6.]\n",
      "x3 = [4.]\n",
      "x5 = [15.]\n",
      "x6 = [14.]\n",
      "\n",
      "Feasible solution found:\n",
      "Objective value (Z) = 22.5\n",
      "x2 = [7.5]\n",
      "x3 = [10.]\n",
      "x4 = [4.5]\n",
      "x6 = [12.5]\n",
      "\n",
      "Feasible solution found:\n",
      "Objective value (Z) = 0.0\n",
      "x3 = [10.]\n",
      "x4 = [12.]\n",
      "x5 = [15.]\n",
      "x6 = [20.]\n",
      "\n",
      "Summary:\n",
      "Number of feasible solutions: 8\n",
      "Number of infeasible solutions: 23\n",
      "Total number of base solutions checked: 31\n",
      "An optimal solution was found.\n"
     ]
    }
   ],
   "source": [
    "simplex_solution(c, b, A, M)"
   ]
  },
  {
   "cell_type": "markdown",
   "metadata": {},
   "source": [
    "## 2) The Duality Theory (finish this part + part 1 + to get 5.0)"
   ]
  },
  {
   "cell_type": "markdown",
   "metadata": {},
   "source": [
    "2.1) Model the dual problem to the above solved primal one, using the PuLP library. Then, solve it and compare the derived optimum with the optimum for the primal problem. Are they equal?"
   ]
  },
  {
   "cell_type": "code",
   "execution_count": null,
   "metadata": {},
   "outputs": [],
   "source": [
    "### Model here:\n",
    "### TODO\n"
   ]
  },
  {
   "cell_type": "code",
   "execution_count": null,
   "metadata": {},
   "outputs": [],
   "source": [
    "### Solve here:\n",
    "### TODO\n"
   ]
  },
  {
   "cell_type": "markdown",
   "metadata": {},
   "source": [
    "2.2) This exercise is based on the exercise 1.3 (copy & paste solution). Here, you are asked to iterate over all basic solutions (as in 1.3) and store them along with their complementary dual solutions. Solutions should be stored in the PRIMAL_DUAL_SOLUTIONS list and sorted according to the objective value Z = W. Analyze their optimality and feasibility. Finally, you have to display all basic solutions wlong with their complementary solutions (you can use the provided piece of code written using the pandas library). <br><br>\n",
    "\n",
    "PRIMAL_DUAL_SOLUTIONS is defined as a table consisting of n rows, where n is the number of basic solutions to the problem, and 21 columns. The columns are defined as follows:<br>\n",
    "Col. 1: The objective value Z<br>\n",
    "Col. 2-4: The values for decision variables (primal solution)<br>\n",
    "Col. 5-8: The values for slack variables (primal solution)<br>\n",
    "Col. 9: P_F = Y or N, Y/N = primal solution is feasible/infeasible<br>\n",
    "Col. 10: P_O = Y or N, Y/N = primal solution is optimal/is not optimal<br>\n",
    "Col. 11: P_STATE = -/suboptimal/superoptimal/optimal; depends on P_F and P_O (primal)<br>\n",
    "Col. 12: D_STATE = -/suboptimal/superoptimal/optimal; depends on D_F and D_O (dual)<br>\n",
    "Col. 13: D_F = Y or N, Y/N = dual solution is feasible/infeasible<br>\n",
    "Col. 14: D_O = Y or N, Y/N = dual solution is optimal/is not optimal<br>\n",
    "Col. 15-18: The values for decision variables (dual solution)<br>\n",
    "Col. 19-21: The values for surplus variables (dual solution)<br><br>\n",
    "\n",
    "Reminder: sort solutions according to Z; analyze how their states change with the increase of Z."
   ]
  },
  {
   "cell_type": "code",
   "execution_count": null,
   "metadata": {},
   "outputs": [],
   "source": [
    "### TODO \n",
    "\n",
    "### DISPLAY STORED PAIRS OF SOLUTIONS\n",
    "#df = pd.DataFrame(PRIMAL_DUAL_SOLUTIONS, columns = [\"Z\", \"x1\", \"x2\", \"x3\", \"slack1\", \"slack2\", \"slack3\", \"slack4\", \"P_F\", \"P_O\", \"P_STATE\", \"D_STATE\", \"D_F\", \"F_O\",\n",
    "#                                                   \"y1\", \"y2\", \"y3\", \"y4\", \"sur1\", \"sur2\", \"sur3\"])\n",
    "\n",
    "#display(df.style.set_properties(**{\n",
    "#        'width': '230px',\n",
    "#        'max-width': '230px',\n",
    "#    }))"
   ]
  }
 ],
 "metadata": {
  "kernelspec": {
   "display_name": "Python 3",
   "language": "python",
   "name": "python3"
  },
  "language_info": {
   "codemirror_mode": {
    "name": "ipython",
    "version": 3
   },
   "file_extension": ".py",
   "mimetype": "text/x-python",
   "name": "python",
   "nbconvert_exporter": "python",
   "pygments_lexer": "ipython3",
   "version": "3.10.7"
  }
 },
 "nbformat": 4,
 "nbformat_minor": 4
}
