{
 "cells": [
  {
   "cell_type": "markdown",
   "metadata": {},
   "source": [
    "# Lab 3 - The Matrix Form and The Duality Theory"
   ]
  },
  {
   "cell_type": "markdown",
   "metadata": {},
   "source": [
    "<b>Information on group members:</b><br>\n",
    "1) 156071, Martyna Stasiak <br>\n",
    "2) 156062, Maria Musiał"
   ]
  },
  {
   "cell_type": "code",
   "execution_count": 1,
   "metadata": {},
   "outputs": [],
   "source": [
    "from pulp import *  \n",
    "import numpy as np\n",
    "import pandas as pd\n",
    "import itertools\n",
    "from IPython.display import display"
   ]
  },
  {
   "cell_type": "markdown",
   "metadata": {},
   "source": [
    "# 1) The Matrix Form - Fundamental Insight (finish this part to get 3.0)"
   ]
  },
  {
   "cell_type": "markdown",
   "metadata": {},
   "source": [
    "1.1) Given is the below (primal) linear problem:"
   ]
  },
  {
   "cell_type": "markdown",
   "metadata": {},
   "source": [
    "primal problem:<br>\n",
    "MAXIMIZE<br>\n",
    "4*x1 + 2*x2 + 3*x3 <br>\n",
    "\n",
    "SUBJECT TO<br>\n",
    "1_constraint: x1 + x2 <= 10<br>\n",
    "2_constraint: 2*x2 + x3 <= 12<br>\n",
    "3_constraint: 3*x1 + 2*x3 <= 15<br>\n",
    "4_constraint: x1 + x2 + x3 <= 20<br>\n",
    "\n",
    "VARIABLES<br>\n",
    "x1 Continuous<br>\n",
    "x2 Continuous<br>\n",
    "x3 Continuous<br>"
   ]
  },
  {
   "cell_type": "markdown",
   "metadata": {},
   "source": [
    "1.2) Use the PuLP library to solve the above problem. Identify the optimal solution: the values for basic variables and the corresponding value for the objective function."
   ]
  },
  {
   "cell_type": "code",
   "execution_count": 3,
   "metadata": {},
   "outputs": [
    {
     "data": {
      "text/plain": [
       "Lab3TaskA:\n",
       "MAXIMIZE\n",
       "4*x1 + 2*x2 + 3*x3 + 0\n",
       "SUBJECT TO\n",
       "#1_constraint: x1 + x2 <= 10\n",
       "\n",
       "#2_constraint: 2 x2 + x3 <= 12\n",
       "\n",
       "#3_constraint: 3 x1 + 2 x3 <= 15\n",
       "\n",
       "#4_constraint: x1 + x2 + x3 <= 20\n",
       "\n",
       "VARIABLES\n",
       "x1 Continuous\n",
       "x2 Continuous\n",
       "x3 Continuous"
      ]
     },
     "execution_count": 3,
     "metadata": {},
     "output_type": "execute_result"
    }
   ],
   "source": [
    "### Model here:\n",
    "model = LpProblem(\"Lab3TaskA\", LpMaximize)\n",
    "# Variables\n",
    "x1 = LpVariable(name=\"x1\", lowBound=0) #do they have to be nonnegative??????????\n",
    "x2 = LpVariable(name=\"x2\", lowBound=0)\n",
    "x3 = LpVariable(name=\"x3\", lowBound=0)\n",
    "\n",
    "# Constraints\n",
    "# x1 + x2 <= 10\n",
    "model += (x1 + x2 <= 10, \"#1 constraint\")\n",
    "# 2*x2 + x3 <= 12\n",
    "model += (2*x2 + x3 <= 12, \"#2 constraint\")\n",
    "# 3*x1 + 2*x3 <= 15\n",
    "model += (3*x1 + 2*x3 <= 15, \"#3 constraint\")\n",
    "# x1 + x2 + x3 <= 20\n",
    "model += (x1 + x2 + x3 <= 20, \"#4 constraint\")\n",
    "\n",
    "# Objective\n",
    "obj_func = 4*x1 + 2*x2 + 3*x3\n",
    "model += obj_func\n",
    "\n",
    "model\n"
   ]
  },
  {
   "cell_type": "code",
   "execution_count": 8,
   "metadata": {},
   "outputs": [
    {
     "name": "stdout",
     "output_type": "stream",
     "text": [
      "status: 1, Optimal\n",
      "objective: 31.428571379999998\n",
      "\n",
      "Constraints:\n",
      "#1_constraint: 0.0\n",
      "#2_constraint: 5.999999985739635e-08\n",
      "#3_constraint: -7.999999906971311e-08\n",
      "#4_constraint: -9.14285714\n",
      "\n",
      "Variables & their values:\n",
      "x1: 4.4285714\n",
      "x2: 5.5714286\n",
      "x3: 0.85714286\n"
     ]
    }
   ],
   "source": [
    "### Solve here\n",
    "status = model.solve()\n",
    "print(f\"status: {model.status}, {LpStatus[model.status]}\")\n",
    "print(f\"objective: {model.objective.value()}\\n\")\n",
    "print('Constraints:')\n",
    "for name, constraint in model.constraints.items():  print(f\"{name}: {constraint.value()}\")\n",
    "print('\\nVariables & their values:')\n",
    "for var in model.variables():  print(f\"{var.name}: {var.value()}\")"
   ]
  },
  {
   "cell_type": "markdown",
   "metadata": {},
   "source": [
    "1.3) In this exercise, you are asked to identify ALL basic (feasible and not) solutions to the above problem. We will do this naively. Specifically, you are asked to use the fundamental insight to build a final simplex tableau for each possible base. Therefore, you need first to initialize the data: c, b, A matrixes, and it is suggested to initialize the auxiliary matrix M defined as M = A + (concatenate) I (identity matrix). Note that the problem should be formulated in the augmented form. Then, you have to iterate over each possible base B, compute B-1, and other relevant parts for the simplex tableau.<br><br>\n",
    "a) Identify the optimal solution using the optimality condition; print it (Z value and values for basic variables); compare thus derived solution with the optimum found using the PuLP library (obviously, both solutions should be the same). <br>\n",
    "b) Count the number of feasible and infeasible solutions. How many (all) basic solutions to the problem can be identified? <br><br>\n",
    "It is suggested to use the NumPy library for performing matrix operations. "
   ]
  },
  {
   "cell_type": "code",
   "execution_count": null,
   "metadata": {},
   "outputs": [],
   "source": [
    "### Initialize the data here:\n",
    "### TODO\n",
    "### c = \n",
    "### b = \n",
    "### A = \n",
    "### M = \n"
   ]
  },
  {
   "cell_type": "markdown",
   "metadata": {},
   "source": [
    "<b> Important note: the below is just a proposition. You can solve the problem in your own way. </b>\n",
    "\n",
    "You can define an auxiliary method constructing a final simplex tableau for a given base.  Here, \"base\" is a list of columns (integers) for the base. Note that the functions in python can return multiple objects and you can use this functionality to return<br>\n",
    "- the inversed base<br>\n",
    "- coefficients in the row 0 for slack variables<br>\n",
    "- right side values (except the objective function value)<br>\n",
    "- the objective function value<br>\n",
    "- the coefficients for decision variables in row 0 <br>\n",
    "- the coefficients for decision variables in rows 1+<br>\n",
    "\n",
    "Note that if BI cannot be built (it is possible), the method may return None in order to notify the executive method about this exception. \n",
    "\n"
   ]
  },
  {
   "cell_type": "code",
   "execution_count": null,
   "metadata": {},
   "outputs": [],
   "source": [
    "def getFinalTableau(base, c, b, A, M):\n",
    "    # TODO\n",
    "    # return None\n"
   ]
  },
  {
   "cell_type": "code",
   "execution_count": null,
   "metadata": {},
   "outputs": [],
   "source": [
    "### Solve the problem here\n",
    "### TODO"
   ]
  },
  {
   "cell_type": "markdown",
   "metadata": {},
   "source": [
    "## 2) The Duality Theory (finish this part + part 1 + to get 5.0)"
   ]
  },
  {
   "cell_type": "markdown",
   "metadata": {},
   "source": [
    "2.1) Model the dual problem to the above solved primal one, using the PuLP library. Then, solve it and compare the derived optimum with the optimum for the primal problem. Are they equal?"
   ]
  },
  {
   "cell_type": "code",
   "execution_count": null,
   "metadata": {},
   "outputs": [],
   "source": [
    "### Model here:\n",
    "### TODO\n"
   ]
  },
  {
   "cell_type": "code",
   "execution_count": null,
   "metadata": {},
   "outputs": [],
   "source": [
    "### Solve here:\n",
    "### TODO\n"
   ]
  },
  {
   "cell_type": "markdown",
   "metadata": {},
   "source": [
    "2.2) This exercise is based on the exercise 1.3 (copy & paste solution). Here, you are asked to iterate over all basic solutions (as in 1.3) and store them along with their complementary dual solutions. Solutions should be stored in the PRIMAL_DUAL_SOLUTIONS list and sorted according to the objective value Z = W. Analyze their optimality and feasibility. Finally, you have to display all basic solutions wlong with their complementary solutions (you can use the provided piece of code written using the pandas library). <br><br>\n",
    "\n",
    "PRIMAL_DUAL_SOLUTIONS is defined as a table consisting of n rows, where n is the number of basic solutions to the problem, and 21 columns. The columns are defined as follows:<br>\n",
    "Col. 1: The objective value Z<br>\n",
    "Col. 2-4: The values for decision variables (primal solution)<br>\n",
    "Col. 5-8: The values for slack variables (primal solution)<br>\n",
    "Col. 9: P_F = Y or N, Y/N = primal solution is feasible/infeasible<br>\n",
    "Col. 10: P_O = Y or N, Y/N = primal solution is optimal/is not optimal<br>\n",
    "Col. 11: P_STATE = -/suboptimal/superoptimal/optimal; depends on P_F and P_O (primal)<br>\n",
    "Col. 12: D_STATE = -/suboptimal/superoptimal/optimal; depends on D_F and D_O (dual)<br>\n",
    "Col. 13: D_F = Y or N, Y/N = dual solution is feasible/infeasible<br>\n",
    "Col. 14: D_O = Y or N, Y/N = dual solution is optimal/is not optimal<br>\n",
    "Col. 15-18: The values for decision variables (dual solution)<br>\n",
    "Col. 19-21: The values for surplus variables (dual solution)<br><br>\n",
    "\n",
    "Reminder: sort solutions according to Z; analyze how their states change with the increase of Z."
   ]
  },
  {
   "cell_type": "code",
   "execution_count": null,
   "metadata": {},
   "outputs": [],
   "source": [
    "### TODO \n",
    "\n",
    "### DISPLAY STORED PAIRS OF SOLUTIONS\n",
    "#df = pd.DataFrame(PRIMAL_DUAL_SOLUTIONS, columns = [\"Z\", \"x1\", \"x2\", \"x3\", \"slack1\", \"slack2\", \"slack3\", \"slack4\", \"P_F\", \"P_O\", \"P_STATE\", \"D_STATE\", \"D_F\", \"F_O\",\n",
    "#                                                   \"y1\", \"y2\", \"y3\", \"y4\", \"sur1\", \"sur2\", \"sur3\"])\n",
    "\n",
    "#display(df.style.set_properties(**{\n",
    "#        'width': '230px',\n",
    "#        'max-width': '230px',\n",
    "#    }))"
   ]
  }
 ],
 "metadata": {
  "kernelspec": {
   "display_name": "Python 3",
   "language": "python",
   "name": "python3"
  },
  "language_info": {
   "codemirror_mode": {
    "name": "ipython",
    "version": 3
   },
   "file_extension": ".py",
   "mimetype": "text/x-python",
   "name": "python",
   "nbconvert_exporter": "python",
   "pygments_lexer": "ipython3",
   "version": "3.10.7"
  }
 },
 "nbformat": 4,
 "nbformat_minor": 4
}
