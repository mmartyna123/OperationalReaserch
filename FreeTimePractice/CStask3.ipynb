{
 "cells": [
  {
   "cell_type": "code",
   "execution_count": 2,
   "metadata": {},
   "outputs": [],
   "source": [
    "from pulp import *  \n",
    "import numpy as np\n",
    "import pandas as pd\n",
    "import itertools\n",
    "from IPython.display import display"
   ]
  },
  {
   "cell_type": "code",
   "execution_count": 3,
   "metadata": {},
   "outputs": [
    {
     "data": {
      "text/plain": [
       "Lab3TaskA:\n",
       "MAXIMIZE\n",
       "40*x1 + 35*x2 + 0\n",
       "SUBJECT TO\n",
       "#1_constraint: x1 + x2 <= 24\n",
       "\n",
       "#2_constraint: 3 x1 + 2 x2 <= 60\n",
       "\n",
       "VARIABLES\n",
       "x1 Continuous\n",
       "x2 Continuous"
      ]
     },
     "execution_count": 3,
     "metadata": {},
     "output_type": "execute_result"
    }
   ],
   "source": [
    "### Model here:\n",
    "model = LpProblem(\"Lab3TaskA\", LpMaximize)\n",
    "# Variables\n",
    "x1 = LpVariable(name=\"x1\", lowBound=0) #do they have to be nonnegative??????????\n",
    "x2 = LpVariable(name=\"x2\", lowBound=0)\n",
    "\n",
    "\n",
    "# Constraints\n",
    "\n",
    "model += (x1 + x2 <= 24, \"#1 constraint\")\n",
    "\n",
    "model += (3*x1 + 2*x2 <= 60, \"#2 constraint\")\n",
    "# 3*x1 + 2*x3 <= 15\n",
    "\n",
    "\n",
    "# Objective\n",
    "obj_func = 40*x1 + 35*x2 \n",
    "model += obj_func\n",
    "\n",
    "model\n"
   ]
  },
  {
   "cell_type": "code",
   "execution_count": 4,
   "metadata": {},
   "outputs": [
    {
     "name": "stdout",
     "output_type": "stream",
     "text": [
      "status: 1, Optimal\n",
      "objective: 900.0\n",
      "\n",
      "Constraints:\n",
      "#1_constraint: 0.0\n",
      "#2_constraint: 0.0\n",
      "\n",
      "Variables & their values:\n",
      "x1: 12.0\n",
      "x2: 12.0\n"
     ]
    }
   ],
   "source": [
    "### Solve here\n",
    "status = model.solve()\n",
    "print(f\"status: {model.status}, {LpStatus[model.status]}\")\n",
    "print(f\"objective: {model.objective.value()}\\n\")\n",
    "print('Constraints:')\n",
    "for name, constraint in model.constraints.items():  print(f\"{name}: {constraint.value()}\")\n",
    "print('\\nVariables & their values:')\n",
    "for var in model.variables():  print(f\"{var.name}: {var.value()}\")"
   ]
  }
 ],
 "metadata": {
  "kernelspec": {
   "display_name": "Python 3",
   "language": "python",
   "name": "python3"
  },
  "language_info": {
   "codemirror_mode": {
    "name": "ipython",
    "version": 3
   },
   "file_extension": ".py",
   "mimetype": "text/x-python",
   "name": "python",
   "nbconvert_exporter": "python",
   "pygments_lexer": "ipython3",
   "version": "3.10.7"
  }
 },
 "nbformat": 4,
 "nbformat_minor": 2
}
