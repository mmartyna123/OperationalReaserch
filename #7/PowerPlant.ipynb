{
 "cells": [
  {
   "cell_type": "markdown",
   "metadata": {},
   "source": [
    "# Lab 7 - Dynamic Programming - Power Plant"
   ]
  },
  {
   "cell_type": "markdown",
   "metadata": {},
   "source": [
    "Information on group members:\n",
    "\n",
    "1) 156071, Martyna Stasiak <br>\n",
    "2) 156062, Maria Musiał"
   ]
  },
  {
   "cell_type": "code",
   "execution_count": 210,
   "metadata": {},
   "outputs": [],
   "source": [
    "%matplotlib inline\n",
    "\n",
    "from sympy.interactive import printing\n",
    "printing.init_printing(use_latex=True)\n",
    "\n",
    "import matplotlib.pyplot as plt\n",
    "import sympy as sym\n",
    "from sympy import *\n",
    "import numpy as np\n",
    "from sympy import Max, Min"
   ]
  },
  {
   "cell_type": "markdown",
   "metadata": {},
   "source": [
    "This exercise is inspired by Ex. 2 in the Exercises.pdf file. You have to set operating levels for a power plant for consecutive two-months in a way that minimizes the operating costs (using dynamic programming). Before going to the exercise, it is recommended to get acquainted with a Python library for symbolic calculations - SymPy, which can be particularly helpful for solving this task. "
   ]
  },
  {
   "cell_type": "markdown",
   "metadata": {},
   "source": [
    "# Mini tutorial on SymPy"
   ]
  },
  {
   "cell_type": "markdown",
   "metadata": {},
   "source": [
    "SymPy is a library for performing symbolic calculations instead of numerical. It allows defining symbols, functions, expressions, equations and performing various operations on them. The examples of such operations that can help solve this exercise are given below. Note that due to lines: <br><br>\n",
    "from sympy.interactive import printing <br>\n",
    "printing.init_printing(use_latex=True)  <br><br>\n",
    "located in the first cell of this notebook, the symbols can be printed using latex, improving hence readability"
   ]
  },
  {
   "cell_type": "markdown",
   "metadata": {},
   "source": [
    "<b> Defining symbols: </b>"
   ]
  },
  {
   "cell_type": "code",
   "execution_count": 211,
   "metadata": {},
   "outputs": [],
   "source": [
    "z1, z2 = symbols(\"z1 z2\")\n",
    "# or z = symbols(\"z1 z2\")"
   ]
  },
  {
   "cell_type": "markdown",
   "metadata": {},
   "source": [
    "<b> Printing a symbol using Latex: </b>"
   ]
  },
  {
   "cell_type": "code",
   "execution_count": 212,
   "metadata": {},
   "outputs": [
    {
     "data": {
      "text/latex": [
       "$\\displaystyle z_{1}$"
      ],
      "text/plain": [
       "z₁"
      ]
     },
     "execution_count": 212,
     "metadata": {},
     "output_type": "execute_result"
    }
   ],
   "source": [
    "z1"
   ]
  },
  {
   "cell_type": "markdown",
   "metadata": {},
   "source": [
    "<b> Defining an expression: </b>"
   ]
  },
  {
   "cell_type": "code",
   "execution_count": 213,
   "metadata": {},
   "outputs": [
    {
     "data": {
      "text/latex": [
       "$\\displaystyle 2 z_{1} + \\left(10 - z_{2}\\right)^{2}$"
      ],
      "text/plain": [
       "                2\n",
       "2⋅z₁ + (10 - z₂) "
      ]
     },
     "execution_count": 213,
     "metadata": {},
     "output_type": "execute_result"
    }
   ],
   "source": [
    "2*z1 + (10-z2)**2"
   ]
  },
  {
   "cell_type": "markdown",
   "metadata": {},
   "source": [
    "<b>Expanding the expression:</b>"
   ]
  },
  {
   "cell_type": "code",
   "execution_count": 214,
   "metadata": {},
   "outputs": [
    {
     "data": {
      "text/latex": [
       "$\\displaystyle 2 z_{1} + z_{2}^{2} - 20 z_{2} + 100$"
      ],
      "text/plain": [
       "         2              \n",
       "2⋅z₁ + z₂  - 20⋅z₂ + 100"
      ]
     },
     "execution_count": 214,
     "metadata": {},
     "output_type": "execute_result"
    }
   ],
   "source": [
    "expand(2*z1 + (10-z2)**2)"
   ]
  },
  {
   "cell_type": "markdown",
   "metadata": {},
   "source": [
    "<b> Simplifying the expression:</b>"
   ]
  },
  {
   "cell_type": "code",
   "execution_count": 215,
   "metadata": {},
   "outputs": [
    {
     "data": {
      "text/latex": [
       "$\\displaystyle - z_{1}^{2} - 8 z_{1} + z_{2}^{2} - 20 z_{2} + 75$"
      ],
      "text/plain": [
       "    2            2             \n",
       "- z₁  - 8⋅z₁ + z₂  - 20⋅z₂ + 75"
      ]
     },
     "execution_count": 215,
     "metadata": {},
     "output_type": "execute_result"
    }
   ],
   "source": [
    "e = simplify(expand(2*z1 + (10-z2)**2 - (5+z1)**2))\n",
    "e"
   ]
  },
  {
   "cell_type": "markdown",
   "metadata": {},
   "source": [
    "<b> Substituting a variable with a value in the expression:</b>"
   ]
  },
  {
   "cell_type": "code",
   "execution_count": 216,
   "metadata": {},
   "outputs": [
    {
     "name": "stdout",
     "output_type": "stream",
     "text": [
      "20.0000000000000\n"
     ]
    }
   ],
   "source": [
    "e = 2*z1 + (10-z1)**2\n",
    "v = e.evalf(subs={z1: 10})\n",
    "print(v)"
   ]
  },
  {
   "cell_type": "markdown",
   "metadata": {},
   "source": [
    "<b> Substituting a variable with another variable or value:</b>"
   ]
  },
  {
   "cell_type": "code",
   "execution_count": 217,
   "metadata": {},
   "outputs": [
    {
     "data": {
      "text/latex": [
       "$\\displaystyle 2 z_{1} + \\left(10 - z_{1}\\right)^{2}$"
      ],
      "text/plain": [
       "                2\n",
       "2⋅z₁ + (10 - z₁) "
      ]
     },
     "execution_count": 217,
     "metadata": {},
     "output_type": "execute_result"
    }
   ],
   "source": [
    "e = 2*z1 + (10-z2)**2\n",
    "e.subs(z2, z1)"
   ]
  },
  {
   "cell_type": "markdown",
   "metadata": {},
   "source": [
    "<b> Finding a (partial) derivative: </b>"
   ]
  },
  {
   "cell_type": "code",
   "execution_count": 218,
   "metadata": {},
   "outputs": [
    {
     "data": {
      "text/latex": [
       "$\\displaystyle 2 z_{2} - 20$"
      ],
      "text/plain": [
       "2⋅z₂ - 20"
      ]
     },
     "execution_count": 218,
     "metadata": {},
     "output_type": "execute_result"
    }
   ],
   "source": [
    "e = 2*z1 + (10-z2)**2\n",
    "d = diff(e, z2)\n",
    "d"
   ]
  },
  {
   "cell_type": "markdown",
   "metadata": {},
   "source": [
    "<b> Solving an equation: </b>"
   ]
  },
  {
   "cell_type": "code",
   "execution_count": 219,
   "metadata": {},
   "outputs": [
    {
     "name": "stdout",
     "output_type": "stream",
     "text": [
      "[10]\n"
     ]
    }
   ],
   "source": [
    "e = 2*z1 + (10-z2)**2\n",
    "d = diff(e, z2)\n",
    "v = solve(Eq(d, 0), z2)\n",
    "print(v)"
   ]
  },
  {
   "cell_type": "markdown",
   "metadata": {},
   "source": [
    "# Exercise"
   ]
  },
  {
   "cell_type": "markdown",
   "metadata": {},
   "source": [
    "Below given is the data. In contrast to the exercise shown in the Exercise.pdf file, note that all pairs of all 12 months are considered stages in this notebook. "
   ]
  },
  {
   "cell_type": "code",
   "execution_count": 220,
   "metadata": {},
   "outputs": [
    {
     "data": {
      "image/png": "[encoded data removed]",
      "text/plain": [
       "<Figure size 640x480 with 1 Axes>"
      ]
     },
     "metadata": {},
     "output_type": "display_data"
    },
    {
     "name": "stdout",
     "output_type": "stream",
     "text": [
      "[[8, 10], [5, 10], [2, 10], [4, 10], [7, 10], [10, 10]]\n",
      "[8, 5, 2, 4, 7, 10, 8, 5, 2, 4, 7, 10]\n"
     ]
    }
   ],
   "source": [
    "months = [\"Jan-Feb\", \"Mar-Apr\", \"May-Jun\", \"Jul-Aug\", \"Sep-Oct\", \"Nov-Dec\"]\n",
    "\n",
    "### min requested operating level (1-10) + allowable bounds \n",
    "request = [8,5,2,4,7,10]\n",
    "bounds = [[request[i], 10] for i in range(6)]\n",
    "\n",
    "plt.plot([i for i in range(12)], request + request, label='linear')\n",
    "plt.show()\n",
    "print(bounds)\n",
    "print(request + request)"
   ]
  },
  {
   "cell_type": "markdown",
   "metadata": {},
   "source": [
    "<b> Cost: </b> Working above the required level - cost in a generic form:"
   ]
  },
  {
   "cell_type": "code",
   "execution_count": 221,
   "metadata": {},
   "outputs": [
    {
     "data": {
      "text/latex": [
       "$\\displaystyle m_{i1} \\left(- r_{i} + x_{i}\\right)$"
      ],
      "text/plain": [
       "m_{i1}⋅(-rᵢ + xᵢ)"
      ]
     },
     "execution_count": 221,
     "metadata": {},
     "output_type": "execute_result"
    }
   ],
   "source": [
    "xi, ri, mi1 = symbols(\"x_i r_i m_{i1}\") \n",
    "cost_above = mi1*(xi-ri)\n",
    "cost_above #mi1 = multiplicator, #xi = operating level #ri = requirement (lower bound)"
   ]
  },
  {
   "cell_type": "markdown",
   "metadata": {},
   "source": [
    "You can do c = cost_above.copy() and then c.subs, replacing variables with values (m, p, r) or other variables (r): "
   ]
  },
  {
   "cell_type": "code",
   "execution_count": 222,
   "metadata": {},
   "outputs": [],
   "source": [
    "# x1 = symbols(\"x1\") \n",
    "# c = cost_above.copy()\n",
    "# c = c.subs(xi, x1)\n",
    "# c = c.subs(mi1, 1)\n",
    "# c = c.subs(ri, 100)\n",
    "# c"
   ]
  },
  {
   "cell_type": "markdown",
   "metadata": {},
   "source": [
    "Below are provided m parameter values for each month:"
   ]
  },
  {
   "cell_type": "code",
   "execution_count": 223,
   "metadata": {},
   "outputs": [],
   "source": [
    "mv1 = [2, 8, 10, 12, 10, 6 ]"
   ]
  },
  {
   "cell_type": "markdown",
   "metadata": {},
   "source": [
    "<b> Cost: </b> Chaging the operating level - cost in a generic form:"
   ]
  },
  {
   "cell_type": "code",
   "execution_count": 224,
   "metadata": {},
   "outputs": [
    {
     "data": {
      "text/latex": [
       "$\\displaystyle m_{i2} \\left(- s_{i} + x_{i}\\right)^{p_{i}}$"
      ],
      "text/plain": [
       "                    pᵢ\n",
       "m_{i2}⋅(-s_{i} + xᵢ)  "
      ]
     },
     "execution_count": 224,
     "metadata": {},
     "output_type": "execute_result"
    }
   ],
   "source": [
    "si, mi2, pi = symbols(\"s_{i} m_{i2} p_i\") \n",
    "cost_change = mi2*(xi-si)**pi\n",
    "cost_change #mi2 = multiplicator, #pi = exponent #xi = operating level (i-th month) #s_{i} = state: operating level ((i-1)-th month)\n",
    "cost_change"
   ]
  },
  {
   "cell_type": "markdown",
   "metadata": {},
   "source": [
    "Below are provided m and p parameter values for each month:"
   ]
  },
  {
   "cell_type": "code",
   "execution_count": 225,
   "metadata": {},
   "outputs": [],
   "source": [
    "mv2 = [6, 4, 1, 1, 3, 5]\n",
    "pv = [2, 2, 2, 2, 2, 2]"
   ]
  },
  {
   "cell_type": "markdown",
   "metadata": {},
   "source": [
    "# Solution:"
   ]
  },
  {
   "cell_type": "markdown",
   "metadata": {},
   "source": [
    "Apart from finding optimal operating levels for each month, plot these values along with the lower bounds for each month in order to show how they change in time.<br><br>Hints:<br>\n",
    "- the optimal cost = 135.42<br>\n",
    "- there is no situation when the minima for first derivatives are outside allowable bounds (but test it anyway)<br><br>\n",
    "\n",
    "After obtaining and plotting the solution, check what would happen is you change the mv1[2] parameter to 5. "
   ]
  },
  {
   "cell_type": "code",
   "execution_count": null,
   "metadata": {},
   "outputs": [
    {
     "name": "stdout",
     "output_type": "stream",
     "text": [
      "Initial symbolic states for stages: [10, s2, s3, s4, s5, s6, s7]\n",
      "10\n",
      "Stage 6:\n",
      "  Cost Above: 6*x6 - 60\n",
      "  Cost Change: 5*(-s6 + x6)**2\n",
      "  Total cost: 6*x6 + 5*(-s6 + x6)**2 - 60\n",
      "  Derivative: -10*s6 + 10*x6 + 6\n",
      "  Optimal x: 10\n",
      "  Fstar: 5*(10 - s6)**2\n",
      "\n",
      "\n",
      "Piecewise((10, 0.375*s5 + 5.625 > 10), (7, 0.375*s5 + 5.625 < 7), (0.375*s5 + 5.625, True))\n",
      "Stage 5:\n",
      "  Cost Above: 10*x5 - 70\n",
      "  Cost Change: 3*(-s5 + x5)**2\n",
      "  Total cost: 10*x5 + 5*(10 - x5)**2 + 3*(-s5 + x5)**2 - 70\n",
      "  Derivative: -6*s5 + 16*x5 - 90\n",
      "  Optimal x: 0.375*s5 + 5.625\n",
      "  Fstar: 3.75*s5 + 94.921875*(1 - 0.111111111111111*s5)**2 + 95.703125*(1 - 0.0857142857142857*s5)**2 - 13.75\n",
      "\n",
      "\n",
      "Piecewise((10, 0.347826086956522*s4 + 3.78260869565217 > 10), (4, 0.347826086956522*s4 + 3.78260869565217 < 4), (0.347826086956522*s4 + 3.78260869565217, True))\n",
      "Stage 4:\n",
      "  Cost Above: 12*x4 - 48\n",
      "  Cost Change: (-s4 + x4)**2\n",
      "  Total cost: 15.75*x4 + 94.921875*(1 - 0.111111111111111*x4)**2 + 95.703125*(1 - 0.0857142857142857*x4)**2 + (-s4 + x4)**2 - 61.75\n",
      "  Derivative: -2*s4 + 5.75*x4 - 21.75\n",
      "  Optimal x: 0.347826086956522*s4 + 3.78260869565217\n",
      "  Fstar: 5.47826086956522*s4 + 14.3081285444234*(1 - 0.172413793103448*s4)**2 + 31.8998109640832*(1 - 0.0666666666666667*s4)**2 + 43.7051039697543*(1 - 0.0441176470588235*s4)**2 - 2.17391304347827\n",
      "\n",
      "\n",
      "Piecewise((10, 0.605263157894737*s3 - 0.736842105263158 > 10), (2, 0.605263157894737*s3 - 0.736842105263158 < 2), (0.605263157894737*s3 - 0.736842105263158, True))\n",
      "Stage 3:\n",
      "  Cost Above: 10*x3 - 20\n",
      "  Cost Change: (-s3 + x3)**2\n",
      "  Total cost: 15.4782608695652*x3 + 14.3081285444234*(1 - 0.172413793103448*x3)**2 + 31.8998109640832*(1 - 0.0666666666666667*x3)**2 + 43.7051039697543*(1 - 0.0441176470588235*x3)**2 + (-s3 + x3)**2 - 22.1739130434783\n",
      "  Derivative: -2*s3 + 3.30434782608696*x3 + 2.43478260869565\n",
      "  Optimal x: 0.605263157894737*s3 - 0.736842105263158\n",
      "  Fstar: 9.36842105263158*s3 + 18.1745152354571*(1 - 0.0925925925925926*s3)**2 + 35.1108033240997*(1 - 0.0384615384615385*s3)**2 + 46.5927977839335*(1 - 0.0258620689655172*s3)**2 + 0.542936288088643*(-0.535714285714286*s3 - 1)**2 - 33.5789473684211\n",
      "\n",
      "\n",
      "Piecewise((10, 0.910179640718563*s2 - 1.07784431137725 > 10), (5, 0.910179640718563*s2 - 1.07784431137725 < 5), (0.910179640718563*s2 - 1.07784431137725, True))\n",
      "Stage 2:\n",
      "  Cost Above: 8*x2 - 40\n",
      "  Cost Change: 4*(-s2 + x2)**2\n",
      "  Total cost: 17.3684210526316*x2 + 18.1745152354571*(1 - 0.0925925925925926*x2)**2 + 35.1108033240997*(1 - 0.0384615384615385*x2)**2 + 46.5927977839335*(1 - 0.0258620689655172*x2)**2 + 4*(-s2 + x2)**2 + 0.542936288088643*(-0.535714285714286*x2 - 1)**2 - 73.5789473684211\n",
      "  Derivative: -8*s2 + 8.78947368421053*x2 + 9.47368421052632\n",
      "  Optimal x: 0.910179640718563*s2 - 1.07784431137725\n",
      "  Fstar: 15.8083832335329*s2 + 21.9831833339309*(1 - 0.0766283524904215*s2)**2 + 38.0822187959411*(1 - 0.0336134453781513*s2)**2 + 49.2265767865467*(1 - 0.0229007633587786*s2)**2 + 0.129083151063143*(-s2 - 0.866666666666667)**2 + 4.64699343827315*(-0.0833333333333334*s2 - 1)**2 - 92.2994011976048\n",
      "\n",
      "\n",
      "8.59981167608286\n",
      "Stage 1:\n",
      "  Cost Above: 2*x1 - 16\n",
      "  Cost Change: 6*(x1 - 10)**2\n",
      "  Total cost: 17.8083832335329*x1 + 21.9831833339309*(1 - 0.0766283524904215*x1)**2 + 38.0822187959411*(1 - 0.0336134453781513*x1)**2 + 49.2265767865467*(1 - 0.0229007633587786*x1)**2 + 0.129083151063143*(-x1 - 0.866666666666667)**2 + 4.64699343827315*(-0.0833333333333334*x1 - 1)**2 + 6*(x1 - 10)**2 - 108.299401197605\n",
      "  Derivative: 12.7185628742515*x1 - 109.377245508982\n",
      "  Optimal x: 8.59981167608286\n",
      "  Fstar: 135.424670433145\n",
      "\n",
      "\n",
      "Cost: 135.42\n",
      "Levels: [8.60, 6.75, 3.35, 4.95, 7.48, 10]\n"
     ]
    },
    {
     "data": {
      "image/png": "[encoded data removed]",
      "text/plain": [
       "<Figure size 640x480 with 1 Axes>"
      ]
     },
     "metadata": {},
     "output_type": "display_data"
    }
   ],
   "source": [
    "def PowerPlant(bounds, cost_above, mv1, cost_change, mv2, pv):\n",
    "    all_x, all_s, all_c_above, all_c_change = [], [], [], []\n",
    "    x_for_stages = [symbols(f's{i}') for i in range(1, len(bounds) + 2)]\n",
    "    x_for_stages[0] = 10  # Initial operating level\n",
    "    print(\"Initial symbolic states for stages:\", x_for_stages)\n",
    "    \n",
    "    optimal_x = []  # To store optimal values for each stage\n",
    "    f_star = [0] * (len(bounds) + 1)  # Initialize as a symbolic zero\n",
    "    f_star[-1] = Integer(0)\n",
    "\n",
    "    for stage in range(len(bounds), 0, -1):  # Approach starting with the last stage\n",
    "        x = symbols(\"x\" + str(stage))\n",
    "        s = symbols(f\"s{stage}\")\n",
    "        all_s.append(s)\n",
    "        all_x.append(x)\n",
    "        \n",
    "        # Changing the cost of going above the requirement of the current stage\n",
    "        c_above = cost_above.copy()\n",
    "        c_above = c_above.subs(xi, x)\n",
    "        c_above = c_above.subs(mi1, mv1[stage-1])\n",
    "        c_above = c_above.subs(ri, bounds[stage-1][0])\n",
    "        all_c_above.append(c_above)\n",
    "        \n",
    "        # Changing the cost of changing the stage for the current stage\n",
    "        c_change = cost_change.copy()\n",
    "        c_change = c_change.subs(xi, x)\n",
    "        c_change = c_change.subs(mi2, mv2[stage-1])\n",
    "        c_change = c_change.subs(si, x_for_stages[stage-1])\n",
    "        c_change = c_change.subs(pi, pv[stage-1])\n",
    "        all_c_change.append(c_change)\n",
    "        \n",
    "        if f_star[stage] == 0:  #if last level\n",
    "            f = 0\n",
    "        else:       #else change s_i=x_i-1\n",
    "            f = f_star[stage].subs(symbols(f\"s{stage+1}\"), x)   \n",
    "            # f = f_star[stage].subs(symbols(f\"s{stage+1}\"), s)   \n",
    "        \n",
    "        total_cost = c_above + c_change + f   #changing + working + before cost\n",
    "        \n",
    "        cost_der = diff(total_cost, x)   #get derivative\n",
    "        optimal_x_value = (solve(cost_der, x)[0].evalf(), 10)[stage == len(bounds)]  #derivative = 0, gives x as parametric value\n",
    "\n",
    "\n",
    "        low = bounds[stage-1][0]\n",
    "        up = bounds[stage-1][1]\n",
    "        interval = Interval(low, up)\n",
    "        out = 0\n",
    "        # optimal_x_value_check = Piecewise(\n",
    "        #     (bounds[stage-1][1], optimal_x_value > bounds[stage-1][1]),\n",
    "        #     (bounds[stage-1][0], optimal_x_value < bounds[stage-1][0]),\n",
    "        #     (optimal_x_value, True)\n",
    "        # )  \n",
    "        # print(optimal_x_value_check)\n",
    "\n",
    "\n",
    "\n",
    "        # if optimal_x_value != up:\n",
    "        #     if up < optimal_x_value.subs(s, up):\n",
    "        #         out = 1\n",
    "        #         optimal_x_value.subs(s, solve(simplify(expand(Eq(optimal_x_value, up))), s))\n",
    "        #     if low > optimal_x_value.subs(s, low):\n",
    "        #         out = 1\n",
    "        #         optimal_x_value.subs(s, solve(simplify(expand(Eq(optimal_x_value, low))), s))\n",
    "                \n",
    "                \n",
    "                \n",
    "        f_star[stage-1] = total_cost.subs(x, optimal_x_value)\n",
    "        optimal_x.append(optimal_x_value)\n",
    "        print(f\"Stage {stage}:\")\n",
    "        print(f\"  Cost Above: {c_above}\")\n",
    "        print(f\"  Cost Change: {c_change}\")\n",
    "        print(f\"  Total cost: {total_cost}\")\n",
    "        print(f\"  Derivative: {cost_der}\")\n",
    "        print(f\"  Optimal x: {optimal_x_value}\")\n",
    "        print(f\"  Fstar: {f_star[stage-1]}\")\n",
    "        if out ==1:\n",
    "            print(f\"  Minima for the first derivative is outside of bounds!\")\n",
    "        print('\\n')\n",
    "    \n",
    "    \n",
    "    # optimal_x = [optimal_x_value.evalf() for optimal_x_value in optimal_x]\n",
    "    # print(f\"  Optimal x: {optimal_x}\")\n",
    "    optimal_x.reverse()\n",
    "    optimal_final = optimal_x.copy()\n",
    "    for i in range(1, len(optimal_x) - 1):  \n",
    "        optimal_final[i] = round(optimal_final[i].subs(symbols(f\"s{i+1}\"), optimal_final[i-1]),2)\n",
    "    optimal_final[0] = round(optimal_final[0],2)\n",
    "    return round(f_star[0],2), optimal_final\n",
    "\n",
    "# Calculate the optimal operating levels\n",
    "cost, levels = PowerPlant(bounds, cost_above, mv1, cost_change, mv2, pv)\n",
    "print(f\"Cost: {cost}\\nLevels: {levels}\")\n",
    "\n",
    "# Plot the results\n",
    "plt.plot(months, [bound[0] for bound in bounds], label='Lower Bound', linestyle='--')\n",
    "plt.plot(months, levels, label='Optimal Operating Level', marker='o')\n",
    "plt.xlabel('Months')\n",
    "plt.ylabel('Operating Level')\n",
    "plt.legend()\n",
    "plt.show()"
   ]
  },
  {
   "cell_type": "markdown",
   "metadata": {},
   "source": [
    "## Checking with mv1[2]=5"
   ]
  },
  {
   "cell_type": "code",
   "execution_count": 227,
   "metadata": {},
   "outputs": [
    {
     "name": "stdout",
     "output_type": "stream",
     "text": [
      "Initial symbolic states for stages: [10, s2, s3, s4, s5, s6, s7]\n",
      "Stage 6:\n",
      "  Cost Above: 6*x6 - 60\n",
      "  Cost Change: 5*(-s6 + x6)**2\n",
      "  Total cost: 6*x6 + 5*(-s6 + x6)**2 - 60\n",
      "  Derivative: -10*s6 + 10*x6 + 6\n",
      "  Optimal x: 10\n",
      "  Fstar: 5*(10 - s6)**2\n",
      "\n",
      "\n",
      "Stage 5:\n",
      "  Cost Above: 10*x5 - 70\n",
      "  Cost Change: 3*(-s5 + x5)**2\n",
      "  Total cost: 10*x5 + 5*(10 - x5)**2 + 3*(-s5 + x5)**2 - 70\n",
      "  Derivative: -6*s5 + 16*x5 - 90\n",
      "  Optimal x: 0.375*s5 + 5.625\n",
      "  Fstar: 3.75*s5 + 94.921875*(1 - 0.111111111111111*s5)**2 + 95.703125*(1 - 0.0857142857142857*s5)**2 - 13.75\n",
      "\n",
      "\n",
      "Stage 4:\n",
      "  Cost Above: 12*x4 - 48\n",
      "  Cost Change: (-s4 + x4)**2\n",
      "  Total cost: 15.75*x4 + 94.921875*(1 - 0.111111111111111*x4)**2 + 95.703125*(1 - 0.0857142857142857*x4)**2 + (-s4 + x4)**2 - 61.75\n",
      "  Derivative: -2*s4 + 5.75*x4 - 21.75\n",
      "  Optimal x: 0.347826086956522*s4 + 3.78260869565217\n",
      "  Fstar: 5.47826086956522*s4 + 14.3081285444234*(1 - 0.172413793103448*s4)**2 + 31.8998109640832*(1 - 0.0666666666666667*s4)**2 + 43.7051039697543*(1 - 0.0441176470588235*s4)**2 - 2.17391304347827\n",
      "\n",
      "\n",
      "Stage 3:\n",
      "  Cost Above: 5*x3 - 10\n",
      "  Cost Change: (-s3 + x3)**2\n",
      "  Total cost: 10.4782608695652*x3 + 14.3081285444234*(1 - 0.172413793103448*x3)**2 + 31.8998109640832*(1 - 0.0666666666666667*x3)**2 + 43.7051039697543*(1 - 0.0441176470588235*x3)**2 + (-s3 + x3)**2 - 12.1739130434783\n",
      "  Derivative: -2*s3 + 3.30434782608696*x3 - 2.56521739130435\n",
      "  Optimal x: 0.605263157894737*s3 + 0.776315789473684\n",
      "  Fstar: 6.34210526315789*s3 + 0.60266620498615*(1 - 0.508474576271186*s3)**2 + 10.7342451523546*(1 - 0.120481927710843*s3)**2 + 28.6833448753463*(1 - 0.0425531914893617*s3)**2 + 40.7626385041551*(1 - 0.0276497695852535*s3)**2 - 4.03947368421053\n",
      "  Minima for the first derivative is outside of bounds!\n",
      "\n",
      "\n",
      "Stage 2:\n",
      "  Cost Above: 8*x2 - 40\n",
      "  Cost Change: 4*(-s2 + x2)**2\n",
      "  Total cost: 14.3421052631579*x2 + 0.60266620498615*(1 - 0.508474576271186*x2)**2 + 10.7342451523546*(1 - 0.120481927710843*x2)**2 + 28.6833448753463*(1 - 0.0425531914893617*x2)**2 + 40.7626385041551*(1 - 0.0276497695852535*x2)**2 + 4*(-s2 + x2)**2 - 44.0394736842105\n",
      "  Derivative: -8*s2 + 8.78947368421053*x2 + 6.44736842105263\n",
      "  Optimal x: 0.910179640718563*s2 - 0.733532934131736\n",
      "  Fstar: 13.0538922155689*s2 + 1.13607515507906*(1 - 0.337078651685393*s2)**2 + 12.7154164724443*(1 - 0.100755667506297*s2)**2 + 30.5019452113737*(1 - 0.0375586854460094*s2)**2 + 42.4329036537703*(1 - 0.0246659815005139*s2)**2 + 2.15228226182366*(-0.122448979591837*s2 - 1)**2 - 54.559880239521\n",
      "  Minima for the first derivative is outside of bounds!\n",
      "\n",
      "\n",
      "Stage 1:\n",
      "  Cost Above: 2*x1 - 16\n",
      "  Cost Change: 6*(x1 - 10)**2\n",
      "  Total cost: 15.0538922155689*x1 + 1.13607515507906*(1 - 0.337078651685393*x1)**2 + 12.7154164724443*(1 - 0.100755667506297*x1)**2 + 30.5019452113737*(1 - 0.0375586854460094*x1)**2 + 42.4329036537703*(1 - 0.0246659815005139*x1)**2 + 2.15228226182366*(-0.122448979591837*x1 - 1)**2 + 6*(x1 - 10)**2 - 70.559880239521\n",
      "  Derivative: 12.7185628742515*x1 - 112.131736526946\n",
      "  Optimal x: 8.81638418079095\n",
      "  Fstar: 124.080508474576\n",
      "\n",
      "\n"
     ]
    },
    {
     "data": {
      "text/latex": [
       "$\\displaystyle \\left( 124.08, \\  \\left[ 8.82, \\  7.29, \\  5.19, \\  5.59, \\  7.72, \\  10\\right]\\right)$"
      ],
      "text/plain": [
       "(124.08, [8.82, 7.29, 5.19, 5.59, 7.72, 10])"
      ]
     },
     "execution_count": 227,
     "metadata": {},
     "output_type": "execute_result"
    }
   ],
   "source": [
    "PowerPlant(bounds, cost_above, [2, 8, 5, 12, 10, 6], cost_change, mv2, pv)"
   ]
  }
 ],
 "metadata": {
  "kernelspec": {
   "display_name": "base",
   "language": "python",
   "name": "python3"
  },
  "language_info": {
   "codemirror_mode": {
    "name": "ipython",
    "version": 3
   },
   "file_extension": ".py",
   "mimetype": "text/x-python",
   "name": "python",
   "nbconvert_exporter": "python",
   "pygments_lexer": "ipython3",
   "version": "3.9.13"
  }
 },
 "nbformat": 4,
 "nbformat_minor": 4
}
