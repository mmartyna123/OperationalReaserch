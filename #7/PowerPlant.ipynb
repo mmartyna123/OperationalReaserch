{
 "cells": [
  {
   "cell_type": "markdown",
   "metadata": {},
   "source": [
    "# Lab 7 - Dynamic Programming - Power Plant"
   ]
  },
  {
   "cell_type": "markdown",
   "metadata": {},
   "source": [
    "Information on group members:\n",
    "\n",
    "1) 156071, Martyna Stasiak <br>\n",
    "2) 156062, Maria Musiał"
   ]
  },
  {
   "cell_type": "code",
   "execution_count": 22,
   "metadata": {},
   "outputs": [],
   "source": [
    "%matplotlib inline\n",
    "\n",
    "from sympy.interactive import printing\n",
    "printing.init_printing(use_latex=True)\n",
    "\n",
    "import matplotlib.pyplot as plt\n",
    "import sympy as sym\n",
    "from sympy import *\n",
    "import numpy as np\n",
    "from sympy import Max, Min"
   ]
  },
  {
   "cell_type": "markdown",
   "metadata": {},
   "source": [
    "This exercise is inspired by Ex. 2 in the Exercises.pdf file. You have to set operating levels for a power plant for consecutive two-months in a way that minimizes the operating costs (using dynamic programming). Before going to the exercise, it is recommended to get acquainted with a Python library for symbolic calculations - SymPy, which can be particularly helpful for solving this task. "
   ]
  },
  {
   "cell_type": "markdown",
   "metadata": {},
   "source": [
    "# Mini tutorial on SymPy"
   ]
  },
  {
   "cell_type": "markdown",
   "metadata": {},
   "source": [
    "SymPy is a library for performing symbolic calculations instead of numerical. It allows defining symbols, functions, expressions, equations and performing various operations on them. The examples of such operations that can help solve this exercise are given below. Note that due to lines: <br><br>\n",
    "from sympy.interactive import printing <br>\n",
    "printing.init_printing(use_latex=True)  <br><br>\n",
    "located in the first cell of this notebook, the symbols can be printed using latex, improving hence readability"
   ]
  },
  {
   "cell_type": "markdown",
   "metadata": {},
   "source": [
    "<b> Defining symbols: </b>"
   ]
  },
  {
   "cell_type": "code",
   "execution_count": 2,
   "metadata": {},
   "outputs": [],
   "source": [
    "z1, z2 = symbols(\"z1 z2\")\n",
    "# or z = symbols(\"z1 z2\")"
   ]
  },
  {
   "cell_type": "markdown",
   "metadata": {},
   "source": [
    "<b> Printing a symbol using Latex: </b>"
   ]
  },
  {
   "cell_type": "code",
   "execution_count": 3,
   "metadata": {},
   "outputs": [
    {
     "data": {
      "image/png": "[encoded data removed]",
      "text/latex": [
       "$\\displaystyle z_{1}$"
      ],
      "text/plain": [
       "z₁"
      ]
     },
     "execution_count": 3,
     "metadata": {},
     "output_type": "execute_result"
    }
   ],
   "source": [
    "z1"
   ]
  },
  {
   "cell_type": "markdown",
   "metadata": {},
   "source": [
    "<b> Defining an expression: </b>"
   ]
  },
  {
   "cell_type": "code",
   "execution_count": 4,
   "metadata": {},
   "outputs": [
    {
     "data": {
      "image/png": "[encoded data removed]",
      "text/latex": [
       "$\\displaystyle 2 z_{1} + \\left(10 - z_{2}\\right)^{2}$"
      ],
      "text/plain": [
       "                2\n",
       "2⋅z₁ + (10 - z₂) "
      ]
     },
     "execution_count": 4,
     "metadata": {},
     "output_type": "execute_result"
    }
   ],
   "source": [
    "2*z1 + (10-z2)**2"
   ]
  },
  {
   "cell_type": "markdown",
   "metadata": {},
   "source": [
    "<b>Expanding the expression:</b>"
   ]
  },
  {
   "cell_type": "code",
   "execution_count": 5,
   "metadata": {},
   "outputs": [
    {
     "data": {
      "image/png": "[encoded data removed]",
      "text/latex": [
       "$\\displaystyle 2 z_{1} + z_{2}^{2} - 20 z_{2} + 100$"
      ],
      "text/plain": [
       "         2              \n",
       "2⋅z₁ + z₂  - 20⋅z₂ + 100"
      ]
     },
     "execution_count": 5,
     "metadata": {},
     "output_type": "execute_result"
    }
   ],
   "source": [
    "expand(2*z1 + (10-z2)**2)"
   ]
  },
  {
   "cell_type": "markdown",
   "metadata": {},
   "source": [
    "<b> Simplifying the expression:</b>"
   ]
  },
  {
   "cell_type": "code",
   "execution_count": 6,
   "metadata": {},
   "outputs": [
    {
     "data": {
      "image/png": "[encoded data removed]",
      "text/latex": [
       "$\\displaystyle - z_{1}^{2} - 8 z_{1} + z_{2}^{2} - 20 z_{2} + 75$"
      ],
      "text/plain": [
       "    2            2             \n",
       "- z₁  - 8⋅z₁ + z₂  - 20⋅z₂ + 75"
      ]
     },
     "execution_count": 6,
     "metadata": {},
     "output_type": "execute_result"
    }
   ],
   "source": [
    "e = simplify(expand(2*z1 + (10-z2)**2 - (5+z1)**2))\n",
    "e"
   ]
  },
  {
   "cell_type": "markdown",
   "metadata": {},
   "source": [
    "<b> Substituting a variable with a value in the expression:</b>"
   ]
  },
  {
   "cell_type": "code",
   "execution_count": 7,
   "metadata": {},
   "outputs": [
    {
     "name": "stdout",
     "output_type": "stream",
     "text": [
      "20.0000000000000\n"
     ]
    }
   ],
   "source": [
    "e = 2*z1 + (10-z1)**2\n",
    "v = e.evalf(subs={z1: 10})\n",
    "print(v)"
   ]
  },
  {
   "cell_type": "markdown",
   "metadata": {},
   "source": [
    "<b> Substituting a variable with another variable or value:</b>"
   ]
  },
  {
   "cell_type": "code",
   "execution_count": 8,
   "metadata": {},
   "outputs": [
    {
     "data": {
      "image/png": "[encoded data removed]",
      "text/latex": [
       "$\\displaystyle 2 z_{1} + \\left(10 - z_{1}\\right)^{2}$"
      ],
      "text/plain": [
       "                2\n",
       "2⋅z₁ + (10 - z₁) "
      ]
     },
     "execution_count": 8,
     "metadata": {},
     "output_type": "execute_result"
    }
   ],
   "source": [
    "e = 2*z1 + (10-z2)**2\n",
    "e.subs(z2, z1)"
   ]
  },
  {
   "cell_type": "markdown",
   "metadata": {},
   "source": [
    "<b> Finding a (partial) derivative: </b>"
   ]
  },
  {
   "cell_type": "code",
   "execution_count": 9,
   "metadata": {},
   "outputs": [
    {
     "data": {
      "image/png": "[encoded data removed]",
      "text/latex": [
       "$\\displaystyle 2 z_{2} - 20$"
      ],
      "text/plain": [
       "2⋅z₂ - 20"
      ]
     },
     "execution_count": 9,
     "metadata": {},
     "output_type": "execute_result"
    }
   ],
   "source": [
    "e = 2*z1 + (10-z2)**2\n",
    "d = diff(e, z2)\n",
    "d"
   ]
  },
  {
   "cell_type": "markdown",
   "metadata": {},
   "source": [
    "<b> Solving an equation: </b>"
   ]
  },
  {
   "cell_type": "code",
   "execution_count": 10,
   "metadata": {},
   "outputs": [
    {
     "name": "stdout",
     "output_type": "stream",
     "text": [
      "[10]\n"
     ]
    }
   ],
   "source": [
    "e = 2*z1 + (10-z2)**2\n",
    "d = diff(e, z2)\n",
    "v = solve(Eq(d, 0), z2)\n",
    "print(v)"
   ]
  },
  {
   "cell_type": "markdown",
   "metadata": {},
   "source": [
    "# Exercise"
   ]
  },
  {
   "cell_type": "markdown",
   "metadata": {},
   "source": [
    "Below given is the data. In contrast to the exercise shown in the Exercise.pdf file, note that all pairs of all 12 months are considered stages in this notebook. "
   ]
  },
  {
   "cell_type": "code",
   "execution_count": 11,
   "metadata": {},
   "outputs": [
    {
     "data": {
      "image/png": "[encoded data removed]",
      "text/plain": [
       "<Figure size 640x480 with 1 Axes>"
      ]
     },
     "metadata": {},
     "output_type": "display_data"
    },
    {
     "name": "stdout",
     "output_type": "stream",
     "text": [
      "[[8, 10], [5, 10], [2, 10], [4, 10], [7, 10], [10, 10]]\n",
      "[8, 5, 2, 4, 7, 10, 8, 5, 2, 4, 7, 10]\n"
     ]
    }
   ],
   "source": [
    "months = [\"Jan-Feb\", \"Mar-Apr\", \"May-Jun\", \"Jul-Aug\", \"Sep-Oct\", \"Nov-Dec\"]\n",
    "\n",
    "### min requested operating level (1-10) + allowable bounds \n",
    "request = [8,5,2,4,7,10]\n",
    "bounds = [[request[i], 10] for i in range(6)]\n",
    "\n",
    "plt.plot([i for i in range(12)], request + request, label='linear')\n",
    "plt.show()\n",
    "print(bounds)\n",
    "print(request + request)"
   ]
  },
  {
   "cell_type": "markdown",
   "metadata": {},
   "source": [
    "<b> Cost: </b> Working above the required level - cost in a generic form:"
   ]
  },
  {
   "cell_type": "code",
   "execution_count": 12,
   "metadata": {},
   "outputs": [
    {
     "data": {
      "image/png": "[encoded data removed]",
      "text/latex": [
       "$\\displaystyle m_{i1} \\left(- r_{i} + x_{i}\\right)$"
      ],
      "text/plain": [
       "m_{i1}⋅(-rᵢ + xᵢ)"
      ]
     },
     "execution_count": 12,
     "metadata": {},
     "output_type": "execute_result"
    }
   ],
   "source": [
    "xi, ri, mi1 = symbols(\"x_i r_i m_{i1}\") \n",
    "cost_above = mi1*(xi-ri)\n",
    "cost_above #mi1 = multiplicator, #xi = operating level #ri = requirement (lower bound)"
   ]
  },
  {
   "cell_type": "markdown",
   "metadata": {},
   "source": [
    "You can do c = cost_above.copy() and then c.subs, replacing variables with values (m, p, r) or other variables (r): "
   ]
  },
  {
   "cell_type": "code",
   "execution_count": 13,
   "metadata": {},
   "outputs": [],
   "source": [
    "# x1 = symbols(\"x1\") \n",
    "# c = cost_above.copy()\n",
    "# c = c.subs(xi, x1)\n",
    "# c = c.subs(mi1, 1)\n",
    "# c = c.subs(ri, 100)\n",
    "# c"
   ]
  },
  {
   "cell_type": "markdown",
   "metadata": {},
   "source": [
    "Below are provided m parameter values for each month:"
   ]
  },
  {
   "cell_type": "code",
   "execution_count": 14,
   "metadata": {},
   "outputs": [],
   "source": [
    "mv1 = [2, 8, 10, 12, 10, 6 ]"
   ]
  },
  {
   "cell_type": "markdown",
   "metadata": {},
   "source": [
    "<b> Cost: </b> Chaging the operating level - cost in a generic form:"
   ]
  },
  {
   "cell_type": "code",
   "execution_count": 15,
   "metadata": {},
   "outputs": [
    {
     "data": {
      "image/png": "[encoded data removed]",
      "text/latex": [
       "$\\displaystyle m_{i2} \\left(- s_{i} + x_{i}\\right)^{p_{i}}$"
      ],
      "text/plain": [
       "                    pᵢ\n",
       "m_{i2}⋅(-s_{i} + xᵢ)  "
      ]
     },
     "execution_count": 15,
     "metadata": {},
     "output_type": "execute_result"
    }
   ],
   "source": [
    "si, mi2, pi = symbols(\"s_{i} m_{i2} p_i\") \n",
    "cost_change = mi2*(xi-si)**pi\n",
    "cost_change #mi2 = multiplicator, #pi = exponent #xi = operating level (i-th month) #s_{i} = state: operating level ((i-1)-th month)\n",
    "cost_change"
   ]
  },
  {
   "cell_type": "markdown",
   "metadata": {},
   "source": [
    "Below are provided m and p parameter values for each month:"
   ]
  },
  {
   "cell_type": "code",
   "execution_count": 16,
   "metadata": {},
   "outputs": [],
   "source": [
    "mv2 = [6, 4, 1, 1, 3, 5]\n",
    "pv = [2, 2, 2, 2, 2, 2]"
   ]
  },
  {
   "cell_type": "markdown",
   "metadata": {},
   "source": [
    "# Solution:"
   ]
  },
  {
   "cell_type": "markdown",
   "metadata": {},
   "source": [
    "Apart from finding optimal operating levels for each month, plot these values along with the lower bounds for each month in order to show how they change in time.<br><br>Hints:<br>\n",
    "- the optimal cost = 135.42<br>\n",
    "- there is no situation when the minima for first derivatives are outside allowable bounds (but test it anyway)<br><br>\n",
    "\n",
    "After obtaining and plotting the solution, check what would happen is you change the mv1[2] parameter to 5. "
   ]
  },
  {
   "cell_type": "code",
   "execution_count": 17,
   "metadata": {},
   "outputs": [],
   "source": [
    "def PowerPlant(bounds, cost_above, mv1, cost_change, mv2, pv):\n",
    "    all_x, all_s, all_c_above, all_c_change = [], [], [], []\n",
    "    x_for_stages = [symbols(f's{i}') for i in range(1, len(bounds) + 2)]\n",
    "    x_for_stages[0] = 10 \n",
    "    print(\"Initial symbolic states for stages:\", x_for_stages)\n",
    "    \n",
    "\n",
    "    \n",
    "    \n",
    "    for stage in range(len(bounds), 0, -1): #we approach this starting with the last stage\n",
    "        \n",
    "        #adding a new stage to the list of all stages to check if we are going throug every one of them \n",
    "        x = symbols(\"x\"+str(stage))\n",
    "        s = symbols(f\"s{stage}\")\n",
    "        all_s.append(s)\n",
    "        all_x.append(x)\n",
    "        \n",
    "        #changing the cost of going above the requirement of the current stage\n",
    "        #cost_above = mi1*(xi-ri)\n",
    "        c_above = cost_above.copy()\n",
    "        c_above = c_above.subs(xi, x)\n",
    "        c_above = c_above.subs(mi1, mv1[stage-1])\n",
    "        c_above = c_above.subs(ri, bounds[stage-1][0])\n",
    "        all_c_above.append(c_above)\n",
    "        \n",
    "        #changing the cost of changing the stage for the current stage\n",
    "        #cost_change = mi2*(xi-si)**pi\n",
    "        c_change = cost_change.copy()\n",
    "        c_change = c_change.subs(xi, x)\n",
    "        c_change = c_change.subs(mi2, mv2[stage-1])\n",
    "        c_change = c_change.subs(si, x_for_stages[stage-1])\n",
    "        c_change = c_change.subs(pi, pv[stage-1])\n",
    "        all_c_change.append(c_change)\n",
    "        \n",
    "        print(f\"Stage {stage}:\")\n",
    "        print(f\"  Cost Above: {c_above}\")\n",
    "        print(f\"  Cost Change: {c_change}\")\n",
    "\n",
    "        \n",
    "        print('\\n')\n",
    "\n",
    "            \n",
    "            \n",
    "        \n",
    "\n",
    "        \n",
    "        \n",
    "        \n",
    "        \n",
    "        \n",
    "    return x_for_stages[:len(bounds)]\n",
    "        "
   ]
  },
  {
   "cell_type": "code",
   "execution_count": 25,
   "metadata": {},
   "outputs": [],
   "source": [
    "from sympy import symbols, diff, solve, Eq, Integer\n",
    "\n",
    "def PowerPlant(bounds, cost_above, mv1, cost_change, mv2, pv):\n",
    "    all_x, all_s, all_c_above, all_c_change = [], [], [], []\n",
    "    x_for_stages = [symbols(f's{i}') for i in range(1, len(bounds) + 2)]\n",
    "    x_for_stages[0] = 10  # Initial operating level\n",
    "    print(\"Initial symbolic states for stages:\", x_for_stages)\n",
    "\n",
    "    # Storage for results\n",
    "    optimal_x = []  # To store optimal values for each stage\n",
    "    fi_prev_opt = Integer(0)  # Initialize as a symbolic zero\n",
    "    fi_list = []  # To store the optimal costs for each stage\n",
    "\n",
    "    for stage in range(len(bounds), 0, -1):  # Start from the last stage and go backward\n",
    "        x = symbols(f\"x{stage}\")\n",
    "        s = symbols(f\"s{stage}\")\n",
    "        all_s.append(s)\n",
    "        all_x.append(x)\n",
    "\n",
    "        # Adjust cost_above for the current stage\n",
    "        c_above = cost_above.copy()\n",
    "        c_above = c_above.subs(xi, x)\n",
    "        c_above = c_above.subs(mi1, mv1[stage - 1])\n",
    "        c_above = c_above.subs(ri, bounds[stage - 1][0])\n",
    "        all_c_above.append(c_above)\n",
    "\n",
    "        # Adjust cost_change for the current stage\n",
    "        c_change = cost_change.copy()\n",
    "        c_change = c_change.subs(xi, x)\n",
    "        c_change = c_change.subs(mi2, mv2[stage - 1])\n",
    "        c_change = c_change.subs(si, x_for_stages[stage - 1])\n",
    "        c_change = c_change.subs(pi, pv[stage - 1])\n",
    "        all_c_change.append(c_change)\n",
    "\n",
    "        # Total cost for the current stage\n",
    "        total_cost = c_above + c_change + fi_prev_opt.subs(x_for_stages[stage], x)\n",
    "\n",
    "        # Compute first derivative and find its minimum\n",
    "        total_cost_derivative = diff(total_cost, x)\n",
    "        xi_opt = solve(Eq(total_cost_derivative, 0), x)\n",
    "\n",
    "        # If solve fails to find a numerical solution, fall back to the midpoint of bounds\n",
    "        if not xi_opt:\n",
    "            xi_opt = (bounds[stage - 1][0] + bounds[stage - 1][1]) / 2\n",
    "        else:\n",
    "            xi_opt = xi_opt[0]  # Use the first solution\n",
    "\n",
    "        # Ensure xi_opt is within bounds\n",
    "        xi_opt = max(bounds[stage - 1][0], min(bounds[stage - 1][1], xi_opt))\n",
    "\n",
    "        # Update fi_prev_opt for the next iteration\n",
    "        fi_prev_opt = total_cost.subs(x, xi_opt)\n",
    "        fi_list.append(fi_prev_opt)\n",
    "\n",
    "        # Store the optimal xi\n",
    "        optimal_x.append(xi_opt)\n",
    "\n",
    "        print(f\"Stage {stage}:\")\n",
    "        print(f\"  Optimal xi: {xi_opt}\")\n",
    "        print(f\"  Total Cost: {fi_prev_opt}\")\n",
    "\n",
    "    # Reverse the order of results to match the forward stages\n",
    "    optimal_x.reverse()\n",
    "    return optimal_x, fi_list[-1]\n"
   ]
  },
  {
   "cell_type": "code",
   "execution_count": 26,
   "metadata": {},
   "outputs": [
    {
     "name": "stdout",
     "output_type": "stream",
     "text": [
      "Initial symbolic states for stages: [10, s2, s3, s4, s5, s6, s7]\n"
     ]
    },
    {
     "ename": "NotImplementedError",
     "evalue": "multiple generators [x6, (-s6 + x6)**p_i]\nNo algorithms are implemented to solve equation 5*p_i*(-s6 + x6)**p_i/(-s6 + x6) + 6",
     "output_type": "error",
     "traceback": [
      "\u001b[1;31m---------------------------------------------------------------------------\u001b[0m",
      "\u001b[1;31mNotImplementedError\u001b[0m                       Traceback (most recent call last)",
      "Cell \u001b[1;32mIn [26], line 1\u001b[0m\n\u001b[1;32m----> 1\u001b[0m \u001b[43mPowerPlant\u001b[49m\u001b[43m(\u001b[49m\u001b[43mbounds\u001b[49m\u001b[43m,\u001b[49m\u001b[43m \u001b[49m\u001b[43mcost_above\u001b[49m\u001b[43m,\u001b[49m\u001b[43m \u001b[49m\u001b[43mmv1\u001b[49m\u001b[43m,\u001b[49m\u001b[43m \u001b[49m\u001b[43mcost_change\u001b[49m\u001b[43m,\u001b[49m\u001b[43m \u001b[49m\u001b[43mmv2\u001b[49m\u001b[43m,\u001b[49m\u001b[43m \u001b[49m\u001b[43mpv\u001b[49m\u001b[43m)\u001b[49m\n",
      "Cell \u001b[1;32mIn [25], line 40\u001b[0m, in \u001b[0;36mPowerPlant\u001b[1;34m(bounds, cost_above, mv1, cost_change, mv2, pv)\u001b[0m\n\u001b[0;32m     38\u001b[0m \u001b[38;5;66;03m# Compute first derivative and find its minimum\u001b[39;00m\n\u001b[0;32m     39\u001b[0m total_cost_derivative \u001b[38;5;241m=\u001b[39m diff(total_cost, x)\n\u001b[1;32m---> 40\u001b[0m xi_opt \u001b[38;5;241m=\u001b[39m \u001b[43msolve\u001b[49m\u001b[43m(\u001b[49m\u001b[43mEq\u001b[49m\u001b[43m(\u001b[49m\u001b[43mtotal_cost_derivative\u001b[49m\u001b[43m,\u001b[49m\u001b[43m \u001b[49m\u001b[38;5;241;43m0\u001b[39;49m\u001b[43m)\u001b[49m\u001b[43m,\u001b[49m\u001b[43m \u001b[49m\u001b[43mx\u001b[49m\u001b[43m)\u001b[49m\n\u001b[0;32m     42\u001b[0m \u001b[38;5;66;03m# If solve fails to find a numerical solution, fall back to the midpoint of bounds\u001b[39;00m\n\u001b[0;32m     43\u001b[0m \u001b[38;5;28;01mif\u001b[39;00m \u001b[38;5;129;01mnot\u001b[39;00m xi_opt:\n",
      "File \u001b[1;32mc:\\Users\\mmart\\AppData\\Local\\Programs\\Python\\Python310\\lib\\site-packages\\sympy\\solvers\\solvers.py:1145\u001b[0m, in \u001b[0;36msolve\u001b[1;34m(f, *symbols, **flags)\u001b[0m\n\u001b[0;32m   1143\u001b[0m         solution \u001b[38;5;241m=\u001b[39m _solve_undetermined(f[\u001b[38;5;241m0\u001b[39m], symbols, flags)\n\u001b[0;32m   1144\u001b[0m     \u001b[38;5;28;01mif\u001b[39;00m \u001b[38;5;129;01mnot\u001b[39;00m solution:\n\u001b[1;32m-> 1145\u001b[0m         solution \u001b[38;5;241m=\u001b[39m _solve(f[\u001b[38;5;241m0\u001b[39m], \u001b[38;5;241m*\u001b[39msymbols, \u001b[38;5;241m*\u001b[39m\u001b[38;5;241m*\u001b[39mflags)\n\u001b[0;32m   1146\u001b[0m \u001b[38;5;28;01melse\u001b[39;00m:\n\u001b[0;32m   1147\u001b[0m     linear, solution \u001b[38;5;241m=\u001b[39m _solve_system(f, symbols, \u001b[38;5;241m*\u001b[39m\u001b[38;5;241m*\u001b[39mflags)\n",
      "File \u001b[1;32mc:\\Users\\mmart\\AppData\\Local\\Programs\\Python\\Python310\\lib\\site-packages\\sympy\\solvers\\solvers.py:1693\u001b[0m, in \u001b[0;36m_solve\u001b[1;34m(f, *symbols, **flags)\u001b[0m\n\u001b[0;32m   1690\u001b[0m \u001b[38;5;66;03m# ----------- end of fallback ----------------------------\u001b[39;00m\n\u001b[0;32m   1692\u001b[0m \u001b[38;5;28;01mif\u001b[39;00m result \u001b[38;5;129;01mis\u001b[39;00m \u001b[38;5;28;01mFalse\u001b[39;00m:\n\u001b[1;32m-> 1693\u001b[0m     \u001b[38;5;28;01mraise\u001b[39;00m \u001b[38;5;167;01mNotImplementedError\u001b[39;00m(\u001b[38;5;124m'\u001b[39m\u001b[38;5;130;01m\\n\u001b[39;00m\u001b[38;5;124m'\u001b[39m\u001b[38;5;241m.\u001b[39mjoin([msg, not_impl_msg \u001b[38;5;241m%\u001b[39m f]))\n\u001b[0;32m   1695\u001b[0m result \u001b[38;5;241m=\u001b[39m _remove_duplicate_solutions(result)\n\u001b[0;32m   1697\u001b[0m \u001b[38;5;28;01mif\u001b[39;00m flags\u001b[38;5;241m.\u001b[39mget(\u001b[38;5;124m'\u001b[39m\u001b[38;5;124msimplify\u001b[39m\u001b[38;5;124m'\u001b[39m, \u001b[38;5;28;01mTrue\u001b[39;00m):\n",
      "\u001b[1;31mNotImplementedError\u001b[0m: multiple generators [x6, (-s6 + x6)**p_i]\nNo algorithms are implemented to solve equation 5*p_i*(-s6 + x6)**p_i/(-s6 + x6) + 6"
     ]
    }
   ],
   "source": [
    "PowerPlant(bounds, cost_above, mv1, cost_change, mv2, pv)"
   ]
  },
  {
   "cell_type": "code",
   "execution_count": 27,
   "metadata": {},
   "outputs": [
    {
     "name": "stdout",
     "output_type": "stream",
     "text": [
      "Initial symbolic states for stages: [10, s2, s3, s4, s5, s6, s7]\n",
      "Stage 6:\n",
      "  Derivative: -10*s6 + 10*x6 + 6\n",
      "  Critical Points: [s6 - 3/5]\n",
      "  Valid Points: []\n",
      "  Candidates: [10, 10]\n",
      "  Evaluated Costs: {10: 500.0*(1 - 0.1*s6)**2}\n",
      "  Optimal x[6]: 10\n",
      "--------------------------------------------------\n"
     ]
    },
    {
     "ename": "TypeError",
     "evalue": "cannot determine truth value of Relational",
     "output_type": "error",
     "traceback": [
      "\u001b[1;31m---------------------------------------------------------------------------\u001b[0m",
      "\u001b[1;31mTypeError\u001b[0m                                 Traceback (most recent call last)",
      "Cell \u001b[1;32mIn [27], line 1\u001b[0m\n\u001b[1;32m----> 1\u001b[0m \u001b[43mPowerPlant\u001b[49m\u001b[43m(\u001b[49m\u001b[43mbounds\u001b[49m\u001b[43m,\u001b[49m\u001b[43m \u001b[49m\u001b[43mcost_above\u001b[49m\u001b[43m,\u001b[49m\u001b[43m \u001b[49m\u001b[43mmv1\u001b[49m\u001b[43m,\u001b[49m\u001b[43m \u001b[49m\u001b[43mcost_change\u001b[49m\u001b[43m,\u001b[49m\u001b[43m \u001b[49m\u001b[43mmv2\u001b[49m\u001b[43m,\u001b[49m\u001b[43m \u001b[49m\u001b[43mpv\u001b[49m\u001b[43m)\u001b[49m\n",
      "Cell \u001b[1;32mIn [26], line 61\u001b[0m, in \u001b[0;36mPowerPlant\u001b[1;34m(bounds, cost_above, mv1, cost_change, mv2, pv)\u001b[0m\n\u001b[0;32m     59\u001b[0m \u001b[38;5;66;03m# Find the minimum cost and corresponding x\u001b[39;00m\n\u001b[0;32m     60\u001b[0m \u001b[38;5;28;01mif\u001b[39;00m evaluated_costs:\n\u001b[1;32m---> 61\u001b[0m     optimal_x \u001b[38;5;241m=\u001b[39m \u001b[38;5;28;43mmin\u001b[39;49m\u001b[43m(\u001b[49m\u001b[43mevaluated_costs\u001b[49m\u001b[43m,\u001b[49m\u001b[43m \u001b[49m\u001b[43mkey\u001b[49m\u001b[38;5;241;43m=\u001b[39;49m\u001b[43mevaluated_costs\u001b[49m\u001b[38;5;241;43m.\u001b[39;49m\u001b[43mget\u001b[49m\u001b[43m)\u001b[49m\n\u001b[0;32m     62\u001b[0m \u001b[38;5;28;01melse\u001b[39;00m:\n\u001b[0;32m     63\u001b[0m     \u001b[38;5;28;01mraise\u001b[39;00m \u001b[38;5;167;01mValueError\u001b[39;00m(\u001b[38;5;124mf\u001b[39m\u001b[38;5;124m\"\u001b[39m\u001b[38;5;124mNo valid candidate points found for stage \u001b[39m\u001b[38;5;132;01m{\u001b[39;00mstage\u001b[38;5;132;01m}\u001b[39;00m\u001b[38;5;124m.\u001b[39m\u001b[38;5;124m\"\u001b[39m)\n",
      "File \u001b[1;32mc:\\Users\\mmart\\AppData\\Local\\Programs\\Python\\Python310\\lib\\site-packages\\sympy\\core\\relational.py:510\u001b[0m, in \u001b[0;36mRelational.__bool__\u001b[1;34m(self)\u001b[0m\n\u001b[0;32m    509\u001b[0m \u001b[38;5;28;01mdef\u001b[39;00m \u001b[38;5;21m__bool__\u001b[39m(\u001b[38;5;28mself\u001b[39m):\n\u001b[1;32m--> 510\u001b[0m     \u001b[38;5;28;01mraise\u001b[39;00m \u001b[38;5;167;01mTypeError\u001b[39;00m(\u001b[38;5;124m\"\u001b[39m\u001b[38;5;124mcannot determine truth value of Relational\u001b[39m\u001b[38;5;124m\"\u001b[39m)\n",
      "\u001b[1;31mTypeError\u001b[0m: cannot determine truth value of Relational"
     ]
    }
   ],
   "source": [
    "PowerPlant(bounds, cost_above, mv1, cost_change, mv2, pv)"
   ]
  }
 ],
 "metadata": {
  "kernelspec": {
   "display_name": "Python 3",
   "language": "python",
   "name": "python3"
  },
  "language_info": {
   "codemirror_mode": {
    "name": "ipython",
    "version": 3
   },
   "file_extension": ".py",
   "mimetype": "text/x-python",
   "name": "python",
   "nbconvert_exporter": "python",
   "pygments_lexer": "ipython3",
   "version": "3.10.7"
  }
 },
 "nbformat": 4,
 "nbformat_minor": 4
}
