{
 "cells": [
  {
   "cell_type": "markdown",
   "metadata": {},
   "source": [
    "# Lab2 - PuLP Library"
   ]
  },
  {
   "cell_type": "markdown",
   "metadata": {},
   "source": [
    "<b>Information on group members:</b><br>\n",
    "1) 156071, Martyna Stasiak <br>\n",
    "2) 156062, Maria Musiał"
   ]
  },
  {
   "cell_type": "code",
   "execution_count": 2,
   "metadata": {},
   "outputs": [],
   "source": [
    "from pulp import *  \n",
    "import numpy as np\n",
    "import pandas as pd"
   ]
  },
  {
   "cell_type": "markdown",
   "metadata": {},
   "source": [
    "## Introduction - brief tutorial on PuLP"
   ]
  },
  {
   "cell_type": "code",
   "execution_count": 3,
   "metadata": {},
   "outputs": [],
   "source": [
    "# Create an LpProblem instance; LpMaximize = objective function is to be maximized\n",
    "model = LpProblem(name=\"some-problem\", sense=LpMaximize)"
   ]
  },
  {
   "cell_type": "code",
   "execution_count": 4,
   "metadata": {},
   "outputs": [],
   "source": [
    "# Initialize the decision variables. We can set the name and lower bound as well.\n",
    "# To create an array of variables, you can use comprehensions of LpProblem.dicts.\n",
    "\n",
    "x1 = LpVariable(name=\"x1\", lowBound=0)\n",
    "x2 = LpVariable(name=\"x2\", lowBound=0)"
   ]
  },
  {
   "cell_type": "code",
   "execution_count": 5,
   "metadata": {},
   "outputs": [
    {
     "data": {
      "text/plain": [
       "pulp.pulp.LpAffineExpression"
      ]
     },
     "execution_count": 5,
     "metadata": {},
     "output_type": "execute_result"
    }
   ],
   "source": [
    "# An example expression\n",
    "expression = 3 * x1 + 2 * x2\n",
    "type(expression)"
   ]
  },
  {
   "cell_type": "code",
   "execution_count": 6,
   "metadata": {},
   "outputs": [
    {
     "data": {
      "text/plain": [
       "pulp.pulp.LpConstraint"
      ]
     },
     "execution_count": 6,
     "metadata": {},
     "output_type": "execute_result"
    }
   ],
   "source": [
    "# An example constraint\n",
    "constraint = 2 * x1 + 3 * x2 >= 5\n",
    "type(constraint)"
   ]
  },
  {
   "cell_type": "markdown",
   "metadata": {},
   "source": [
    "Ok, let's now use PuLP to solve the below problem:\n",
    "$max$ $4x_1 + 2x_2$ <br>\n",
    "s.t.<br>\n",
    "     $1x_1 + 1x_2 \\geq 1$ <br>\n",
    "     $2x_1 + 1x_2 \\leq 6$ <br>\n",
    "     $-1x_1 + x_2 = 1$ <br>\n",
    "     $x_1 \\geq 0$ <br>\n",
    "     $x_2 \\geq 0$ "
   ]
  },
  {
   "cell_type": "code",
   "execution_count": 7,
   "metadata": {},
   "outputs": [
    {
     "data": {
      "text/plain": [
       "test-problem:\n",
       "MAXIMIZE\n",
       "4*x1 + 2*x2 + 0\n",
       "SUBJECT TO\n",
       "#1_constraint: x1 + x2 >= 1\n",
       "\n",
       "#2_constraint: 2 x1 + x2 <= 6\n",
       "\n",
       "#3_constraint: - x1 + x2 = 1\n",
       "\n",
       "VARIABLES\n",
       "x1 Continuous\n",
       "x2 Continuous"
      ]
     },
     "execution_count": 7,
     "metadata": {},
     "output_type": "execute_result"
    }
   ],
   "source": [
    "# Problem\n",
    "model = LpProblem(name=\"test-problem\", sense=LpMaximize)\n",
    "\n",
    "x1 = LpVariable(name=\"x1\", lowBound=0)\n",
    "x2 = LpVariable(name=\"x2\", lowBound=0)\n",
    "\n",
    "model += (1 * x1 + 1*x2 >= 1, \"#1 constraint\")\n",
    "model += (2 * x1 + 1*x2 <= 6, \"#2 constraint\")\n",
    "model += (-1 * x1 + 1*x2 == 1, \"#3 constraint\")\n",
    "\n",
    "# Objective function\n",
    "obj_func = 4*x1 + 2 * x2\n",
    "model += obj_func\n",
    "\n",
    "model"
   ]
  },
  {
   "cell_type": "code",
   "execution_count": 8,
   "metadata": {},
   "outputs": [],
   "source": [
    "# Solve the problem\n",
    "status = model.solve()"
   ]
  },
  {
   "cell_type": "code",
   "execution_count": 9,
   "metadata": {},
   "outputs": [
    {
     "name": "stdout",
     "output_type": "stream",
     "text": [
      "status: 1, Optimal\n"
     ]
    }
   ],
   "source": [
    "# Print status\n",
    "print(f\"status: {model.status}, {LpStatus[model.status]}\")"
   ]
  },
  {
   "cell_type": "code",
   "execution_count": 10,
   "metadata": {},
   "outputs": [
    {
     "name": "stdout",
     "output_type": "stream",
     "text": [
      "objective: 12.000000199999999\n"
     ]
    }
   ],
   "source": [
    "# Print objective value\n",
    "print(f\"objective: {model.objective.value()}\")"
   ]
  },
  {
   "cell_type": "code",
   "execution_count": 11,
   "metadata": {},
   "outputs": [
    {
     "name": "stdout",
     "output_type": "stream",
     "text": [
      "#1_constraint: 3.3333334\n",
      "#2_constraint: 9.999999983634211e-08\n",
      "#3_constraint: 0.0\n"
     ]
    }
   ],
   "source": [
    "# Print constraint values\n",
    "for name, constraint in model.constraints.items():  print(f\"{name}: {constraint.value()}\")"
   ]
  },
  {
   "cell_type": "code",
   "execution_count": 12,
   "metadata": {},
   "outputs": [
    {
     "data": {
      "text/plain": [
       "[x1, x2]"
      ]
     },
     "execution_count": 12,
     "metadata": {},
     "output_type": "execute_result"
    }
   ],
   "source": [
    "model.variables()"
   ]
  },
  {
   "cell_type": "code",
   "execution_count": 13,
   "metadata": {},
   "outputs": [
    {
     "name": "stdout",
     "output_type": "stream",
     "text": [
      "1.6666667\n",
      "2.6666667\n"
     ]
    }
   ],
   "source": [
    "print(x1.value())\n",
    "print(x2.value())"
   ]
  },
  {
   "cell_type": "markdown",
   "metadata": {},
   "source": [
    "### The same code but using dictionaries and other nice tricks\n"
   ]
  },
  {
   "cell_type": "code",
   "execution_count": 14,
   "metadata": {},
   "outputs": [],
   "source": [
    "model = LpProblem(name=\"some-problem\", sense=LpMaximize)"
   ]
  },
  {
   "cell_type": "code",
   "execution_count": 15,
   "metadata": {},
   "outputs": [
    {
     "data": {
      "text/plain": [
       "{'First': x_First, 'Second': x_Second}"
      ]
     },
     "execution_count": 15,
     "metadata": {},
     "output_type": "execute_result"
    }
   ],
   "source": [
    "var_names = [\"First\", \"Second\"]\n",
    "x = LpVariable.dicts(\"x\", var_names, 0)\n",
    "x"
   ]
  },
  {
   "cell_type": "code",
   "execution_count": 16,
   "metadata": {},
   "outputs": [
    {
     "data": {
      "text/plain": [
       "some-problem:\n",
       "MAXIMIZE\n",
       "4*x_First + 2*x_Second + 0\n",
       "SUBJECT TO\n",
       "GE: x_First + x_Second >= 1\n",
       "\n",
       "LE: 2 x_First + x_Second <= 6\n",
       "\n",
       "EQ: - x_First + x_Second = 1\n",
       "\n",
       "VARIABLES\n",
       "x_First Continuous\n",
       "x_Second Continuous"
      ]
     },
     "execution_count": 16,
     "metadata": {},
     "output_type": "execute_result"
    }
   ],
   "source": [
    "const_names = [\"GE\", \"LE\", \"EQ\"]\n",
    "sense = [1, -1, 0] # GE, LE, EQ\n",
    "coefs = [[1,1],[2,1],[-1,1]] # Matrix coefs\n",
    "rhs = [1, 6, 1] \n",
    "\n",
    "for c, s, r, cn in zip(coefs, sense, rhs, const_names):\n",
    "    expr = lpSum([x[var_names[i]] * c[i] for i in range(2)])\n",
    "    model += LpConstraint(e=expr, sense = s, name = cn, rhs = r)\n",
    "    \n",
    "obj_coefs = [4,2]\n",
    "model += lpSum([x[var_names[i]] * obj_coefs[i] for i in range(2)])\n",
    "    \n",
    "model"
   ]
  },
  {
   "cell_type": "code",
   "execution_count": 17,
   "metadata": {},
   "outputs": [
    {
     "name": "stdout",
     "output_type": "stream",
     "text": [
      "status: 1, Optimal\n",
      "objective: 12.000000199999999\n",
      "1.6666667\n",
      "2.6666667\n"
     ]
    }
   ],
   "source": [
    "status = model.solve()\n",
    "print(f\"status: {model.status}, {LpStatus[model.status]}\")\n",
    "print(f\"objective: {model.objective.value()}\")\n",
    "for n in var_names: print(x[n].value())"
   ]
  },
  {
   "cell_type": "markdown",
   "metadata": {},
   "source": [
    "# Homework - use the PuLP library to solve the following OR problem "
   ]
  },
  {
   "cell_type": "markdown",
   "metadata": {},
   "source": [
    "Johnson & Sons company manufactures 6 types of toys. Each toy is produced by utilizing at least one Machine 1-4, requiring a different production time (see Table below). For instance, product A requires 4 minutes on Machine 1, 4 minutes on Machine 2, 0 Minutes on Machine 3, and 0 minutes on Machine 4 (all machines must be utilized to produce a toy unless the production time equals 0). Each machine is available for a different number of hours per week. The company aims to identify the number (product-mix) of toys that must be manufactured to maximize the income (can be continuous). Notably, each toy can be sold for a different price. Due to market expectations, the company wants to manufacture twice as many F toys as A. Furthermore, the number of toys B should equal C. Solve this problem using the PuLP library. Prepare a report (in the jupyter notebook) containing information on the following:\n",
    "<ol>\n",
    "<li>The number of toys to manufacture;</li>\n",
    "<li>The expected income;</li>\n",
    "<li>The production time required on each machine;</li>\n",
    "</ol>\n",
    "Consider the total and partial values, i.e., considered for each toy A-F separately (e.g., income resulting from selling toy A). Also, answer the following questions concerning the found solution:\n",
    "<ol>\n",
    "<li>Which toy(s) production should be focused on?  </li>\n",
    "<li>Is there a toy that can be excluded from consideration for production? </li>\n",
    "<li>Is there a machine that is not fully utilized?</li>\n",
    "</ol>"
   ]
  },
  {
   "cell_type": "markdown",
   "metadata": {},
   "source": [
    "| Toy | Machine 1 | Machine 2 | Machine 3 | Machine 4 | Selling price |\n",
    "| --- | --- | --- | --- | --- | --- |\n",
    "| A | 4 (minutes!) | 4 | 0 | 0 | 2.50 USD |\n",
    "| B | 0 | 3 | 3 | 0 | 1.00 USD |\n",
    "| C | 5 | 0 | 2 | 5 | 4.00 USD |\n",
    "| D | 2 | 4 | 0 | 4 | 3.00 USD |\n",
    "| E | 0 | 4 | 5 | 2 | 3.50 USD |\n",
    "| F | 2 | 2 | 1 | 1 | 4.00 USD |\n",
    "| Production time limit (hours!) | 120 | 60 |  80 |  120 |  |\n",
    "\n",
    "---------------------------"
   ]
  },
  {
   "cell_type": "markdown",
   "metadata": {},
   "source": [
    "### *Understanding the problem:*\n",
    "**Max Z = 2.5A + 1B + 4C + 3D + 3.5E + 4F** <br> <br>\n",
    "**Constraints:**\n",
    "1.  4A + 5C + 2D + 2F <= 60 * 120\n",
    "2.  4A + 3B + 4D + 4E + 2F <= 60 * 60\n",
    "3.  3B + 2C + 5E + 1F <= 60 * 80\n",
    "4.  5C + 4D + 2E + 1F <= 60 * 120\n",
    "\n",
    "5.  B=C -> B-C = 0\n",
    "6.  F=2A -> F-2A = 0\n",
    "\n",
    "and nonnegativity constraints: A,B,C,D,E,F >= 0\n",
    "\n",
    "-------------"
   ]
  },
  {
   "cell_type": "code",
   "execution_count": 18,
   "metadata": {},
   "outputs": [],
   "source": [
    "model = LpProblem(name = 'Johnson&Sons', sense = LpMaximize)"
   ]
  },
  {
   "cell_type": "code",
   "execution_count": 19,
   "metadata": {},
   "outputs": [],
   "source": [
    "# The decision variables - in this case they are Toys from A to F\n",
    "A = LpVariable(name=\"Toy_A\", lowBound=0, cat=LpInteger)\n",
    "B = LpVariable(name=\"Toy_B\", lowBound=0, cat=LpInteger)\n",
    "C = LpVariable(name=\"Toy_C\", lowBound=0, cat=LpInteger)\n",
    "D = LpVariable(name=\"Toy_D\", lowBound=0, cat=LpInteger)\n",
    "E = LpVariable(name=\"Toy_E\", lowBound=0, cat=LpInteger)\n",
    "F = LpVariable(name=\"Toy_F\", lowBound=0, cat=LpInteger)\n"
   ]
  },
  {
   "cell_type": "code",
   "execution_count": 20,
   "metadata": {},
   "outputs": [],
   "source": [
    "objective_function = 2.5 * A + 1 * B + 4 * C + 3 * D + 3.5 * E + 4 * F\n",
    "model += objective_function"
   ]
  },
  {
   "cell_type": "code",
   "execution_count": 21,
   "metadata": {},
   "outputs": [],
   "source": [
    "#constraints:\n",
    "model += (4 * A + 5 * C + 2 * D + 2 * F <= 60 * 120, \"#1 constraint\")\n",
    "model += (4 * A + 3 * B + 4 * D + 4 * E + 2 * F <= 60 * 60, \"#2 constraint\")\n",
    "model += (3 * B + 2 * C + 5 * E + 1 * F <= 60 * 80, \"#3 constraint\")\n",
    "model += (5 * C + 4 * D + 2 * E + 1 * F <= 60 * 120, \"#4 constraint\")\n",
    "model += (B - C == 0, \"#5 constraint\")\n",
    "model += (F - 2 * A == 0, \"#6 constraint\")"
   ]
  },
  {
   "cell_type": "code",
   "execution_count": 22,
   "metadata": {},
   "outputs": [
    {
     "data": {
      "text/plain": [
       "Johnson&Sons:\n",
       "MAXIMIZE\n",
       "2.5*Toy_A + 1*Toy_B + 4*Toy_C + 3*Toy_D + 3.5*Toy_E + 4*Toy_F + 0.0\n",
       "SUBJECT TO\n",
       "#1_constraint: 4 Toy_A + 5 Toy_C + 2 Toy_D + 2 Toy_F <= 7200\n",
       "\n",
       "#2_constraint: 4 Toy_A + 3 Toy_B + 4 Toy_D + 4 Toy_E + 2 Toy_F <= 3600\n",
       "\n",
       "#3_constraint: 3 Toy_B + 2 Toy_C + 5 Toy_E + Toy_F <= 4800\n",
       "\n",
       "#4_constraint: 5 Toy_C + 4 Toy_D + 2 Toy_E + Toy_F <= 7200\n",
       "\n",
       "#5_constraint: Toy_B - Toy_C = 0\n",
       "\n",
       "#6_constraint: - 2 Toy_A + Toy_F = 0\n",
       "\n",
       "VARIABLES\n",
       "0 <= Toy_A Integer\n",
       "0 <= Toy_B Integer\n",
       "0 <= Toy_C Integer\n",
       "0 <= Toy_D Integer\n",
       "0 <= Toy_E Integer\n",
       "0 <= Toy_F Integer"
      ]
     },
     "execution_count": 22,
     "metadata": {},
     "output_type": "execute_result"
    }
   ],
   "source": [
    "model"
   ]
  },
  {
   "cell_type": "markdown",
   "metadata": {},
   "source": [
    "### Now we may solve the Johnson&Sons problem"
   ]
  },
  {
   "cell_type": "code",
   "execution_count": 23,
   "metadata": {},
   "outputs": [
    {
     "name": "stdout",
     "output_type": "stream",
     "text": [
      "status: 1, Optimal\n",
      "objective: 5698.0\n",
      "\n",
      "#1_constraint: -1767.0\n",
      "#2_constraint: -1.0\n",
      "#3_constraint: -3.0\n",
      "#4_constraint: -2403.0\n",
      "#5_constraint: 0.0\n",
      "#6_constraint: 0.0\n"
     ]
    }
   ],
   "source": [
    "status = model.solve()\n",
    "print(f\"status: {model.status}, {LpStatus[model.status]}\")\n",
    "print(f\"objective: {model.objective.value()}\\n\")\n",
    "for name, constraint in model.constraints.items():  print(f\"{name}: {constraint.value()}\")"
   ]
  },
  {
   "cell_type": "code",
   "execution_count": 24,
   "metadata": {},
   "outputs": [
    {
     "data": {
      "text/plain": [
       "[Toy_A, Toy_B, Toy_C, Toy_D, Toy_E, Toy_F]"
      ]
     },
     "execution_count": 24,
     "metadata": {},
     "output_type": "execute_result"
    }
   ],
   "source": [
    "model.variables()"
   ]
  },
  {
   "cell_type": "code",
   "execution_count": 25,
   "metadata": {},
   "outputs": [
    {
     "name": "stdout",
     "output_type": "stream",
     "text": [
      "Value of variable Toy_A: 106.0\n",
      "Value of variable Toy_B: 917.0\n",
      "Value of variable Toy_C: 917.0\n",
      "Value of variable Toy_D: 0.0\n",
      "Value of variable Toy_E: 0.0\n",
      "Value of variable Toy_F: 212.0\n"
     ]
    }
   ],
   "source": [
    "for var in model.variables():\n",
    "    print(f'Value of variable {var}: {var.value()}')"
   ]
  },
  {
   "cell_type": "markdown",
   "metadata": {},
   "source": [
    "-----------"
   ]
  },
  {
   "cell_type": "markdown",
   "metadata": {},
   "source": [
    "### Amount of toys"
   ]
  },
  {
   "cell_type": "code",
   "execution_count": 26,
   "metadata": {},
   "outputs": [
    {
     "data": {
      "text/plain": [
       "2152.0"
      ]
     },
     "execution_count": 26,
     "metadata": {},
     "output_type": "execute_result"
    }
   ],
   "source": [
    "A.value() + B.value() + C.value() + D.value() + E.value() + F.value()"
   ]
  },
  {
   "cell_type": "markdown",
   "metadata": {},
   "source": [
    "### Summary for each toy"
   ]
  },
  {
   "cell_type": "code",
   "execution_count": 28,
   "metadata": {},
   "outputs": [
    {
     "name": "stdout",
     "output_type": "stream",
     "text": [
      "Number of toys A produced: 106.0\n",
      "Total profit from toys A: 265.0\n"
     ]
    }
   ],
   "source": [
    "#Toy A summary\n",
    "print(f'Number of toys A produced: {A.value()}')\n",
    "print(f'Total profit from toys A: {A.value() * 2.5}')"
   ]
  },
  {
   "cell_type": "code",
   "execution_count": 29,
   "metadata": {},
   "outputs": [
    {
     "name": "stdout",
     "output_type": "stream",
     "text": [
      "Number of toys B produced: 917.0\n",
      "Total profit from toys B: 917.0\n"
     ]
    }
   ],
   "source": [
    "#Toy B summary\n",
    "print(f'Number of toys B produced: {B.value()}')\n",
    "print(f'Total profit from toys B: {B.value() * 1}')"
   ]
  },
  {
   "cell_type": "code",
   "execution_count": 30,
   "metadata": {},
   "outputs": [
    {
     "name": "stdout",
     "output_type": "stream",
     "text": [
      "Number of toys C produced: 917.0\n",
      "Total profit from toys C: 3668.0\n"
     ]
    }
   ],
   "source": [
    "#Toy C summary\n",
    "print(f'Number of toys C produced: {C.value()}')\n",
    "print(f'Total profit from toys C: {C.value() * 4}')"
   ]
  },
  {
   "cell_type": "code",
   "execution_count": 31,
   "metadata": {},
   "outputs": [
    {
     "name": "stdout",
     "output_type": "stream",
     "text": [
      "Number of toys D produced: 0.0\n",
      "Total profit from toys D: 0.0\n"
     ]
    }
   ],
   "source": [
    "#Toy D summary\n",
    "print(f'Number of toys D produced: {D.value()}')\n",
    "print(f'Total profit from toys D: {D.value() * 3}')"
   ]
  },
  {
   "cell_type": "code",
   "execution_count": 32,
   "metadata": {},
   "outputs": [
    {
     "name": "stdout",
     "output_type": "stream",
     "text": [
      "Number of toys E produced: 0.0\n",
      "Total profit from toys E: 0.0\n"
     ]
    }
   ],
   "source": [
    "#Toy E summary\n",
    "print(f'Number of toys E produced: {E.value()}')\n",
    "print(f'Total profit from toys E: {E.value() * 3.5}')"
   ]
  },
  {
   "cell_type": "code",
   "execution_count": 33,
   "metadata": {},
   "outputs": [
    {
     "name": "stdout",
     "output_type": "stream",
     "text": [
      "Number of toys F produced: 212.0\n",
      "Total profit from toys F: 848.0\n"
     ]
    }
   ],
   "source": [
    "#Toy F summary\n",
    "print(f'Number of toys F produced: {F.value()}')\n",
    "print(f'Total profit from toys F: {F.value() * 4}')"
   ]
  },
  {
   "cell_type": "markdown",
   "metadata": {},
   "source": [
    "### Profit"
   ]
  },
  {
   "cell_type": "code",
   "execution_count": 34,
   "metadata": {},
   "outputs": [
    {
     "name": "stdout",
     "output_type": "stream",
     "text": [
      "Total profit: 5698.0\n"
     ]
    }
   ],
   "source": [
    "#Total profit summary\n",
    "print(f'Total profit: {model.objective.value()}')"
   ]
  },
  {
   "cell_type": "code",
   "execution_count": 35,
   "metadata": {},
   "outputs": [
    {
     "name": "stdout",
     "output_type": "stream",
     "text": [
      "Maximum profit of one toy type: 3668.0\n"
     ]
    }
   ],
   "source": [
    "#Maximum profit of a toy\n",
    "max_profit = max(A.value() * 2.5, B.value() * 1, C.value() * 4, D.value() * 3, E.value() * 3.5, F.value() * 4)\n",
    "print(f'Maximum profit of one toy type: {max_profit}')"
   ]
  },
  {
   "cell_type": "markdown",
   "metadata": {},
   "source": [
    "### The production time required on each machine"
   ]
  },
  {
   "cell_type": "code",
   "execution_count": 27,
   "metadata": {},
   "outputs": [
    {
     "name": "stdout",
     "output_type": "stream",
     "text": [
      "Constraint satisfied: True\n",
      "Time in minutes that machine 1 used for production: 5433.0\n",
      "Time that machine was unused: 1767.0\n"
     ]
    }
   ],
   "source": [
    "#first constraint -> Machine 1\n",
    "print(f'Constraint satisfied: {4 * A.value() + 5 * C.value() + 2 * D.value() + 2 * F.value() <= 60 * 120}')\n",
    "print(f'Time in minutes that machine 1 used for production: {4 * A.value() + 5 * C.value() + 2 * D.value() + 2 * F.value()}')\n",
    "print(f'Time that machine was unused: {(60 * 120) - (4 * A.value() + 5 * C.value() + 2 * D.value() + 2 * F.value())}')\n"
   ]
  },
  {
   "cell_type": "code",
   "execution_count": 28,
   "metadata": {},
   "outputs": [
    {
     "name": "stdout",
     "output_type": "stream",
     "text": [
      "Constraint satisfied: True\n",
      "Time in minutes that machine 1 used for production: 3599.0\n",
      "Time that machine was unused: 1.0\n"
     ]
    }
   ],
   "source": [
    "#second constraint -> Machine 2\n",
    "print(f'Constraint satisfied: {4 * A.value() + 3 * B.value() + 4 * D.value() + 4 * E.value() + 2 * F.value() <= 60 * 60}')\n",
    "print(f'Time in minutes that machine 2 used for production: {4 * A.value() + 3 * B.value() + 4 * D.value() + 4 * E.value() + 2 * F.value()}')\n",
    "print(f'Time that machine was unused: {(60 * 60) - (4 * A.value() + 3 * B.value() + 4 * D.value() + 4 * E.value() + 2 * F.value())}')"
   ]
  },
  {
   "cell_type": "code",
   "execution_count": 29,
   "metadata": {},
   "outputs": [
    {
     "name": "stdout",
     "output_type": "stream",
     "text": [
      "Constraint satisfied: True\n",
      "Time in minutes that machine 1 used for production: 4797.0\n",
      "Time that machine was unused: 3.0\n"
     ]
    }
   ],
   "source": [
    "#third constraint -> Machine 3\n",
    "print(f'Constraint satisfied: {3 * B.value() + 2 * C.value() + 5 * E.value() + 1 * F.value() <= 60 * 80}')\n",
    "print(f'Time in minutes that machine 3 used for production: {3 * B.value() + 2 * C.value() + 5 * E.value() + 1 * F.value()}')\n",
    "print(f'Time that machine was unused: {(60 * 80) - (3 * B.value() + 2 * C.value() + 5 * E.value() + 1 * F.value())}')"
   ]
  },
  {
   "cell_type": "code",
   "execution_count": 30,
   "metadata": {},
   "outputs": [
    {
     "name": "stdout",
     "output_type": "stream",
     "text": [
      "Constraint satisfied: True\n",
      "Time in minutes that machine 1 used for production: 4797.0\n",
      "Time that machine was unused: 2403.0\n"
     ]
    }
   ],
   "source": [
    "#fourth constraint -> Machine 4\n",
    "print(f'Constraint satisfied: {5 * C.value() + 4 * D.value() + 2 * E.value() + 1 * F.value() <= 60 * 120}')\n",
    "print(f'Time in minutes that machine 4 used for production: {5 * C.value() + 4 * D.value() + 2 * E.value() + 1 * F.value()}')\n",
    "print(f'Time that machine was unused: {(60 * 120) - (5 * C.value() + 4 * D.value() + 2 * E.value() + 1 * F.value())}')"
   ]
  },
  {
   "cell_type": "code",
   "execution_count": 38,
   "metadata": {},
   "outputs": [
    {
     "data": {
      "text/plain": [
       "848.0"
      ]
     },
     "execution_count": 40,
     "metadata": {},
     "output_type": "execute_result"
    }
   ],
   "source": [
    "F.value()*4"
   ]
  },
  {
   "cell_type": "markdown",
   "metadata": {},
   "source": [
    "## Raport \n",
    "\n",
    "### 1) Income&Toys\n",
    "The company Johnson & Sons will produce: 2152 toys,earning **5698.00 USD**; <br> more specifically:\n",
    "\n",
    "| Toy | Number of toys | Profit per toy | Profit per toy type |\n",
    "| --- | --- | --- | --- | \n",
    "| A | 106 | 2.50 USD | 265.00 USD | \n",
    "| B | 917 | 1.00 USD | 917.00 USD |\n",
    "| C | 917 | 4.00 USD | 3668.00 USD |\n",
    "| D | 0 | 3.00 USD | 0.00 USD | \n",
    "| E | 0 | 3.50 USD | 0.00 USD | \n",
    "| F | 212 | 4.00 USD | 848.00 USD | \n",
    "\n",
    "### 2) Machines\n",
    "\n",
    "| Machine | Time Used (minutes)| Time Unused (minutes)| Total (hours) |\n",
    "| --- | --- | --- | --- | \n",
    "| Machine 1 | 5433 | 1767 | 120 |\n",
    "| Machine 2 | 3599 | 1 | 60 |\n",
    "| Machine 3 | 4797 | 3 | 80 | \n",
    "| Machine 4 | 4797 | 2403 | 120 |\n",
    "\n",
    "\n",
    "### 3) Questions\n",
    "1. I will consider 2 ways; <br>\n",
    "The focus may be put on production of toy F, since it is most profitable, giving 4.00 USD for one toy, as well as toy C; but toy F requires way less resources, i.e. it needs only 6 time units from the machines, wheras toy C requires 12 time units.<br>\n",
    "Also we have the constraint that the F toy has to be produced in doubled amout of toy A, and they take 6 and 8 time units respectively; on the other hand we have also the constarint that toy C has to be created in the same amout as toy B and they take 12 and 6 time units respectively. <br> \n",
    "But after the time constraints on every machine we do actually get that the toy C is the most profitable one.<br>\n",
    "So the focus should be put on toy C and toy F.\n",
    "2. Yes, we can exclude from the considerations toys D&E, since based on the calculations actually none of them will be produced in the problem when we want to maximize the Johnson & Sons income.\n",
    "3. Yes, the machine that was not fully utalized was Machine1 (with Time that machine was unused: 1767.0) and Machine4 (with Time that machine was unused: 2403.0). <br>\n",
    "Machine2 and Machine3 are almost fully utalized, even though they do have the negative constraints -1 and -3 respectively, one and 3 minutes are not a big difference.<br>\n",
    "So overall we may lower the production time limits on machines by the values that they are not used, so by the constraints that are negative.  "
   ]
  }
 ],
 "metadata": {
  "kernelspec": {
   "display_name": "Python 3",
   "language": "python",
   "name": "python3"
  },
  "language_info": {
   "codemirror_mode": {
    "name": "ipython",
    "version": 3
   },
   "file_extension": ".py",
   "mimetype": "text/x-python",
   "name": "python",
   "nbconvert_exporter": "python",
   "pygments_lexer": "ipython3",
   "version": "3.10.7"
  }
 },
 "nbformat": 4,
 "nbformat_minor": 4
}
