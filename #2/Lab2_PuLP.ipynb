{
 "cells": [
  {
   "cell_type": "markdown",
   "metadata": {},
   "source": [
    "# Lab2 - PuLP Library"
   ]
  },
  {
   "cell_type": "markdown",
   "metadata": {},
   "source": [
    "<b>Information on group members:</b><br>\n",
    "1) Student ID, Name and last name <br>\n",
    "2) Student ID, Name and last name"
   ]
  },
  {
   "cell_type": "code",
   "execution_count": 1,
   "metadata": {},
   "outputs": [],
   "source": [
    "from pulp import *  \n",
    "import numpy as np\n",
    "import pandas as pd"
   ]
  },
  {
   "cell_type": "markdown",
   "metadata": {},
   "source": [
    "## Introduction - brief tutorial on PuLP"
   ]
  },
  {
   "cell_type": "code",
   "execution_count": 2,
   "metadata": {},
   "outputs": [],
   "source": [
    "# Create an LpProblem instance; LpMaximize = objective function is to be maximized\n",
    "model = LpProblem(name=\"some-problem\", sense=LpMaximize)"
   ]
  },
  {
   "cell_type": "code",
   "execution_count": 3,
   "metadata": {},
   "outputs": [],
   "source": [
    "# Initialize the decision variables. We can set the name and lower bound as well.\n",
    "# To create an array of variables, you can use comprehensions of LpProblem.dicts.\n",
    "\n",
    "x1 = LpVariable(name=\"x1\", lowBound=0)\n",
    "x2 = LpVariable(name=\"x2\", lowBound=0)"
   ]
  },
  {
   "cell_type": "code",
   "execution_count": 4,
   "metadata": {},
   "outputs": [
    {
     "data": {
      "text/plain": [
       "pulp.pulp.LpAffineExpression"
      ]
     },
     "execution_count": 4,
     "metadata": {},
     "output_type": "execute_result"
    }
   ],
   "source": [
    "# An example expression\n",
    "expression = 3 * x1 + 2 * x2\n",
    "type(expression)"
   ]
  },
  {
   "cell_type": "code",
   "execution_count": 5,
   "metadata": {},
   "outputs": [
    {
     "data": {
      "text/plain": [
       "pulp.pulp.LpConstraint"
      ]
     },
     "execution_count": 5,
     "metadata": {},
     "output_type": "execute_result"
    }
   ],
   "source": [
    "# An example constraint\n",
    "constraint = 2 * x1 + 3 * x2 >= 5\n",
    "type(constraint)"
   ]
  },
  {
   "cell_type": "markdown",
   "metadata": {},
   "source": [
    "Ok, let's now use PuLP to solve the below problem:\n",
    "$max$ $4x_1 + 2x_2$ <br>\n",
    "s.t.<br>\n",
    "     $1x_1 + 1x_2 \\geq 1$ <br>\n",
    "     $2x_1 + 1x_2 \\leq 6$ <br>\n",
    "     $-1x_1 + x_2 = 1$ <br>\n",
    "     $x_1 \\geq 0$ <br>\n",
    "     $x_2 \\geq 0$ "
   ]
  },
  {
   "cell_type": "code",
   "execution_count": 6,
   "metadata": {},
   "outputs": [
    {
     "data": {
      "text/plain": [
       "test-problem:\n",
       "MAXIMIZE\n",
       "4*x1 + 2*x2 + 0\n",
       "SUBJECT TO\n",
       "#1_constraint: x1 + x2 >= 1\n",
       "\n",
       "#2_constraint: 2 x1 + x2 <= 6\n",
       "\n",
       "#3_constraint: - x1 + x2 = 1\n",
       "\n",
       "VARIABLES\n",
       "x1 Continuous\n",
       "x2 Continuous"
      ]
     },
     "execution_count": 6,
     "metadata": {},
     "output_type": "execute_result"
    }
   ],
   "source": [
    "# Problem\n",
    "model = LpProblem(name=\"test-problem\", sense=LpMaximize)\n",
    "\n",
    "x1 = LpVariable(name=\"x1\", lowBound=0)\n",
    "x2 = LpVariable(name=\"x2\", lowBound=0)\n",
    "\n",
    "model += (1 * x1 + 1*x2 >= 1, \"#1 constraint\")\n",
    "model += (2 * x1 + 1*x2 <= 6, \"#2 constraint\")\n",
    "model += (-1 * x1 + 1*x2 == 1, \"#3 constraint\")\n",
    "\n",
    "# Objective function\n",
    "obj_func = 4*x1 + 2 * x2\n",
    "model += obj_func\n",
    "\n",
    "model"
   ]
  },
  {
   "cell_type": "code",
   "execution_count": 7,
   "metadata": {},
   "outputs": [],
   "source": [
    "# Solve the problem\n",
    "status = model.solve()"
   ]
  },
  {
   "cell_type": "code",
   "execution_count": 8,
   "metadata": {},
   "outputs": [
    {
     "name": "stdout",
     "output_type": "stream",
     "text": [
      "status: 1, Optimal\n"
     ]
    }
   ],
   "source": [
    "# Print status\n",
    "print(f\"status: {model.status}, {LpStatus[model.status]}\")"
   ]
  },
  {
   "cell_type": "code",
   "execution_count": 9,
   "metadata": {},
   "outputs": [
    {
     "name": "stdout",
     "output_type": "stream",
     "text": [
      "objective: 12.000000199999999\n"
     ]
    }
   ],
   "source": [
    "# Print objective value\n",
    "print(f\"objective: {model.objective.value()}\")"
   ]
  },
  {
   "cell_type": "code",
   "execution_count": 10,
   "metadata": {},
   "outputs": [
    {
     "name": "stdout",
     "output_type": "stream",
     "text": [
      "#1_constraint: 3.3333334\n",
      "#2_constraint: 9.999999983634211e-08\n",
      "#3_constraint: 0.0\n"
     ]
    }
   ],
   "source": [
    "# Print constraint values\n",
    "for name, constraint in model.constraints.items():  print(f\"{name}: {constraint.value()}\")"
   ]
  },
  {
   "cell_type": "code",
   "execution_count": 11,
   "metadata": {},
   "outputs": [
    {
     "data": {
      "text/plain": [
       "[x1, x2]"
      ]
     },
     "execution_count": 11,
     "metadata": {},
     "output_type": "execute_result"
    }
   ],
   "source": [
    "model.variables()"
   ]
  },
  {
   "cell_type": "code",
   "execution_count": 12,
   "metadata": {},
   "outputs": [
    {
     "name": "stdout",
     "output_type": "stream",
     "text": [
      "1.6666667\n",
      "2.6666667\n"
     ]
    }
   ],
   "source": [
    "print(x1.value())\n",
    "print(x2.value())"
   ]
  },
  {
   "cell_type": "markdown",
   "metadata": {},
   "source": [
    "### The same code but using dictionaries and other nice tricks\n"
   ]
  },
  {
   "cell_type": "code",
   "execution_count": 13,
   "metadata": {},
   "outputs": [],
   "source": [
    "model = LpProblem(name=\"some-problem\", sense=LpMaximize)"
   ]
  },
  {
   "cell_type": "code",
   "execution_count": 14,
   "metadata": {},
   "outputs": [
    {
     "data": {
      "text/plain": [
       "{'First': x_First, 'Second': x_Second}"
      ]
     },
     "execution_count": 14,
     "metadata": {},
     "output_type": "execute_result"
    }
   ],
   "source": [
    "var_names = [\"First\", \"Second\"]\n",
    "x = LpVariable.dicts(\"x\", var_names, 0)\n",
    "x"
   ]
  },
  {
   "cell_type": "code",
   "execution_count": 15,
   "metadata": {},
   "outputs": [
    {
     "data": {
      "text/plain": [
       "some-problem:\n",
       "MAXIMIZE\n",
       "4*x_First + 2*x_Second + 0\n",
       "SUBJECT TO\n",
       "GE: x_First + x_Second >= 1\n",
       "\n",
       "LE: 2 x_First + x_Second <= 6\n",
       "\n",
       "EQ: - x_First + x_Second = 1\n",
       "\n",
       "VARIABLES\n",
       "x_First Continuous\n",
       "x_Second Continuous"
      ]
     },
     "execution_count": 15,
     "metadata": {},
     "output_type": "execute_result"
    }
   ],
   "source": [
    "const_names = [\"GE\", \"LE\", \"EQ\"]\n",
    "sense = [1, -1, 0] # GE, LE, EQ\n",
    "coefs = [[1,1],[2,1],[-1,1]] # Matrix coefs\n",
    "rhs = [1, 6, 1] \n",
    "\n",
    "for c, s, r, cn in zip(coefs, sense, rhs, const_names):\n",
    "    expr = lpSum([x[var_names[i]] * c[i] for i in range(2)])\n",
    "    model += LpConstraint(e=expr, sense = s, name = cn, rhs = r)\n",
    "    \n",
    "obj_coefs = [4,2]\n",
    "model += lpSum([x[var_names[i]] * obj_coefs[i] for i in range(2)])\n",
    "    \n",
    "model"
   ]
  },
  {
   "cell_type": "code",
   "execution_count": 16,
   "metadata": {},
   "outputs": [
    {
     "name": "stdout",
     "output_type": "stream",
     "text": [
      "status: 1, Optimal\n",
      "objective: 12.000000199999999\n",
      "1.6666667\n",
      "2.6666667\n"
     ]
    }
   ],
   "source": [
    "status = model.solve()\n",
    "print(f\"status: {model.status}, {LpStatus[model.status]}\")\n",
    "print(f\"objective: {model.objective.value()}\")\n",
    "for n in var_names: print(x[n].value())"
   ]
  },
  {
   "cell_type": "markdown",
   "metadata": {},
   "source": [
    "# Homework - use the PuLP library to solve the following OR problem "
   ]
  },
  {
   "cell_type": "markdown",
   "metadata": {},
   "source": [
    "Johnson & Sons company manufactures 6 types of toys. Each toy is produced by utilizing at least one Machine 1-4, requiring a different production time (see Table below). For instance, product A requires 4 minutes on Machine 1, 4 minutes on Machine 2, 0 Minutes on Machine 3, and 0 minutes on Machine 4 (all machines must be utilized to produce a toy unless the production time equals 0). Each machine is available for a different number of hours per week. The company aims to identify the number (product-mix) of toys that must be manufactured to maximize the income (can be continuous). Notably, each toy can be sold for a different price. Due to market expectations, the company wants to manufacture twice as many F toys as A. Furthermore, the number of toys B should equal C. Solve this problem using the PuLP library. Prepare a report (in the jupyter notebook) containing information on the following:\n",
    "<ol>\n",
    "<li>The number of toys to manufacture;</li>\n",
    "<li>The expected income;</li>\n",
    "<li>The production time required on each machine;</li>\n",
    "</ol>\n",
    "Consider the total and partial values, i.e., considered for each toy A-F separately (e.g., income resulting from selling toy A). Also, answer the following questions concerning the found solution:\n",
    "<ol>\n",
    "<li>Which toy(s) production should be focused on?  </li>\n",
    "<li>Is there a toy that can be excluded from consideration for production? </li>\n",
    "<li>Is there a machine that is not fully utilized?</li>\n",
    "</ol>"
   ]
  },
  {
   "cell_type": "markdown",
   "metadata": {},
   "source": [
    "| Toy | Machine 1 | Machine 2 | Machine 3 | Machine 4 | Selling price |\n",
    "| --- | --- | --- | --- | --- | --- |\n",
    "| A | 4 (minutes!) | 4 | 0 | 0 | 2.50 USD |\n",
    "| B | 0 | 3 | 3 | 0 | 1.00 USD |\n",
    "| C | 5 | 0 | 2 | 5 | 4.00 USD |\n",
    "| D | 2 | 4 | 0 | 4 | 3.00 USD |\n",
    "| E | 0 | 4 | 5 | 2 | 3.50 USD |\n",
    "| F | 2 | 2 | 1 | 1 | 4.00 USD |\n",
    "| Production time limit (hours!) | 120 | 60 |  80 |  120 |  |"
   ]
  }
 ],
 "metadata": {
  "kernelspec": {
   "display_name": "Python 3 (ipykernel)",
   "language": "python",
   "name": "python3"
  },
  "language_info": {
   "codemirror_mode": {
    "name": "ipython",
    "version": 3
   },
   "file_extension": ".py",
   "mimetype": "text/x-python",
   "name": "python",
   "nbconvert_exporter": "python",
   "pygments_lexer": "ipython3",
   "version": "3.9.7"
  }
 },
 "nbformat": 4,
 "nbformat_minor": 4
}
