{
 "cells": [
  {
   "cell_type": "markdown",
   "metadata": {},
   "source": [
    "# Lab 6 - Network Optimization Models - The Minimum Spanning Tree Problem"
   ]
  },
  {
   "cell_type": "markdown",
   "metadata": {},
   "source": [
    "<b>Information on group members:</b><br>\n",
    "1) Student ID, Name and last name <br>\n",
    "2) Student ID, Name and last name"
   ]
  },
  {
   "cell_type": "code",
   "execution_count": null,
   "metadata": {},
   "outputs": [],
   "source": [
    "%matplotlib inline\n",
    "import csv\n",
    "import matplotlib.pyplot as plt"
   ]
  },
  {
   "cell_type": "markdown",
   "metadata": {},
   "source": [
    "1.1) Get acquainted with the below \"City\" class definition. It has three major fields: name, city's longitude, and latitude. The coordinate's input is in the format \"00°00'E/N,\" and it is converted to a list [degrees, minutes]. Also, these coordinates are also simply converted and stored as x and y coordinates. "
   ]
  },
  {
   "cell_type": "code",
   "execution_count": null,
   "metadata": {
    "scrolled": false
   },
   "outputs": [],
   "source": [
    "class City:\n",
    "    def __init__(self, name, long, lat):\n",
    "        self.name = name\n",
    "        self.long = [float(long.split(\"°\")[0]), float(long.split(\"°\")[1].replace(\"'\",'').replace(\"E\",''))]\n",
    "        self.x = self.long[0]*60 + self.long[1]\n",
    "        self.lat = [float(lat.split(\"°\")[0]), float(lat.split(\"°\")[1].replace(\"'\",'').replace(\"N\",''))]  \n",
    "        self.y = self.lat[0]*60 + self.lat[1]\n",
    "       \n",
    "    def __repr__(self):\n",
    "        return str(self.name) + \" \" + str(self.lat) + \" \" + str(self.long)"
   ]
  },
  {
   "cell_type": "markdown",
   "metadata": {},
   "source": [
    "1.2) The below piece of code loads cities data from the cities.csv file and creates a list of cities. "
   ]
  },
  {
   "cell_type": "code",
   "execution_count": null,
   "metadata": {},
   "outputs": [],
   "source": [
    "cities = []\n",
    "\n",
    "with open('cities.csv', newline='', encoding=\"utf-8\") as csvfile:\n",
    "    r = csv.reader(csvfile, delimiter=',', quotechar='|')\n",
    "    for row in r:\n",
    "        cities.append(City(row[0], row[1], row[2]))\n",
    "        \n",
    "for c in cities[:10]: ### TEST\n",
    "    print(c)"
   ]
  },
  {
   "cell_type": "markdown",
   "metadata": {},
   "source": [
    "1.3) The function below plots all cities according to their X and Y coordinates. Note that there are so many cities that Poland's boundaries can be observed. Feel free to modify the code. The unrequired input \"edges\" is a list of pairs of indices indicating edges to be drawn. "
   ]
  },
  {
   "cell_type": "code",
   "execution_count": null,
   "metadata": {
    "scrolled": false
   },
   "outputs": [],
   "source": [
    "### TODO DEL GRADIENT\n",
    "def plotMap(cities, edges=[]):\n",
    "    fig=plt.figure(figsize=(6,6), dpi= 100, facecolor='w', edgecolor='k')\n",
    "    \n",
    "    for i, e in enumerate(edges):\n",
    "        color=\"red\"\n",
    "        X = [cities[e[0]].x, cities[e[1]].x]\n",
    "        Y = [cities[e[0]].y, cities[e[1]].y]\n",
    "        plt.plot(X, Y, lw=1, ls=\"-\", marker=\"\", color=color)\n",
    "        \n",
    "    X = [c.x for c in cities]\n",
    "    Y = [c.y for c in cities]\n",
    "    plt.plot(X, Y, ms=2, ls=\"\", marker=\"o\")\n",
    "    \n",
    "    plt.show()\n",
    "\n",
    "plotMap(cities, edges=[[1,200]])"
   ]
  },
  {
   "cell_type": "markdown",
   "metadata": {},
   "source": [
    "1.3) The dataset consists of 2249 cities. It may be too much when it comes to implementing the algorithm for constructing the minimum spanning tree (computational burden). Therefore, you can consider only every n-th row from the dataset to ensure that the computations will be completed in a reasonable time. "
   ]
  },
  {
   "cell_type": "code",
   "execution_count": null,
   "metadata": {},
   "outputs": [],
   "source": [
    "n = 3\n",
    "cities_small = cities[2::n]\n",
    "plotMap(cities_small, edges=[[0,200]])"
   ]
  },
  {
   "cell_type": "markdown",
   "metadata": {},
   "source": [
    "1.4) Finish the function below for constructing a distance matrix. Each i-th row should contain distances from the i-th city to other cities. For convenience and to improve the algorithm's computational complexity for constructing the spanning tree, it is suggested to keep rows sorted according to distance. Rows may contain information on the j-th indices of the respective destinations along with the distances in a tuple (j-th indice, distance). \n",
    "\n",
    "You can use the Euclidean distance for computations. You can use the x and .y fields that store the geographical coordinates. This way of formulating a distance does not have much sense because the computation would be based on angles. Nonetheless, it is allowed in this exercise to do so, but if you wish, you can calculate the distances correctly by computing arc lengths between two points on a sphere - Earth. "
   ]
  },
  {
   "cell_type": "code",
   "execution_count": null,
   "metadata": {},
   "outputs": [],
   "source": [
    "def getSortedDistances(cities):\n",
    "    ### TODO\n",
    "    return D\n",
    "\n",
    "D = getSortedDistances(cities_small)\n",
    "print(D[0][:5])"
   ]
  },
  {
   "cell_type": "markdown",
   "metadata": {},
   "source": [
    "1.5) Auxiliary function for finding a corresponding index in the data set for a provided city name. "
   ]
  },
  {
   "cell_type": "code",
   "execution_count": null,
   "metadata": {},
   "outputs": [],
   "source": [
    "def getIdx(name, cities):\n",
    "    for i, c in enumerate(cities):\n",
    "        if name == c.name: return i\n",
    "    return None\n",
    "\n",
    "print(getIdx(\"Hel\", cities_small))"
   ]
  },
  {
   "cell_type": "markdown",
   "metadata": {},
   "source": [
    "1.6) Complete the below greedy algorithm for constructing the minimum spanning tree. As an input, it should return a list of edges of the constructed subgraph, which can then be used in the plotMap function to show the tree structure. You can set the city of Hel as an initial node. "
   ]
  },
  {
   "cell_type": "code",
   "execution_count": null,
   "metadata": {},
   "outputs": [],
   "source": [
    "def getSpanningTree(stratingNode, cities, D):\n",
    "    N = len(cities)\n",
    "    IN_TREE = set([stratingNode])\n",
    "    ### TODO \n",
    "    edges = [[] for i in range(N - 1)]\n",
    "    return edges\n",
    "\n",
    "edges = getSpanningTree(getIdx(\"Hel\", cities_small), cities_small, D)\n",
    "plotMap(cities_small, edges=edges)"
   ]
  },
  {
   "cell_type": "markdown",
   "metadata": {},
   "source": [
    "1.6) Modify the code so that it displays the results after 10 intermediate steps. In this way, you can get a better insight into how the algorithm constructs the spanning tree. Additionally, you can use, e.g., a gradient to distinguish between different iterations of the algorithm when plotting the map (e.g., 1-st iteration = 100% red, last iteration == 100% green). "
   ]
  },
  {
   "cell_type": "code",
   "execution_count": null,
   "metadata": {},
   "outputs": [],
   "source": [
    "# TODO"
   ]
  }
 ],
 "metadata": {
  "kernelspec": {
   "display_name": "Python 3",
   "language": "python",
   "name": "python3"
  },
  "language_info": {
   "codemirror_mode": {
    "name": "ipython",
    "version": 3
   },
   "file_extension": ".py",
   "mimetype": "text/x-python",
   "name": "python",
   "nbconvert_exporter": "python",
   "pygments_lexer": "ipython3",
   "version": "3.8.5"
  }
 },
 "nbformat": 4,
 "nbformat_minor": 4
}
