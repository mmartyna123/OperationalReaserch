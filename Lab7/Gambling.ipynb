{
 "cells": [
  {
   "cell_type": "markdown",
   "metadata": {},
   "source": [
    "# Lab 7 - Dynamic Programming - Gambling case (for the mark of 3)"
   ]
  },
  {
   "cell_type": "markdown",
   "metadata": {},
   "source": [
    "Information on group members:\n",
    "\n",
    "1) Student ID, Name and last name <br>\n",
    "2) Student ID, Name and last name"
   ]
  },
  {
   "cell_type": "code",
   "execution_count": null,
   "metadata": {},
   "outputs": [],
   "source": [
    "import numpy as np"
   ]
  },
  {
   "cell_type": "markdown",
   "metadata": {},
   "source": [
    "1.1) This exercise is inspired by Ex. 3 in the Exercises.pdf file. You are going to participate in a game consisting of G consecutive games. You start with D dollars. At each game, you may bet any number of dollars you have. The probability of winning one game is defined as P. Your goal is to have <b> at least </b> E dollars at the end of the game. The default parameter values are given below:"
   ]
  },
  {
   "cell_type": "code",
   "execution_count": null,
   "metadata": {},
   "outputs": [],
   "source": [
    "# probability of winning\n",
    "P = 1/2\n",
    "\n",
    "# number of games\n",
    "G = 3\n",
    "\n",
    "# required number of dollars after g games (at least E)\n",
    "E = 4\n",
    "\n",
    "# starting dollars\n",
    "S = 2"
   ]
  },
  {
   "cell_type": "markdown",
   "metadata": {},
   "source": [
    "1.2) Use dynamic programming to solve the problem. Optional: return the example set of optimal decisions as well and illustrate them using a decision tree. "
   ]
  },
  {
   "cell_type": "markdown",
   "metadata": {},
   "source": [
    "1.3) Analyze how the obtained probability of achieving the goal changes for various parameter settings (P, G, E, S). "
   ]
  },
  {
   "cell_type": "code",
   "execution_count": null,
   "metadata": {},
   "outputs": [],
   "source": []
  },
  {
   "cell_type": "code",
   "execution_count": null,
   "metadata": {},
   "outputs": [],
   "source": []
  }
 ],
 "metadata": {
  "kernelspec": {
   "display_name": "Python 3 (ipykernel)",
   "language": "python",
   "name": "python3"
  },
  "language_info": {
   "codemirror_mode": {
    "name": "ipython",
    "version": 3
   },
   "file_extension": ".py",
   "mimetype": "text/x-python",
   "name": "python",
   "nbconvert_exporter": "python",
   "pygments_lexer": "ipython3",
   "version": "3.9.7"
  }
 },
 "nbformat": 4,
 "nbformat_minor": 4
}
